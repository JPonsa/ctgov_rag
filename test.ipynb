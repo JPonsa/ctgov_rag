{
 "cells": [
  {
   "cell_type": "code",
   "execution_count": 1,
   "metadata": {},
   "outputs": [
    {
     "name": "stdout",
     "output_type": "stream",
     "text": [
      "[START] {completion} [END]\n",
      "[START] {messages_str} [END]\n"
     ]
    }
   ],
   "source": [
    "def generate_function(stop):\n",
    "    def completion_to_prompt(completion: str) -> str:\n",
    "        return f\"{stop[0]} {completion} {stop[1]} \"\n",
    "\n",
    "    def messages_to_prompt(messages: list) -> str:\n",
    "        messages_str = \"\\n\".join(str(x) for x in messages)\n",
    "        return f\"{stop[0]} {messages_str} {stop[1]} \"\n",
    "    \n",
    "    return completion_to_prompt, messages_to_prompt\n",
    "\n",
    "stop_list = [\"[START]\", \"[END]\"]\n",
    "completion_to_prompt, messages_to_prompt = generate_function(stop_list)\n",
    "\n",
    "print(completion_to_prompt(\"Hello\"))\n",
    "print(messages_to_prompt([\"Message 1\", \"Message 2\"]))"
   ]
  },
  {
   "cell_type": "code",
   "execution_count": 3,
   "metadata": {},
   "outputs": [
    {
     "ename": "TypeError",
     "evalue": "generate_function.<locals>.completion_to_prompt() missing 1 required positional argument: 'completion'",
     "output_type": "error",
     "traceback": [
      "\u001b[1;31m---------------------------------------------------------------------------\u001b[0m",
      "\u001b[1;31mTypeError\u001b[0m                                 Traceback (most recent call last)",
      "Cell \u001b[1;32mIn[3], line 1\u001b[0m\n\u001b[1;32m----> 1\u001b[0m \u001b[43mcompletion_to_prompt\u001b[49m\u001b[43m(\u001b[49m\u001b[43m)\u001b[49m\n",
      "\u001b[1;31mTypeError\u001b[0m: generate_function.<locals>.completion_to_prompt() missing 1 required positional argument: 'completion'"
     ]
    }
   ],
   "source": [
    "completion_to_prompt."
   ]
  },
  {
   "cell_type": "code",
   "execution_count": null,
   "metadata": {},
   "outputs": [],
   "source": []
  }
 ],
 "metadata": {
  "kernelspec": {
   "display_name": ".venv",
   "language": "python",
   "name": "python3"
  },
  "language_info": {
   "codemirror_mode": {
    "name": "ipython",
    "version": 3
   },
   "file_extension": ".py",
   "mimetype": "text/x-python",
   "name": "python",
   "nbconvert_exporter": "python",
   "pygments_lexer": "ipython3",
   "version": "3.11.5"
  }
 },
 "nbformat": 4,
 "nbformat_minor": 2
}
