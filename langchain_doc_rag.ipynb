{
 "cells": [
  {
   "cell_type": "markdown",
   "metadata": {},
   "source": [
    "https://www.youtube.com/watch?v=E2shqsYwxck&t=1077s"
   ]
  },
  {
   "cell_type": "code",
   "execution_count": 2,
   "metadata": {},
   "outputs": [],
   "source": [
    "from src.utils.utils import get_clinical_trial_study\n",
    "from langchain_text_splitters import RecursiveJsonSplitter\n",
    "from langchain_community.vectorstores import Chroma\n",
    "from langchain_community.embeddings import GPT4AllEmbeddings\n",
    "import pandas as pd"
   ]
  },
  {
   "cell_type": "code",
   "execution_count": 3,
   "metadata": {},
   "outputs": [],
   "source": [
    "splitter = RecursiveJsonSplitter(max_chunk_size=300)"
   ]
  },
  {
   "cell_type": "code",
   "execution_count": 4,
   "metadata": {},
   "outputs": [],
   "source": [
    "studies = {}\n",
    "\n",
    "tmp = pd.read_csv(\"./data/raw/knowledge_graph/ClinicalTrial-part000.csv\", sep=\"\\t\", header=None)\n",
    "for i, t in enumerate(tmp[0].values):\n",
    "    studies[t] = get_clinical_trial_study(t)\n",
    "    if i > 100:\n",
    "        break\n",
    "    "
   ]
  },
  {
   "cell_type": "code",
   "execution_count": 6,
   "metadata": {},
   "outputs": [],
   "source": [
    "docs = splitter.create_documents(texts=[studies])"
   ]
  },
  {
   "cell_type": "code",
   "execution_count": 9,
   "metadata": {},
   "outputs": [],
   "source": [
    "embedding = GPT4AllEmbeddings()\n",
    "\n",
    "vectorstore  = Chroma.from_documents(documents=docs, collection_name=\"test-rag\", embedding=embedding)\n",
    "retriever  = vectorstore.as_retriever()"
   ]
  },
  {
   "cell_type": "code",
   "execution_count": 12,
   "metadata": {},
   "outputs": [
    {
     "data": {
      "text/plain": [
       "[Document(page_content='{\"NCT00641472\": {\"protocolSection\": {\"eligibilityModule\": {\"eligibilityCriteria\": \"Inclusion Criteria:\\\\n\\\\n* Aged 2 to 8 at study entry\\\\n* At least 3 episodes of wheezing in the previous year that lasted more than 24 hours and affected sleep or symptoms of mild persistent asthma\\\\n* use of b-2 agonist treatment on at least 3 of 7 consecutive days or run in\\\\n\\\\nExclusion Criteria:\\\\n\\\\n* Severe or unstable asthma\\\\n* any significant finding at a physical exam\\\\n* an exacerbation of asthma in the 30 days before entering the study that might affect study results in judgement of the study doctor\"}}}}'),\n",
       " Document(page_content='{\"NCT02370004\": {\"protocolSection\": {\"eligibilityModule\": {\"eligibilityCriteria\": \"Inclusion Criteria:\\\\n\\\\n* Male and female patients, age \\\\u2265 18 yrs\\\\n* Physician-diagnosed asthma\\\\n* Currently taking asthma medications\\\\n* Asthma Control Questionnaire (ACQ) score \\\\\\\\>1.25\\\\n\\\\nExclusion Criteria:\\\\n\\\\n* Smoking history of \\\\u226510 pack years\\\\n* Pregnancy or lactation or subjects planning to get pregnant during the course of the trial\\\\n* Major medical problems prohibiting study participation, i.e. presence of chronic or active lung disease other than asthma or history of unstable significant medical illness other than asthma or concurrent medical problems that would place the participant at increased risk as determined by the study physician\"}}}}'),\n",
       " Document(page_content='{\"NCT00491101\": {\"protocolSection\": {\"eligibilityModule\": {\"eligibilityCriteria\": \"Inclusion Criteria:\\\\n\\\\n* Clinical diagnosis of Asthma\\\\n* Asthma treatment at least 6 months before enrollment\\\\n* Must be able to do spirometry\\\\n\\\\nExclusion Criteria:\\\\n\\\\n* Children during the introductory period of the specific immunotherapy\\\\n* Other protracted diseases\"}}}}'),\n",
       " Document(page_content='{\"NCT00964301\": {\"protocolSection\": {\"eligibilityModule\": {\"eligibilityCriteria\": \"Inclusion Criteria:\\\\n\\\\n* Study participants will be English-speaking children ages 7-17 years with physician-diagnosed asthma and/or active symptoms in the previous 12 months.\\\\n* Active symptoms include one or more of the following:\\\\n\\\\n  * experience daytime wheezing, shortness of breath, and/or coughing two or more times a week for the last 4 weeks;\\\\n  * nighttime wheezing, shortness of breath and/or cough more than once a week;\\\\n  * take asthma medication more than two days a week;\\\\n  * have been treated in a hospital or emergency department two or more times in the last two years for asthma symptoms;\\\\n  * have been treated in a hospital or emergency department two or more times in the last two years for asthma symptoms have episodes of asthma-like symptoms when playing/exercising.\\\\n* Potentially eligible participants will be screened using an asthma screener to confirm eligibility.\\\\n\\\\nExclusion Criteria:\\\\n\\\\n* Children with significant underlying respiratory disease other than asthma (such as cystic fibrosis) or significant co-morbid conditions (such as severe developmental delay or cerebral palsy) will be excluded from the study.\\\\n* The primary caregiver and child will be asked questions via telephone interview about how asthma affects the child every day. Children with no telephone number or contact telephone number will be excluded.\"}}}}')]"
      ]
     },
     "execution_count": 12,
     "metadata": {},
     "output_type": "execute_result"
    }
   ],
   "source": [
    "retriever.get_relevant_documents(\"Eligibility criteria for Asthma studies\")"
   ]
  },
  {
   "cell_type": "code",
   "execution_count": null,
   "metadata": {},
   "outputs": [],
   "source": []
  }
 ],
 "metadata": {
  "kernelspec": {
   "display_name": ".venv",
   "language": "python",
   "name": "python3"
  },
  "language_info": {
   "codemirror_mode": {
    "name": "ipython",
    "version": 3
   },
   "file_extension": ".py",
   "mimetype": "text/x-python",
   "name": "python",
   "nbconvert_exporter": "python",
   "pygments_lexer": "ipython3",
   "version": "3.11.5"
  }
 },
 "nbformat": 4,
 "nbformat_minor": 2
}
