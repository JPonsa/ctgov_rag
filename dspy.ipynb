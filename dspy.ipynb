{
 "cells": [
  {
   "cell_type": "code",
   "execution_count": null,
   "metadata": {},
   "outputs": [],
   "source": [
    "import dspy\n",
    "\n"
   ]
  },
  {
   "cell_type": "code",
   "execution_count": null,
   "metadata": {},
   "outputs": [],
   "source": [
    "import os\n",
    "import dspy\n",
    "from dspy.retrieve.neo4j_rm import Neo4jRM\n",
    "import openai\n",
    "\n",
    "os.environ[\"NEO4J_URI\"] = \"bolt://localhost:7687\"\n",
    "os.environ[\"NEO4J_USERNAME\"] = \"tester\"\n",
    "os.environ[\"NEO4J_PASSWORD\"] = \"password\"\n",
    "\n",
    "\n",
    "neo4j_retriever = Neo4jRM(\n",
    "    index_name=\"biobert_emb\",\n",
    "    text_node_property=\"term\",\n",
    "    k=10,\n",
    "    embedding_provider=\"huggingface\",\n",
    "    embedding_model=\"text-embedding-ada-002\",\n",
    ")\n",
    "\n",
    "dspy.settings.configure(rm=neo4j_retriever)"
   ]
  },
  {
   "cell_type": "code",
   "execution_count": null,
   "metadata": {},
   "outputs": [],
   "source": [
    "retriever = dspy.Retrieve(k=3)"
   ]
  },
  {
   "cell_type": "code",
   "execution_count": null,
   "metadata": {},
   "outputs": [],
   "source": [
    "query='When was the first FIFA World Cup held?'\n",
    "\n",
    "# Call the retriever on a particular query.\n",
    "topK_passages = retriever(query).passages"
   ]
  },
  {
   "cell_type": "markdown",
   "metadata": {},
   "source": [
    "txt2SQL"
   ]
  },
  {
   "cell_type": "code",
   "execution_count": 10,
   "metadata": {},
   "outputs": [
    {
     "name": "stderr",
     "output_type": "stream",
     "text": [
      "c:\\Users\\joanp\\Projects\\ctogov_rag\\.venv\\Lib\\site-packages\\tqdm\\auto.py:21: TqdmWarning: IProgress not found. Please update jupyter and ipywidgets. See https://ipywidgets.readthedocs.io/en/stable/user_install.html\n",
      "  from .autonotebook import tqdm as notebook_tqdm\n"
     ]
    }
   ],
   "source": [
    "import os\n",
    "\n",
    "os.environ[\"DPS_CACHEBOOL\"] = \"False\"\n",
    "import json\n",
    "\n",
    "import dspy\n",
    "from dotenv import load_dotenv"
   ]
  },
  {
   "cell_type": "code",
   "execution_count": 11,
   "metadata": {},
   "outputs": [],
   "source": [
    "from langchain_community.utilities import SQLDatabase"
   ]
  },
  {
   "cell_type": "code",
   "execution_count": 12,
   "metadata": {},
   "outputs": [],
   "source": [
    "load_dotenv(\".env\")\n",
    "AACT_USER = os.getenv(\"AACT_USER\")\n",
    "AACT_PWD = os.getenv(\"AACT_PWD\")"
   ]
  },
  {
   "cell_type": "code",
   "execution_count": 13,
   "metadata": {},
   "outputs": [],
   "source": [
    "tables = [\n",
    "    \"browse_interventions\",\n",
    "    \"sponsors\",\n",
    "    \"outcome_analysis_groups\",\n",
    "    \"detailed_descriptions\",\n",
    "    \"facilities\",\n",
    "    \"studies\",\n",
    "    \"outcomes\",\n",
    "    \"browse_conditions\",\n",
    "    \"outcome_analyses\",\n",
    "    \"keywords\",\n",
    "    \"eligibilities\",\n",
    "    \"id_information\",\n",
    "    \"design_group_interventions\",\n",
    "    \"reported_events\",\n",
    "    \"brief_summaries\",\n",
    "    \"designs\",\n",
    "    \"drop_withdrawals\",\n",
    "    \"outcome_measurements\",\n",
    "    \"countries\",\n",
    "]"
   ]
  },
  {
   "cell_type": "code",
   "execution_count": 14,
   "metadata": {},
   "outputs": [],
   "source": [
    "database = \"aact\"\n",
    "host = \"aact-db.ctti-clinicaltrials.org\"\n",
    "user = AACT_USER\n",
    "password = AACT_PWD\n",
    "port = 5432\n",
    "db_uri = f\"postgresql+psycopg2://{user}:{password}@{host}:{port}/{database}\"\n",
    "sql_db = SQLDatabase.from_uri(db_uri, include_tables=tables)"
   ]
  },
  {
   "cell_type": "code",
   "execution_count": 15,
   "metadata": {},
   "outputs": [],
   "source": [
    "with open(\"./src/txt_2_sql/aact_schema.txt\", \"r\") as f:\n",
    "    aact_schema =  f.readlines()\n",
    "\n",
    "aact_schema = \"\".join(aact_schema).replace(\"\\n\\n\", \"\\n\")"
   ]
  },
  {
   "cell_type": "code",
   "execution_count": 16,
   "metadata": {},
   "outputs": [],
   "source": [
    "with open('./src/txt_2_sql/common_sql_mistakes.txt', \"r\") as f:\n",
    "    common_mistakes = f.readlines()"
   ]
  },
  {
   "cell_type": "code",
   "execution_count": 17,
   "metadata": {},
   "outputs": [],
   "source": [
    "common_mistakes = \"\".join(common_mistakes)"
   ]
  },
  {
   "cell_type": "code",
   "execution_count": 18,
   "metadata": {},
   "outputs": [],
   "source": [
    "import yaml\n",
    "\n",
    "with open('./src/txt_2_sql/aact_schema.yaml', 'r') as f:\n",
    "    aact_schema = yaml.safe_load(f)\n"
   ]
  },
  {
   "cell_type": "code",
   "execution_count": 19,
   "metadata": {},
   "outputs": [],
   "source": [
    "class Text2Sql(dspy.Signature):\n",
    "    \"\"\"Given an input question and a SQL db schema, create a syntactically correct PostgreSQL query to run. \n",
    "    Never query for all the columns from a specific table, only ask for a few relevant columns given the question.\n",
    "    Pay attention to use only the column names that you can see in the schema description. \n",
    "    Be careful to not query for columns that do not exist. Pay attention to which column is in which table.\n",
    "    Also, qualify column names with the table name when needed\n",
    "    \"\"\"\n",
    "\n",
    "    context:str = dspy.InputField(prefix=\"Schema:\", desc=\"SQL db schema\")\n",
    "    question:str = dspy.InputField(prefix=\"Question:\", desc=\"user question\")\n",
    "    sql_query:str = dspy.OutputField(prefix=\"SQLQuery:\", desc=\"SQL query that answers user question\")"
   ]
  },
  {
   "cell_type": "code",
   "execution_count": 20,
   "metadata": {},
   "outputs": [],
   "source": [
    "class CheckSqlQuery(dspy.Signature):\n",
    "    \"Take a SQL query and a list of common mistakes and suggest a revised SQL query\"\n",
    "    context:str = dspy.InputField(prefix=\"Common mistakes:\", desc=\"Common SQL syntax mistakes\")\n",
    "    sql_query:str = dspy.InputField(prefix=\"SQLQuery:\")\n",
    "    revised_sql:str = dspy.OutputField(prefix=\"Revised SQLQuery:\",)"
   ]
  },
  {
   "cell_type": "code",
   "execution_count": 21,
   "metadata": {},
   "outputs": [],
   "source": [
    "class CheckSqlSchema(dspy.Signature):\n",
    "    \"Take a SQL query and a SQL db schema and suggest a revised SQL query\"\n",
    "    context:str = dspy.InputField(prefix=\"SQL db schema:\")\n",
    "    sql_query:str = dspy.InputField(prefix=\"SQLQuery:\")\n",
    "    revised_sql:str = dspy.OutputField(prefix=\"Revised SQLQuery:\")"
   ]
  },
  {
   "cell_type": "code",
   "execution_count": 22,
   "metadata": {},
   "outputs": [],
   "source": [
    "class CheckSqlError(dspy.Signature):\n",
    "    \"Take a SQL query and the error produced when running it and suggests a revised SQL query\"\n",
    "    db_schema = dspy.InputField(desc=\"SQL DB schema\", prefix=\"Schema: \")\n",
    "    question = dspy.InputField(desc=\"User question\", prefix=\"Question: \")\n",
    "    sql_query = dspy.InputField(desc=\"Original SQL query\", prefix=\"SQLQuery: \")\n",
    "    error = dspy.InputField(\n",
    "        desc=\"Exception through when running SQL query\", prefix=\"Exception: \"\n",
    "    )\n",
    "    revised_sql = dspy.OutputField(desc=\"Revised SQL query\", prefix=\"Revised:\")"
   ]
  },
  {
   "cell_type": "code",
   "execution_count": 23,
   "metadata": {},
   "outputs": [],
   "source": [
    "class QuestionSqlAnswer(dspy.Signature):\n",
    "    question:str = dspy.InputField(prefix=\"Question: \")\n",
    "    sql_output:str = dspy.InputField(prefix=\"SQL output: \")\n",
    "    answer:str = dspy.OutputField(prefix=\"Answer:\")"
   ]
  },
  {
   "cell_type": "code",
   "execution_count": 24,
   "metadata": {},
   "outputs": [],
   "source": [
    "from typing import Literal"
   ]
  },
  {
   "cell_type": "code",
   "execution_count": 37,
   "metadata": {},
   "outputs": [],
   "source": [
    "class PickListTables(dspy.Signature):\n",
    "    \"Based on a user question and SQL db schema. Write a list of tables that would be relevant\"\n",
    "    context:dict = dspy.InputField(prefix=\"Schema: \")\n",
    "    question:str = dspy.InputField(prefix=\"Question: \")\n",
    "    answer:list[Literal[*(x for x in aact_schema.keys())]] = dspy.OutputField()"
   ]
  },
  {
   "cell_type": "code",
   "execution_count": 38,
   "metadata": {},
   "outputs": [
    {
     "name": "stdout",
     "output_type": "stream",
     "text": [
      "strings=['apple', 'banana', 'cherry']\n"
     ]
    }
   ],
   "source": [
    "from typing import List\n",
    "from pydantic import BaseModel\n",
    "\n",
    "class StringList(BaseModel):\n",
    "    strings: List[str]\n",
    "\n",
    "# Example usage:\n",
    "input_data = {\"strings\": [\"apple\", \"banana\", \"cherry\"]}\n",
    "string_list = StringList(**input_data)\n",
    "print(string_list)"
   ]
  },
  {
   "cell_type": "code",
   "execution_count": 39,
   "metadata": {},
   "outputs": [],
   "source": [
    "class SqlTablesList(BaseModel):\n",
    "    sql_tables: List[str]"
   ]
  },
  {
   "cell_type": "code",
   "execution_count": 40,
   "metadata": {},
   "outputs": [],
   "source": [
    "acct_tables = SqlTablesList(sql_tables=list(aact_schema.keys()))"
   ]
  },
  {
   "cell_type": "code",
   "execution_count": 41,
   "metadata": {},
   "outputs": [],
   "source": [
    "def write_schema_txt(schema:dict)->str:\n",
    "    out_str= \"\"\n",
    "    for table in schema.keys():\n",
    "        out_str+= f\"table name: {table}\\n\"\n",
    "        out_str+= f\"table description: {schema[table]['description']}\\n\"\n",
    "        out_str+= f\"table schema: {schema[table]['schema']}\\n\"\n",
    "        out_str+= f\"{schema[table]['example']}\\n\"\n",
    "    return out_str"
   ]
  },
  {
   "cell_type": "code",
   "execution_count": 42,
   "metadata": {},
   "outputs": [],
   "source": [
    "aact_schema_str = write_schema_txt(aact_schema)\n",
    "aact_schema_str = aact_schema_str.replace(\"\\n\\n\",\"\\n\")"
   ]
  },
  {
   "cell_type": "code",
   "execution_count": 43,
   "metadata": {},
   "outputs": [],
   "source": [
    "class Txt2SqlAgent(dspy.Module):\n",
    "    def __init__(self, sql_schema:str, common_mistakes=str) -> None:\n",
    "        super().__init__()\n",
    "        self.text_2_sql = dspy.Predict(Text2Sql)\n",
    "        self.review_query = dspy.Predict(CheckSqlQuery)\n",
    "        self.review_schema = dspy.Predict(CheckSqlSchema)\n",
    "        self.sql_schema = sql_schema\n",
    "        self.common_mistakes = common_mistakes\n",
    "    \n",
    "    def forward(self, question:str) ->str:\n",
    "        response = {}\n",
    "        response[\"txt2sql\"] = self.text_2_sql(context=self.sql_schema, question=question)\n",
    "        response[\"check_sql_query\"] = self.review_query(context=self.common_mistakes, sql_query=response[\"txt2sql\"][\"sql_query\"] )\n",
    "        response[\"check_sql_schema\"] =self.review_schema(context=self.sql_schema, sql_query=response[\"check_sql_query\"][\"revised_sql\"] )\n",
    "        return response\n",
    "        "
   ]
  },
  {
   "cell_type": "code",
   "execution_count": 44,
   "metadata": {},
   "outputs": [],
   "source": [
    "class ChainOfTables(dspy.Module):\n",
    "    def __init__(self, sql_db: SQLDatabase) -> None:\n",
    "        super().__init__()\n",
    "        self.sql_db = sql_db\n",
    "        self.text_2_sql = dspy.Predict(Text2Sql)\n",
    "        self.review_query = dspy.Predict(CheckSqlQuery)\n",
    "        self.question_sql_answer = dspy.Predict(CheckSqlSchema)\n",
    "        self.schema = sql_db.get_table_info(sql_db.get_usable_table_names())\n",
    "\n",
    "    def forward(self, question: str, n: int = 3):\n",
    "        attempts = 0\n",
    "        sql_output = None\n",
    "        db_schema = self.schema\n",
    "        response = self.text_2_sql(question=question, db_schema=db_schema)\n",
    "        sql_query = response.sql_query\n",
    "        # return response\n",
    "        while attempts < n and sql_output is None:\n",
    "            try:\n",
    "                sql_output = self.sql_db.run(sql_query)\n",
    "            except Exception as e:\n",
    "                response = self.review_query(\n",
    "                    question=question,\n",
    "                    db_schema=db_schema,\n",
    "                    sql_query=sql_query,\n",
    "                    error=str(e),\n",
    "                )\n",
    "                sql_query = response.revised_sql\n",
    "                print(sql_query)\n",
    "            attempts += 1\n",
    "        if sql_output is None:\n",
    "            return {\n",
    "                \"question\": question,\n",
    "                \"sql_query\": sql_query,\n",
    "                \"answer\": \"Sorry I could not reply your question\",\n",
    "            }\n",
    "        return self.question_sql_answer(question=question, sql_output=sql_output)"
   ]
  },
  {
   "cell_type": "code",
   "execution_count": 45,
   "metadata": {},
   "outputs": [],
   "source": [
    "#lm = dspy.OllamaLocal(model=\"mistral\", stop=[\"\\n\", \"\\n\\n\"])\n",
    "# lm = dspy.OllamaLocal(model=\"mistral\",stop=[\"[INST]\", \"[/INST]\"])\n",
    "# lm = dspy.OllamaLocal(model=\"mistral\")\n",
    "lm = dspy.OllamaLocal(model=\"mistral\",stop=[\"[INST]\", \"[/INST]\"], max_tokens=500)\n",
    "dspy.settings.configure(lm=lm, temperature=0.0 )"
   ]
  },
  {
   "cell_type": "code",
   "execution_count": 46,
   "metadata": {},
   "outputs": [
    {
     "data": {
      "text/plain": [
       "\"table name: brief_summaries\\ntable description: clinical trial study protocol brief summary. if possible use this over detailed description.\\ntable schema: CREATE TABLE brief_summaries (\\n  nct_id VARCHAR NOT NULL,  -- clinical trial study unique id\\n  description TEXT,  -- clinical trial description / brief summary\\n  CONSTRAINT brief_summaries_pkey PRIMARY KEY (id), \\n  CONSTRAINT brief_summaries_nct_id_fkey FOREIGN KEY(nct_id) REFERENCES studies (nct_id)\\n );\\n/*\\n3 rows from brief_summaries table:\\nnct_id  description\\nNCT01308385  Despite enormous progress insufficient postoperative pain management remains a frequent problem in t\\nNCT05280444  The purpose of this real-world study is to evaluate the safety and efficacy of lipiodol-TACE with id\\nNCT00372151  The aim of the proposed study is to investigate the efficacy and safety of add-on gamma-glutamylethy\\n*/\\ntable name: browse_conditions\\ntable description: condition studied in clinical trial. mesh term.\\ntable schema: CREATE TABLE browse_conditions ( \\n nct_id VARCHAR NOT NULL,  -- clinical trial study unique id\\n mesh_term VARCHAR,  -- clinical condition\\n downcase_mesh_term VARCHAR, -- downcase clinical condition \\n mesh_type VARCHAR, \\n CONSTRAINT browse_conditions_pkey PRIMARY KEY (id), \\n CONSTRAINT browse_conditions_nct_id_fkey FOREIGN KEY(nct_id) REFERENCES studies (nct_id)\\n);\\n/*\\n3 rows from browse_conditions table:\\nnct_id  mesh_term  downcase_mesh_term  mesh_type\\n319182123  NCT05825131  Connective Tissue Diseases  connective tissue diseases  mesh-ancestor\\n319182124  NCT05825131  Metabolic Diseases  metabolic diseases  mesh-ancestor\\n319182125  NCT05822752  Carcinoma  carcinoma  mesh-list\\n*/\\ntable name: browse_interventions\\ntable description: medical intervention assessed in clinical trial. mesh term.\\ntable schema: CREATE TABLE browse_interventions ( \\n  nct_id VARCHAR NOT NULL, -- clinical trial study unique id\\n  mesh_term VARCHAR,  -- clinical intervention\\n  downcase_mesh_term VARCHAR, -- downcase clinical intervention\\n  mesh_type VARCHAR, \\n  CONSTRAINT browse_interventions_pkey PRIMARY KEY (id), \\n  CONSTRAINT browse_interventions_nct_id_fkey FOREIGN KEY(nct_id) REFERENCES studies (nct_id)\\n);\\n/*\\n3 rows from browse_interventions table:\\nnct_id  mesh_term  downcase_mesh_term  mesh_type\\nNCT00404274  Antiemetics  antiemetics  mesh-ancestor\\nNCT00131027  Antimetabolites  antimetabolites  mesh-ancestor\\nNCT00132119  Nalmefene  nalmefene  mesh-list\\n*/\\ntable name: countries\\ntable description: countries where the clinical trial takes place.\\ntable schema: CREATE TABLE countries ( \\n  nct_id VARCHAR NOT NULL, -- clinical trial study unique id\\n  name VARCHAR, -- country name\\n  removed BOOLEAN, \\n  CONSTRAINT countries_pkey PRIMARY KEY (id), \\n  CONSTRAINT countries_nct_id_fkey FOREIGN KEY(nct_id) REFERENCES studies (nct_id)\\n);\\n/*\\n3 rows from countries table:\\nnct_id  name  removed\\nNCT02011217  Sweden  False\\nNCT02011230  United States  False\\nNCT01475955  United States  False\\n*/\\ntable name: design_group_interventions\\ntable description: patient group ids per clinical trial.\\ntable schema: CREATE TABLE design_group_interventions ( \\n  nct_id VARCHAR NOT NULL, -- clinical trial study unique id\\n  design_group_id INTEGER, \\n  intervention_id INTEGER, \\n  CONSTRAINT design_group_interventions_pkey PRIMARY KEY (id), \\n  CONSTRAINT design_group_interventions_design_group_id_fkey FOREIGN KEY(design_group_id) REFERENCES design_groups (id), \\n  CONSTRAINT design_group_interventions_intervention_id_fkey FOREIGN KEY(intervention_id) REFERENCES interventions (id), \\n  CONSTRAINT design_group_interventions_nct_id_fkey FOREIGN KEY(nct_id) REFERENCES studies (nct_id)\\n);\\n/*\\n3 rows from design_group_interventions table:\\nnct_id  design_group_id  intervention_id\\nNCT04294303  89068601  83864895\\nNCT01419457  88886766  83678270\\nNCT01419457  88886767  83678270\\n*/\\ntable name: designs\\ntable description: clinical trial design details.\\ntable schema: CREATE TABLE designs ( \\n  nct_id VARCHAR NOT NULL, -- clinical trial study unique id\\n  allocation ENUM(Non-Randomized, N/A, Randomized), \\n  intervention_model ENUM(Crossover Assignment, Sequential Assignment, Factorial Assignment, Single Group Assignment, Parallel Assignment), \\n  observational_model ENUM(Other, Case-Only, Case-Crossover, Family-Based, Natural History, Case-Control, Defined Population, Cohort, Ecologic or Community), \\n  primary_purpose ENUM(Diagnostic, Other, Supportive Care, Treatment, Device Feasibility, Educational/Counseling/Training, Health Services Research, Basic Science, Screening, Prevention), \\n  time_perspective ENUM(Other, Prospective, Retrospective, Cross-Sectional), \\n  masking ENUM(Quadruple, None (Open Label), Single, Double, Triple), \\n  masking_description TEXT, -- clinical trials masking process\\n  intervention_model_description TEXT, -- clinical trial intervention intervention_model_description description\\n  subject_masked BOOLEAN, \\n  caregiver_masked BOOLEAN, \\n  investigator_masked BOOLEAN, \\n  outcomes_assessor_masked BOOLEAN, \\n  CONSTRAINT designs_pkey PRIMARY KEY (id), \\n  CONSTRAINT designs_nct_id_fkey FOREIGN KEY(nct_id) REFERENCES studies (nct_id)\\n);\\n/*\\n3 rows from designs table:\\nnct_id  allocation  intervention_model  observational_model  primary_purpose  time_perspective  masking  masking_description  intervention_model_description  subject_masked  caregiver_masked  investigator_masked  outcomes_assessor_masked\\nNCT03990870  Randomized  Parallel Assignment    Treatment    Triple  None  None  True  None  True  True\\nNCT01412476  None  None  Case-Control  None  Cross-Sectional  None  None  None  None  None  None  None\\nNCT03986411  N/A  Single Group Assignment    Health Services Research    None (Open Label)  None  Mixed methods feasibility study. Three phases: Phase 1: Interviews Health car professionals, Phase 2  None  None  None  None\\n*/\\ntable name: detailed_descriptions\\ntable description: clinical trail protocol detailed and long description. If possible used brief description.\\ntable schema: CREATE TABLE detailed_descriptions ( \\n  nct_id VARCHAR NOT NULL, -- clinical trial study unique id\\n  description TEXT, -- Long detailed description\\n  CONSTRAINT detailed_descriptions_pkey PRIMARY KEY (id), \\n  CONSTRAINT detailed_descriptions_nct_id_fkey FOREIGN KEY(nct_id) REFERENCES studies (nct_id)\\n);\\n/*\\n3 rows from detailed_descriptions table:\\nnct_id  description\\nNCT02171936  This national study is the first study on the chronic pain and the social vulnerability, as well at \\nNCT05142488  After being informed about the study and potential risks, all participants giving written informed c\\nNCT02172014  Comfort behavior scale consists of 7 components of alertness, calmness, respiratory response, crying\\n*/\\ntable name: drop_withdrawals\\ntable description: number of patient drop outs and withdrawals from clinical trial protocol.\\ntable schema: CREATE TABLE drop_withdrawals ( \\n  nct_id VARCHAR NOT NULL, -- clinical trial study unique id\\n  result_group_id INTEGER, \\n  ctgov_group_code VARCHAR, \\n  period VARCHAR, \\n  reason VARCHAR, -- reason for drop or withdrawal\\n  count INTEGER, -- number of patients\\n  drop_withdraw_comment VARCHAR, \\n  reason_comment VARCHAR, \\n  count_units INTEGER, \\n  CONSTRAINT drop_withdrawals_pkey PRIMARY KEY (id), \\n  CONSTRAINT drop_withdrawals_nct_id_fkey FOREIGN KEY(nct_id) REFERENCES studies (nct_id), \\n  CONSTRAINT drop_withdrawals_result_group_id_fkey FOREIGN KEY(result_group_id) REFERENCES result_groups (id)\\n);\\n/*\\n3 rows from drop_withdrawals table:\\nnct_id  result_group_id  ctgov_group_code  period  reason  count  drop_withdraw_comment  reason_comment  count_units\\nNCT03409796  82724565  FG000  Overall Study  Adverse Event  2  None  None  None\\nNCT03409796  82724566  FG001  Overall Study  Adverse Event  0  None  None  None\\nNCT03409796  82724565  FG000  Overall Study  Other  0  None  None  None\\n*/\\ntable name: eligibilities\\ntable description: clinical trial eligibility criteria.\\ntable schema: CREATE TABLE eligibilities ( \\n  nct_id VARCHAR NOT NULL, -- clinical trial study unique id\\n  sampling_method ENUM(Probability Sample, Non-Probability Sample), \\n  gender ENUM(Male, Female, All), \\n  minimum_age VARCHAR, -- e.g. 18 Years\\n  maximum_age VARCHAR, -- e.g. 50 Years\\n  healthy_volunteers ENUM(No, Accepts Healthy Volunteers), \\n  population TEXT, -- population description\\n  criteria TEXT,  -- inclusion exclusion criteria\\n  gender_description TEXT, \\n  gender_based BOOLEAN, \\n  adult BOOLEAN, \\n  child BOOLEAN, \\n  older_adult BOOLEAN, \\n  CONSTRAINT eligibilities_pkey PRIMARY KEY (id), \\n  CONSTRAINT eligibilities_nct_id_fkey FOREIGN KEY(nct_id) REFERENCES studies (nct_id)\\n);\\n/*\\n3 rows from eligibilities table:\\nnct_id  sampling_method  gender  minimum_age  maximum_age  healthy_volunteers  population  criteria  gender_description  gender_based  adult  child  older_adult\\nNCT01308723  None  All  21 Years  N/A  No  None  Inclusion Criteria: Adult patients >/= 21 years of age Advanced or metastatic and/or unresectable h      None  None  True  False  True\\nNCT02919670  None  All  18 Years  N/A  No  None  Inclusion Criteria: Participants must have histologically or cytologically confirmed Multiple Myelo      None  None  True  False  True\\nNCT04529070  None  All  18 Years  N/A  No  None  **Patients must be able to get care at Nellis Air Force Base (a military installation) in order to p  None  None  True  False  True\\n*/\\ntable name: facilities\\ntable description: facility where the clinical trial take take place.\\ntable schema: CREATE TABLE facilities ( \\n  nct_id VARCHAR NOT NULL, -- clinical trial study unique id\\n  status VARCHAR, \\n  name VARCHAR, \\n  city VARCHAR, \\n  state VARCHAR, \\n  zip VARCHAR, \\n  country VARCHAR, \\n  CONSTRAINT facilities_pkey PRIMARY KEY (id), \\n  CONSTRAINT facilities_nct_id_fkey FOREIGN KEY(nct_id) REFERENCES studies (nct_id)\\n);\\n/*\\n3 rows from facilities table:\\nnct_id  status  name  city  state  zip  country\\nNCT06118151  None  Benchmark Research - Austin Site Number : 8400006  Austin  Texas  78705  United States\\nNCT06118151  None  AES Austin Site Number : 8400021  Austin  Texas  78744  United States\\nNCT06118151  None  Clinical Trials of Texas, Inc. Site Number : 8400012  San Antonio  Texas  78229  United States\\n*/\\ntable name: keywords\\ntable description: keywords associated to the clinical trial protocol\\ntable schema: CREATE TABLE keywords ( \\n  nct_id VARCHAR NOT NULL, -- clinical trial study unique id\\n  name VARCHAR, -- keyword\\n  downcase_name VARCHAR, -- downcase keyword\\n  CONSTRAINT keywords_pkey PRIMARY KEY (id), \\n  CONSTRAINT keywords_nct_id_fkey FOREIGN KEY(nct_id) REFERENCES studies (nct_id)\\n);\\n/*\\n3 rows from keywords table:\\nnct_id  name  downcase_name\\nNCT01982396  HIV  hiv\\nNCT01982916  PAR  par\\nNCT01987661  NIV  niv\\n*/\\ntable name: outcome_measurements\\ntable description: how is the outcome of the clinical trial measured. includes statistical analysis description.\\ntable schema: CREATE TABLE outcome_measurements ( \\n  nct_id VARCHAR NOT NULL, -- clinical trial study unique id\\n  outcome_id INTEGER, \\n  result_group_id INTEGER, \\n  ctgov_group_code VARCHAR, \\n  classification VARCHAR, \\n  category VARCHAR, \\n  title VARCHAR, \\n  description TEXT, \\n  units VARCHAR, \\n  param_type VARCHAR, \\n  param_value VARCHAR, \\n  param_value_num NUMERIC, \\n  dispersion_type VARCHAR, \\n  dispersion_value VARCHAR, \\n  dispersion_value_num NUMERIC, \\n  dispersion_lower_limit NUMERIC, \\n  dispersion_upper_limit NUMERIC, \\n  explanation_of_na TEXT, \\n  dispersion_upper_limit_raw VARCHAR, \\n  dispersion_lower_limit_raw VARCHAR, \\n  CONSTRAINT outcome_measurements_pkey PRIMARY KEY (id), \\n  CONSTRAINT outcome_measurements_nct_id_fkey FOREIGN KEY(nct_id) REFERENCES studies (nct_id), \\n  CONSTRAINT outcome_measurements_outcome_id_fkey FOREIGN KEY(outcome_id) REFERENCES outcomes (id), \\n  CONSTRAINT outcome_measurements_result_group_id_fkey FOREIGN KEY(result_group_id) REFERENCES result_groups (id)\\n)\\n/*\\n3 rows from outcome_measurements table:\\nnct_id  outcome_id  result_group_id  ctgov_group_code  classification  category  title  description  units  param_type  param_value  param_value_num  dispersion_type  dispersion_value  dispersion_value_num  dispersion_lower_limit  dispersion_upper_limit  explanation_of_na  dispersion_upper_limit_raw  dispersion_lower_limit_raw\\nNCT01772004  49707268  82599299  OG000  Complete response (CR)  None  Efficacy Expansion Cohort (GC/GEJC, Third Line): Number of Participants With Confirmed Best Overall   Confirmed BOR was determined according to RECIST 1.1 and as adjudicated by an Independent Endpoint R  Participants  Count of Participants  2  2.0  None  None  None  None  None  None  None  None\\nNCT01772004  49707268  82599299  OG000  Partial response (PR)  None  Efficacy Expansion Cohort (GC/GEJC, Third Line): Number of Participants With Confirmed Best Overall   Confirmed BOR was determined according to RECIST 1.1 and as adjudicated by an Independent Endpoint R  Participants  Count of Participants  5  5.0  None  None  None  None  None  None  None  None\\nNCT00474253  49877831  82873706  OG001  Prior to transfer to recovery room  None  Number of Participants Experiencing General Muscle Weakness  The number of participants experiencing general muscle weakness was assessed by the investigator as   Participants  Count of Participants  3  3.0  None  None  None  None  None  None  None  None\\n*/\\ntable name: outcomes\\ntable description: clinical trial outcomes reported in the results section.\\ntable schema: CREATE TABLE outcomes ( \\n  nct_id VARCHAR NOT NULL, -- clinical trial study unique id\\n  outcome_type Enum(Post-Hoc, Primary, Secondary, Other Pre-specified), \\n  title TEXT, \\n  description TEXT, -- outcomes description\\n  time_frame TEXT, \\n  population TEXT, \\n  anticipated_posting_date DATE, \\n  anticipated_posting_month_year VARCHAR, \\n  units VARCHAR, \\n  units_analyzed VARCHAR, \\n  dispersion_type VARCHAR, \\n  param_type VARCHAR, \\n  CONSTRAINT outcomes_pkey PRIMARY KEY (id), \\n  CONSTRAINT outcomes_nct_id_fkey FOREIGN KEY(nct_id) REFERENCES studies (nct_id)\\n)\\n/*\\n3 rows from outcomes table:\\nnct_id  outcome_type  title  description  time_frame  population  anticipated_posting_date  anticipated_posting_month_year  units  units_analyzed  dispersion_type  param_type\\nNCT01964716  Primary  Number of Participants Reporting Systemic Events Within 5 Days After Dose 3 in MDV and SDS Group  Systemic events (any fever greater than or equal to [>=] 38.0 degrees Celsius [C], decreased appetit  Within 5 days after Dose 3 (Day 2 to Day 6) of infant series  Safety population included participants who received at least 1 dose of study vaccine. 'N' (number o  None  None  participants  None  None  Number\\nNCT02534844  Secondary  Parts A/B: Change From Baseline in the Timed Up and Go (TUG) Test at Week 52  The TUG is a test of balance and risk for falls. This test measures the time taken by a participant   Baseline, Week 52  mITT population included all randomized participants who received at least one treatment. As per pla  None  None  seconds  None  Standard Deviation  Mean\\nNCT00754572  Secondary  Percentage of Participants With a Response by Categorical DAS28 Responses According to The European   DAS28- based EULAR response criteria were used to measure individual response as none, good, and mod  Week 24  ITT Population; All participants with endpoint values collected at Week 24 were included in the anal  None  None  Percentage of Participants  None  95% Confidence Interval  Number\\n*/\\ntable name: reported_events\\ntable description: adverse events observed in a clinical trial.\\ntable schema: CREATE TABLE reported_events ( \\n  nct_id VARCHAR NOT NULL, -- clinical trial study unique id\\n  result_group_id INTEGER, \\n  ctgov_group_code VARCHAR, \\n  time_frame TEXT, \\n  event_type ENUM(other, serious), \\n  default_vocab VARCHAR, \\n  default_assessment VARCHAR, \\n  subjects_affected INTEGER, \\n  subjects_at_risk INTEGER, \\n  description TEXT, --  adverse event description\\n  event_count INTEGER, \\n  organ_system VARCHAR, \\n  adverse_event_term VARCHAR, \\n  frequency_threshold INTEGER, \\n  vocab VARCHAR, \\n  assessment VARCHAR, \\n  CONSTRAINT reported_events_pkey PRIMARY KEY (id), \\n  CONSTRAINT reported_events_nct_id_fkey FOREIGN KEY(nct_id) REFERENCES studies (nct_id), \\n  CONSTRAINT reported_events_result_group_id_fkey FOREIGN KEY(result_group_id) REFERENCES result_groups (id)\\n);\\n/*\\n3 rows from reported_events table:\\nnct_id  result_group_id  ctgov_group_code  time_frame  event_type  default_vocab  default_assessment  subjects_affected  subjects_at_risk  description  event_count  organ_system  adverse_event_term  frequency_threshold  vocab  assessment\\nNCT03129100  82366267  EG001  Baseline, up to 128 weeks  serious  None  None  0  423  All randomized participants received at least one dose of study treatment. There are gender specific  0  Injury, poisoning and procedural complications  Pneumothorax traumatic  5  MedDRA 24.0  Systematic Assessment\\nNCT00370552  82311312  EG001  Continuously from first to last dose of study drug (24 weeks)and within 30 days following last dose.  other  None  None  1  45  None  None  Skin and subcutaneous tissue disorders  Nail dystrophy  5  MedDRA 12.1  Systematic Assessment\\nNCT03484923  82494147  EG002  On-treatment: from first dose to 30 days post-treatment, up to 49/24 months (randomized/non-randomiz  other  None  None  None  0  Any sign or symptom that occurs during the conduct of the trial and safety follow-up. Deaths in the   None  Investigations  SARS-CoV-2 test negative  5  MedDRA (25.1)  Systematic Assessment\\n*/\\ntable name: sponsors\\ntable description: clinical trial sponsor.\\ntable schema: CREATE TABLE sponsors (\\n  nct_id VARCHAR NOT NULL, -- clinical trial study unique id\\n  agency_class VARCHAR, \\n  lead_or_collaborator VARCHAR, \\n  name VARCHAR, \\n  CONSTRAINT sponsors_pkey PRIMARY KEY (id), \\n  CONSTRAINT sponsors_nct_id_fkey FOREIGN KEY(nct_id) REFERENCES studies (nct_id)\\n);\\n/*\\n3 rows from sponsors table:\\nnct_id  agency_class  lead_or_collaborator  name\\nNCT02155296  OTHER  lead  RAND\\nNCT02155296  NIH  collaborator  Eunice Kennedy Shriver National Institute of Child Health and Human Development (NICHD)\\nNCT05020288  OTHER  lead  Shandong University\\n*/\\ntable name: studies\\ntable description: general information regarding a clinical trial protocol.\\ntable schema: CREATE TABLE studies (\\n  nct_id VARCHAR NOT NULL, -- clinical trial study unique id\\n  study_type ENUM(Observational [Patient Registry], Interventional, Expanded Access, Observational),  \\n  baseline_population TEXT, \\n  brief_title TEXT,\\n  official_title TEXT, \\n  overall_status ENUM(Approved for marketing, Active, not recruiting, Completed, Enrolling by invitation, No longer available, Not yet recruiting, Recruiting, Suspended, Temporarily not available, Terminated, Unknown status, Withdrawn, Withheld), \\n  phase ENUM(Early Phase 1, Phase 1, Phase 1/Phase 2, Phase 2, Phase 2/Phase 3, Phase 3, Phase 4, Not Applicable)\\n  enrollment INTEGER, -- Number of patients enrolled into the clinical trial study\\n  source VARCHAR, \\n  limitations_and_caveats VARCHAR, \\n  why_stopped VARCHAR, \\n  has_expanded_access BOOLEAN, , \\n  biospec_retention ENUM(None Retained, Samples With DNA, Samples Without DNA), \\n  biospec_description TEXT, \\n  CONSTRAINT studies_nct_id_fkey FOREIGN KEY(nct_id) REFERENCES studies (nct_id)\\n);\\n/*\\n3 rows from studies table:\\nnct_id  study_type  baseline_population  brief_title  official_title  overall_status  phase  enrollment  source  limitations_and_caveats  why_stopped  biospec_retention  biospec_description\\nNCT06191848  Interventional  NULL  Subcutaneous Tirzepatide Once-weekly in Patients With Obesity and Knee Osteoarthritis (STOP KNEE-OA)  Effect of Subcutaneous Tirzepatide Once-weekly in Patients With Obesity and Knee Osteoarthritis (STOP KNEE-OA): A Randomized, Double-Blind, Placebo-Controlled Trial  Not yet recruiting  Phase 4  352  University of Melbourne  NULL  NULL  NULL  NULL\\nNCT06190795  Interventional  NULL  A Smartphone Application for a Self-directed Upper Limb Therapy After Stroke  Feasibility and Effectiveness of AI-powered Interactive Smartphone Application for a Self-directed Upper Limb Therapy Implementation After Stroke  Not yet recruiting  Not Applicable  80  Tan Tock Seng Hospital  NULL  NULL  NULL  NULL\\nNCT02732574  Interventional  NULL  Oscillating Positive Expiratory Pressure (OPEP) Therapy in High Risk Patients Following Cardiac Surgery  The Effectiveness of Oscillating Positive Expiratory Pressure (OPEP) Therapy in High Risk Patients Following Cardiac Surgery Surgery: A Randomized Clinical Trial  Unknown status  Not Applicable  162  Lawson Health Research Institute  NULL  NULL  NULL  NULL\\n*/\\n\""
      ]
     },
     "execution_count": 46,
     "metadata": {},
     "output_type": "execute_result"
    }
   ],
   "source": [
    "aact_schema_str.replace(\"\\n\\n\",\"\\n\")"
   ]
  },
  {
   "cell_type": "code",
   "execution_count": 47,
   "metadata": {},
   "outputs": [],
   "source": [
    "#aact_sql_rag = ChainOfTables(sql_db)\n",
    "acct_sql = Txt2SqlAgent(aact_schema_str, common_mistakes)\n",
    "\n",
    "question = (\n",
    "    \"Which clinical trial ids are associated with the condition 'Asthma' and conducted in\"\n",
    "    \"the United States, China and India, while involving the\"\n",
    "    \"intervention 'Xhance', and reporting more than five affected subjects\"\n",
    "    \"in either deaths or serious adverse events?\"\n",
    ")\n",
    "\n",
    "question = question.replace(\"\\n\", \" \")\n",
    "response = acct_sql(question=question)"
   ]
  },
  {
   "cell_type": "code",
   "execution_count": 66,
   "metadata": {},
   "outputs": [],
   "source": [
    "acct_summary = [{\"name\": table, \"description\" : aact_schema[table]['description']} for table in aact_schema.keys()]"
   ]
  },
  {
   "cell_type": "code",
   "execution_count": 68,
   "metadata": {},
   "outputs": [],
   "source": [
    "import numpy as np"
   ]
  },
  {
   "cell_type": "code",
   "execution_count": 71,
   "metadata": {},
   "outputs": [],
   "source": [
    "acct_summary = np.array2string(np.array(acct_summary))"
   ]
  },
  {
   "cell_type": "code",
   "execution_count": 74,
   "metadata": {},
   "outputs": [],
   "source": [
    "table_picker = dspy.Predict(PickListTables)\n",
    "response = table_picker(context=acct_summary, question=\"Get the clinical study title\")"
   ]
  },
  {
   "cell_type": "code",
   "execution_count": 75,
   "metadata": {},
   "outputs": [
    {
     "data": {
      "text/plain": [
       "Prediction(\n",
       "    answer=\"Schema: ${context}\\nQuestion: Get the clinical study title\\nAnswer: The `studies` table in the given schema should contain the column for storing the clinical study title. Therefore, you can query the title by selecting the 'title' or 'name' column from the 'studies' table.\\n\\nAnswer: ${answer} = SELECT title FROM studies;\"\n",
       ")"
      ]
     },
     "execution_count": 75,
     "metadata": {},
     "output_type": "execute_result"
    }
   ],
   "source": [
    "response"
   ]
  },
  {
   "cell_type": "code",
   "execution_count": 31,
   "metadata": {},
   "outputs": [
    {
     "ename": "KeyError",
     "evalue": "'rationale'",
     "output_type": "error",
     "traceback": [
      "\u001b[1;31m---------------------------------------------------------------------------\u001b[0m",
      "\u001b[1;31mKeyError\u001b[0m                                  Traceback (most recent call last)",
      "Cell \u001b[1;32mIn[31], line 1\u001b[0m\n\u001b[1;32m----> 1\u001b[0m \u001b[38;5;28mprint\u001b[39m(\u001b[43mresponse\u001b[49m\u001b[43m[\u001b[49m\u001b[38;5;124;43m\"\u001b[39;49m\u001b[38;5;124;43mtxt2sql\u001b[39;49m\u001b[38;5;124;43m\"\u001b[39;49m\u001b[43m]\u001b[49m\u001b[43m[\u001b[49m\u001b[38;5;124;43m\"\u001b[39;49m\u001b[38;5;124;43mrationale\u001b[39;49m\u001b[38;5;124;43m\"\u001b[39;49m\u001b[43m]\u001b[49m)\n",
      "File \u001b[1;32mc:\\Users\\joanp\\Projects\\ctogov_rag\\.venv\\Lib\\site-packages\\dspy\\primitives\\example.py:34\u001b[0m, in \u001b[0;36mExample.__getitem__\u001b[1;34m(self, key)\u001b[0m\n\u001b[0;32m     33\u001b[0m \u001b[38;5;28;01mdef\u001b[39;00m \u001b[38;5;21m__getitem__\u001b[39m(\u001b[38;5;28mself\u001b[39m, key):\n\u001b[1;32m---> 34\u001b[0m     \u001b[38;5;28;01mreturn\u001b[39;00m \u001b[38;5;28;43mself\u001b[39;49m\u001b[38;5;241;43m.\u001b[39;49m\u001b[43m_store\u001b[49m\u001b[43m[\u001b[49m\u001b[43mkey\u001b[49m\u001b[43m]\u001b[49m\n",
      "\u001b[1;31mKeyError\u001b[0m: 'rationale'"
     ]
    }
   ],
   "source": [
    "print(response[\"txt2sql\"][\"rationale\"])"
   ]
  },
  {
   "cell_type": "code",
   "execution_count": null,
   "metadata": {},
   "outputs": [
    {
     "name": "stdout",
     "output_type": "stream",
     "text": [
      "produce a revised SQL query with proper syntax and avoid common mistakes.\n",
      "\n",
      "Common mistakes:\n",
      "- Data type mismatch in predicates\n",
      "- Properly quoting identifiers\n",
      "- Using the correct number of arguments for functions\n",
      "- Casting to the correct data type\n",
      "- Keep the query as simple as possible\n",
      "\n",
      "SQLQuery: AS e ON s.study_id = e.study_id WHERE (num_deaths + num_saes) > 5;\n",
      "\n",
      "Reasoning:\n",
      "1. First, let's ensure that all identifiers are properly quoted to avoid any potential issues with special characters or reserved keywords. In this case, there are no obvious unquoted identifiers in the query.\n",
      "2. Next, we need to make sure that data types match in predicates. Since `num_deaths` and `num_saes` are likely to be integers or decimal numbers, we don't need to worry about this issue in the given query.\n",
      "3. The query appears to be simple enough and doesn't involve any user-defined functions, so there is no need to check for the correct number of arguments for functions.\n",
      "4. Since the query doesn't involve any explicit casting operations, we don't need to worry about casting to the correct data type.\n",
      "5. To keep the query as simple as possible, let's avoid using subqueries if possible and instead join all necessary tables in a single query. However, since the given query already does this, there is no need for any modifications in this regard.\n",
      "6. The query uses ILIKE operator which is preferred over LIKE when working with text data and wanting case-insensitive matching. Since we don't see any text data being compared in the query, we don't need to make any changes here.\n",
      "7. Finally, let's ensure that all WHERE statements are case insensitive by using LOWER function on both sides of the comparison operator. However, since there is no WHERE clause in the given query, we don't need to make any changes here.\n"
     ]
    }
   ],
   "source": [
    "print(response[\"check_sql_query\"][\"rationale\"])"
   ]
  },
  {
   "cell_type": "code",
   "execution_count": 44,
   "metadata": {},
   "outputs": [
    {
     "name": "stdout",
     "output_type": "stream",
     "text": [
      "Here is an SQL query that should return the clinical trial ids associated with the condition 'Asthma' and conducted in the United States, China, and India, while involving the intervention 'Xhance', and reporting more than five affected subjects in either deaths or serious adverse events:\n",
      "\n",
      "```sql\n",
      "SELECT DISTINCT nct_id \n",
      "FROM conditions c\n",
      "JOIN diagnoses d ON c.condition_id = d.condition_id\n",
      "JOIN interventions i ON d.diagnosis_id = i.diagnosis_id\n",
      "JOIN trials t ON i.intervention_id = t.intervention_id\n",
      "WHERE c.name LIKE '%Asthma%' AND (t.country IN ('United States', 'China', 'India') OR FIND_STR(t.location, 'United States') > 0) AND i.drug_name = 'Xhance' AND (t.number_of_participants_affected_by_deaths > 5 OR t.number_of_participants_affected_by_serious_adverse_events > 5)\n",
      "ORDER BY t.start_date DESC;\n",
      "```\n",
      "\n",
      "This query assumes that there are tables named `conditions`, `diagnoses`, `interventions`, and `trials`. The `conditions` table contains the name of each condition, while the `diagnoses` table associates diagnoses with conditions. The `interventions` table links interventions to diagnoses, and the `trials` table connects trials to interventions and countries/locations.\n",
      "\n",
      "The query filters on the condition 'Asthma', the countries United States, China, and India, the intervention 'Xhance', and reports more than five affected subjects in either deaths or serious adverse events. The results are ordered by trial start date in descending order.\n"
     ]
    }
   ],
   "source": [
    "print(response[\"txt2sql\"][\"sql_query\"])"
   ]
  },
  {
   "cell_type": "code",
   "execution_count": 45,
   "metadata": {},
   "outputs": [
    {
     "name": "stdout",
     "output_type": "stream",
     "text": [
      "```sql-- Revised SQL query with common mistakes corrections\n",
      "REVISED:\n",
      "\n",
      "SQLQuery: SELECT DISTINCT nct_id FROM conditions c\n",
      "          JOIN diagnoses d ON c.condition_id = d.condition_id\n",
      "          JOIN interventions i ON d.diagnosis_id = i.intervention_id\n",
      "          JOIN trials t ON i.intervention_id = t.intervention_id\n",
      "         WHERE c.name LIKE '%Asthma%' -- ILIKE is preferred over LIKE for case-insensitive search in PostgreSQL, but LIKE works as well\n",
      "         AND (t.country IN ('United States', 'China', 'India') -- No need to use OR with FIND_STR since IN can handle NULL values\n",
      "             OR t.location LIKE '%United States%' -- Properly quote identifiers and use % for wildcard characters\n",
      "           )\n",
      "         AND i.drug_name = 'Xhance'\n",
      "         AND (t.number_of_participants_affected_by_deaths > 5 OR t.number_of_participants_affected_by_serious_adverse_events > 5) -- Use proper data types and cast if necessary\n",
      "         ORDER BY t.start_date DESC;\n",
      "\n",
      "Revised SQLQuery:\n",
      "SELECT DISTINCT nct_id\n",
      "FROM conditions c\n",
      "JOIN diagnoses d ON c.condition_id = d.condition_id\n",
      "JOIN interventions i ON d.diagnosis_id = i.intervention_id\n",
      "JOIN trials t ON i.intervention_id = t.intervention_id\n",
      "WHERE LOWER(c.name) LIKE '%asthma%' -- Make all WHERE statements case insensitive using LOWER\n",
      "AND (t.country IN ('United States', 'China', 'India')\n",
      "     OR (t.location IS NOT NULL AND t.location LIKE '%united states%')) -- Properly quote identifiers and use % for wildcard characters\n",
      "AND i.drug_name = 'Xhance'\n",
      "AND (CAST(t.number_of_participants_affected_by_deaths AS INT\n"
     ]
    }
   ],
   "source": [
    "print(response[\"check_sql_query\"][\"revised_sql\"])"
   ]
  },
  {
   "cell_type": "code",
   "execution_count": 46,
   "metadata": {},
   "outputs": [
    {
     "name": "stdout",
     "output_type": "stream",
     "text": [
      "SELECT DISTINCT nct\\_id FROM conditions c\n",
      "JOIN diagnoses d ON c.condition\\_id = d.condition\\_id\n",
      "JOIN interventions i ON d.diagnosis\\_id = i.intervention\\_id\n",
      "JOIN trials t ON i.intervention\\_id = t.intervention\\_id\n",
      "WHERE LOWER(c.name) LIKE '%asthma%' -- Make all WHERE statements case insensitive using LOWER\n",
      "AND (t.country IN ('United States', 'China', 'India') OR (t.location IS NOT NULL AND t.location LIKE '%united states%')) -- Properly quote identifiers and use % for wildcard characters\n",
      "AND i.drug\\_name = 'Xhance'\n",
      "AND (CAST(t.number\\_of\\_participants\\_affected\\_by\\_deaths AS INT) > 5 OR CAST(t.number\\_of\\_participants\\_affected\\_by\\_serious\\_adverse\\_events AS INT) > 5);\n",
      "\n",
      "This revised SQL query should correctly search for clinical trials related to Asthma in the United States, Canada, or India involving at least 6 participants affected by deaths or serious adverse events. The results will be ordered by descending start date.\n"
     ]
    }
   ],
   "source": [
    "print(response[\"check_sql_schema\"][\"revised_sql\"])"
   ]
  },
  {
   "cell_type": "code",
   "execution_count": 61,
   "metadata": {},
   "outputs": [],
   "source": [
    "lm = dspy.OllamaLocal(model=\"mistral\",stop=[\"[INST]\", \"[/INST]\"], max_tokens=2000)\n",
    "dspy.settings.configure(lm=lm, temperature=0.7)\n",
    "\n",
    "qa = dspy.Predict(\"question -> long_answer\")\n",
    "response = qa(question=\"Write a long text about Health Data Science\")"
   ]
  },
  {
   "cell_type": "code",
   "execution_count": 62,
   "metadata": {},
   "outputs": [
    {
     "name": "stdout",
     "output_type": "stream",
     "text": [
      "Title: Unraveling the Intricacies of Health Data Science: A Comprehensive Overview\n",
      "\n",
      "Health Data Science (HDS) is an interdisciplinary field that combines principles from healthcare, data science, and various domains of engineering to extract meaningful insights from health-related data. This data-driven approach aims to improve patient outcomes, optimize clinical workflows, and advance medical research.\n",
      "\n",
      "The Health Data Science landscape encompasses several key components:\n",
      "\n",
      "1. **Data Collection**: The first step in HDS involves gathering relevant data from various sources such as Electronic Health Records (EHRs), wearable devices, clinical trials, and public health databases. This data can include demographic information, medical histories, lab results, vital signs, and imaging studies.\n",
      "\n",
      "2. **Data Preprocessing**: Once collected, the raw data undergoes preprocessing to ensure its quality and consistency. This may involve cleaning, normalization, and transformation of data into a format suitable for analysis.\n",
      "\n",
      "3. **Data Analysis**: The core of HDS lies in applying advanced analytical techniques to uncover hidden patterns and trends within the data. Machine learning algorithms, statistical models, and deep learning architectures are commonly used for this purpose. These methods can help identify risk factors for diseases, predict patient outcomes, and suggest personalized treatment plans.\n",
      "\n",
      "4. **Data Visualization**: To effectively communicate insights derived from HDS analysis, visualization techniques are employed to create intuitive representations of complex data. These visualizations can aid in understanding trends, identifying correlations, and making informed decisions.\n",
      "\n",
      "5. **Data Integration**: In a healthcare setting, data often originates from multiple sources, necessitating integration to ensure completeness and accuracy. This may involve merging data from disparate systems or standardizing data formats to enable interoperability.\n",
      "\n",
      "6. **Data Security and Privacy**: Given the sensitive nature of health data, ensuring its security and privacy is paramount. Technologies such as encryption, access control, and anonymization are employed to protect patient information while maintaining data availability for analysis.\n",
      "\n",
      "7. **Implementation and Feedback**: The final step in HDS involves implementing insights gained from the analysis into clinical workflows or research studies. Continuous feedback is essential to refine models and improve outcomes over time.\n",
      "\n",
      "In conclusion, Health Data Science represents a powerful tool in the quest for personalized healthcare and improved patient outcomes. By harnessing the potential of data-driven insights, HDS can help transform healthcare delivery, advance medical research, and ultimately, enhance the quality of care provided to patients.\n"
     ]
    }
   ],
   "source": [
    "print(response[\"long_answer\"])"
   ]
  },
  {
   "cell_type": "code",
   "execution_count": null,
   "metadata": {},
   "outputs": [],
   "source": []
  }
 ],
 "metadata": {
  "kernelspec": {
   "display_name": ".venv",
   "language": "python",
   "name": "python3"
  },
  "language_info": {
   "codemirror_mode": {
    "name": "ipython",
    "version": 3
   },
   "file_extension": ".py",
   "mimetype": "text/x-python",
   "name": "python",
   "nbconvert_exporter": "python",
   "pygments_lexer": "ipython3",
   "version": "3.11.5"
  }
 },
 "nbformat": 4,
 "nbformat_minor": 2
}
