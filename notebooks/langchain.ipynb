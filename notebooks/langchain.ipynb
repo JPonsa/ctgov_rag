{
 "cells": [
  {
   "cell_type": "markdown",
   "metadata": {},
   "source": [
    "Vector Search"
   ]
  },
  {
   "cell_type": "code",
   "execution_count": 5,
   "metadata": {},
   "outputs": [],
   "source": [
    "from langchain_community.vectorstores import Neo4jVector\n",
    "from langchain_community.embeddings import HuggingFaceEmbeddings"
   ]
  },
  {
   "cell_type": "code",
   "execution_count": 6,
   "metadata": {},
   "outputs": [
    {
     "name": "stderr",
     "output_type": "stream",
     "text": [
      "c:\\Users\\joanp\\Projects\\ctgov_rag\\.venv\\Lib\\site-packages\\tqdm\\auto.py:21: TqdmWarning: IProgress not found. Please update jupyter and ipywidgets. See https://ipywidgets.readthedocs.io/en/stable/user_install.html\n",
      "  from .autonotebook import tqdm as notebook_tqdm\n",
      "No sentence-transformers model found with name dmis-lab/biobert-base-cased-v1.1. Creating a new one with MEAN pooling.\n"
     ]
    }
   ],
   "source": [
    "biobert = HuggingFaceEmbeddings(model_name=\"dmis-lab/biobert-base-cased-v1.1\")"
   ]
  },
  {
   "cell_type": "code",
   "execution_count": 7,
   "metadata": {},
   "outputs": [],
   "source": [
    "username = \"tester\"\n",
    "password = \"password\"\n",
    "url = \"bolt://localhost:7689\"\n",
    "database=\"ctgov\""
   ]
  },
  {
   "cell_type": "code",
   "execution_count": 8,
   "metadata": {},
   "outputs": [],
   "source": [
    "from neo4j import GraphDatabase\n",
    "driver = GraphDatabase.driver(url, auth=(username, password), encrypted=False)\n",
    "driver.verify_connectivity()"
   ]
  },
  {
   "cell_type": "code",
   "execution_count": 115,
   "metadata": {},
   "outputs": [],
   "source": [
    "def run_retriever(retriever, term:str):\n",
    "    response = retriever.invoke(term)\n",
    "    return \"\\n\".join([doc.page_content for doc in response])"
   ]
  },
  {
   "cell_type": "code",
   "execution_count": 34,
   "metadata": {},
   "outputs": [],
   "source": [
    "def fromToCtTo_query(from_node:str, from_property:str, to_node:str, to_property:str)->str:\n",
    "    query = \"\"\"\n",
    "    WITH node, score\n",
    "    OPTIONAL MATCH path = (node)-[:{from_node}ToStudyAssociation]->(ct:ClinicalTrial)-[:StudyTo{to_node}Association]->(target:{to_node})\n",
    "    WITH node.{from_property} AS from_node_txt, COLLECT(DISTINCT target.{to_property}) AS to_node_list, max(score) AS score // deduplicate parents\n",
    "    RETURN \"{from_node}: \"+from_node_txt+\". {to_node}: \"+apoc.text.join(to_node_list, ', ') AS text, score, {{}} AS metadata\n",
    "    \"\"\"\n",
    "    cmd = query.format(from_node=from_node, from_property=from_property, to_node=to_node, to_property=to_property)\n",
    "    return cmd"
   ]
  },
  {
   "cell_type": "code",
   "execution_count": 79,
   "metadata": {},
   "outputs": [],
   "source": [
    "def fromToCt_query(from_node:str, from_property:str, ct_properties:list[str])->str:\n",
    "    \n",
    "    ct_properties_str = \", \".join([f\"{p} = \\\"+ct.{p}+\\\" \" for p in ct_properties])+\"\\\"\"\n",
    "    \n",
    "    query = \"\"\"\n",
    "    WITH node, score\n",
    "    OPTIONAL MATCH (node)-[:{from_node}ToStudyAssociation]->(ct:ClinicalTrial)\n",
    "    WITH node, ct, max(score) AS score // deduplicate parents\n",
    "    RETURN \"{from_node}: \"+node.{from_property}+\". ClinicalTrial: {ct_properties_str} AS text, score, {{}} AS metadata\n",
    "    \"\"\"\n",
    "    cmd = query.format(from_node=from_node, from_property=from_property, ct_properties_str=ct_properties_str)\n",
    "    return cmd"
   ]
  },
  {
   "cell_type": "code",
   "execution_count": 117,
   "metadata": {},
   "outputs": [
    {
     "name": "stdout",
     "output_type": "stream",
     "text": [
      "Intervention: Tralokinumab. AdverseEvent: Hypertension, Dyspnoea, Cough, Headache, Back pain, Arthralgia, Viral upper respiratory tract infection, Sinusitis, Oral candidiasis, Injection site pruritus, Injection site pain, Injection site erythema, Fatigue, Asthma, Vaginal prolapse, Acute kidney injury, Uterine leiomyoma, Breast cancer female, Tendonitis, Rotator cuff syndrome, Weight decreased, Pulmonary function test abnormal, Rib fracture, Hand fracture, Urinary tract infection, Influenza, Bronchitis, Colitis, Epistaxis, Rhinorrhoea, Oropharyngeal pain, Procedural pain, Weight increased, Non-cardiac chest pain, Injection site swelling, Rash, Nausea, Vomiting, Upper respiratory tract infection, Angioedema, Pulmonary embolism, Pharyngeal oedema, Atelectasis, Prostatitis, Metrorrhagia, Hallucination, Depression, Vertebrobasilar insufficiency, Vascular encephalopathy, Ischaemic stroke, Haemorrhagic stroke, Dizziness, Cerebral haemorrhage, Carpal tunnel syndrome, Uterine cancer, Cervix carcinoma, Basal cell carcinoma, Trigger finger, Synovitis, Spinal pain, Rheumatoid arthritis, Osteochondrosis, Ankylosing spondylitis, Hypovolaemia, Hypokalaemia, Dyslipidaemia, Blood pressure increased, Post-traumatic pain, Post procedural complication, Meniscus injury, Laceration, Femur fracture, Pyelonephritis acute, Pyelonephritis, Pneumonia viral, Pneumonia, Herpes zoster, Gastroenteritis, Erysipelas, Diarrhoea infectious, Appendicitis, Eosinophilic granulomatosis with polyangiitis, Cholelithiasis, Cholecystitis acute, Umbilical hernia, Swollen tongue, Gastrooesophageal reflux disease, Erosive duodenitis, Diarrhoea, Retinal detachment, Cataract, Ovarian cyst, Transient ischaemic attack, Radiculopathy, Cerebrovascular disorder, Osteoarthritis, Limb injury, Joint dislocation, Humerus fracture, Fall, Facial bones fracture, Peritonitis, Chronic sinusitis, Supraventricular tachycardia, Sinus node dysfunction, Pericarditis, Myocardial infarction, Coronary artery disease, Cardiac failure congestive, Cardiac failure acute, Cardiac failure, Atrial fibrillation, Arrhythmia, Angina unstable, Angina pectoris, Acute myocardial infarction, Lymphadenopathy, Anaemia\n",
      "Intervention: Experimental: tralokinumab. AdverseEvent: Headache, Viral upper respiratory tract infection, Upper respiratory tract infection, Bronchitis, Injection site reaction, Vitiligo, Nasal polyps, Bronchitis chronic, Asthma, Uterine haemorrhage, Ovarian cyst, Adnexa uteri pain, Urinary incontinence, Suicidal ideation, Vascular headache, Rectal cancer, Patellofemoral pain syndrome, Type 2 diabetes mellitus, Obesity, Aspartate aminotransferase increased, Alanine aminotransferase increased, Tendon rupture, Lumbar vertebral fracture, Humerus fracture, Urosepsis, Urinary tract infection, Tracheobronchitis, Pulmonary tuberculosis, Pneumonia, Otitis media acute, Osteomyelitis, Laryngitis viral, Hepatitis a, Appendicitis, Eosinophilic granulomatosis with polyangiitis, Cholecystitis acute, Oedema peripheral, Umbilical hernia, Oesophagitis, Oesophageal ulcer, Haematochezia, Dyspepsia, Constipation, Colitis ulcerative, Myocardial infarction, Cardiac failure, Atrial fibrillation, Angina unstable, Angina pectoris\n",
      "Intervention: Serelaxin. AdverseEvent: Vasculitis, Psoriasis, Erythema, Dermatitis contact, Epistaxis, Genital pain, Renal impairment, Haematuria, Restlessness, Insomnia, Delirium, Headache, Hyponatraemia, Hypokalaemia, Hypoglycaemia, Dehydration, Platelet count decreased, Blood pressure systolic decreased, Blood pressure decreased, Urinary tract infection, Influenza, Infection, Bacterial infection, Hyperbilirubinaemia, Infusion site pain, Nausea, Constipation, Ventricular extrasystoles, Iron deficiency anaemia, Anaemia, Oesophageal carcinoma, Metastases to peritoneum, Metastases to lymph nodes, Metastases to liver, Gastric cancer, Multi-organ failure, Intestinal ischaemia, Ventricular tachycardia, Coronary artery stenosis, Cardiac failure congestive, Cardiac failure, Atrial fibrillation\n",
      "Intervention: Navarixin. AdverseEvent: Rash, Dermatitis contact, Sinus congestion, Oropharyngeal pain, Nasal congestion, Menstruation irregular, Menstruation delayed, Insomnia, Migraine, Headache, Arthralgia, Procedural pain, Diarrhoea, Neutropenia, Lymphadenopathy, Gastroenteritis, Dysphonia, Cough, Upper respiratory tract infection, Nasopharyngitis, Lower respiratory tract infection, Influenza, Furuncle, Bacterial infection, Nausea, Abdominal pain upper, Conjunctivitis\n"
     ]
    }
   ],
   "source": [
    "# Intervention to Adverse Event\n",
    "\n",
    "int_to_ae = Neo4jVector.from_existing_graph(\n",
    "    embedding=biobert,\n",
    "    node_label= \"Intervention\", \n",
    "    embedding_node_property=\"biobert_emb\", \n",
    "    text_node_properties=[\"name\", \"type\"],\n",
    "    url=url,\n",
    "    index_name=\"intervention_biobert_emb\",\n",
    "    keyword_index_name=\"intervention_kw\",\n",
    "    username=username, \n",
    "    password=password, \n",
    "    database=database,\n",
    "    search_type=\"hybrid\",\n",
    "    retrieval_query=fromToCtTo_query(\"Intervention\", \"name\", \"AdverseEvent\", \"term\"),\n",
    "    ).as_retriever()\n",
    "\n",
    "context = run_retriever(int_to_ae, \"tralokinumab\")\n",
    "print(context)\n",
    "\n"
   ]
  },
  {
   "cell_type": "code",
   "execution_count": 118,
   "metadata": {},
   "outputs": [
    {
     "name": "stdout",
     "output_type": "stream",
     "text": [
      "Intervention: Tralokinumab. ClinicalTrial: id = NCT02281357 , study_type = INTERVENTIONAL , brief_title = Phase 3 Study to Evaluate the Efficacy & Safety of Tralokinumab in Adults & Adolescents With OCS Dependent Asthma \n",
      "Intervention: Tralokinumab. ClinicalTrial: id = NCT02449473 , study_type = INTERVENTIONAL , brief_title = Study to Evaluate Efficacy & Safety of Tralokinumab in Subjects With Asthma Inadequately Controlled on Corticosteroids \n",
      "Intervention: Tralokinumab. ClinicalTrial: id = NCT02161757 , study_type = INTERVENTIONAL , brief_title = A Phase 3 Study to Evaluate the Efficacy and Safety of Tralokinumab in Adults and Adolescents With Uncontrolled Asthma \n",
      "Intervention: Experimental: tralokinumab. ClinicalTrial: id = NCT02194699 , study_type = INTERVENTIONAL , brief_title = A Phase 3 Study to Evaluate the Efficacy and Safety of Tralokinumab in Adults and Adolescents With Uncontrolled Asthma \n",
      "Intervention: Serelaxin. ClinicalTrial: id = NCT02002702 , study_type = INTERVENTIONAL , brief_title = Study of Safety, Tolerability and Pharmacokinetics of Serelaxin in Japanese Acute Heart Failure (AHF) Patients \n",
      "Intervention: Navarixin. ClinicalTrial: id = NCT00688467 , study_type = INTERVENTIONAL , brief_title = Efficacy and Safety of Navarixin (SCH 527123) in Participants With Allergen-Induced Asthma (P05363) \n",
      "Intervention: Navarixin. ClinicalTrial: id = NCT00632502 , study_type = INTERVENTIONAL , brief_title = Neutrophilic Asthma Study With Navarixin (MK-7123, SCH 527123) (MK-7123-017)(COMPLETED) \n"
     ]
    }
   ],
   "source": [
    "# Intervention To Clinical Trial\n",
    "\n",
    "int_to_ct = Neo4jVector.from_existing_graph(\n",
    "    embedding=biobert,\n",
    "    node_label= \"Intervention\", \n",
    "    embedding_node_property=\"biobert_emb\", \n",
    "    text_node_properties=[\"name\", \"type\"],\n",
    "    url=url,\n",
    "    index_name=\"intervention_biobert_emb\",\n",
    "    keyword_index_name=\"intervention_kw\",\n",
    "    username=username, \n",
    "    password=password, \n",
    "    database=database,\n",
    "    search_type=\"hybrid\",\n",
    "    retrieval_query=fromToCt_query(\"Intervention\", \"name\", [\"id\", \"study_type\",\"brief_title\"]),\n",
    "    ).as_retriever()\n",
    "\n",
    "x = run_retriever(int_to_ct, \"tralokinumab\")\n",
    "print(x)\n"
   ]
  },
  {
   "cell_type": "code",
   "execution_count": null,
   "metadata": {},
   "outputs": [],
   "source": [
    "adverse_event = Neo4jVector.from_existing_graph(\n",
    "    embedding=biobert,\n",
    "    node_label= \"intervention\", \n",
    "    embedding_node_property=\"biobert_emb\", \n",
    "    text_node_properties=[\"term\",\"organ_system\"],\n",
    "    url=url,\n",
    "    index_name=\"adverse_event\",\n",
    "    keyword_index_name= \"adverse_event_kw\",\n",
    "    search_type=\"hybrid\",\n",
    "    username=username, \n",
    "    password=password, \n",
    "    database=database,\n",
    "    )"
   ]
  },
  {
   "cell_type": "code",
   "execution_count": null,
   "metadata": {},
   "outputs": [],
   "source": [
    "adverse_event.retrieval_query"
   ]
  },
  {
   "cell_type": "code",
   "execution_count": null,
   "metadata": {},
   "outputs": [],
   "source": [
    "# Replace retrieval_query so it includes ID\n",
    "#adverse_event.retrieval_query = adverse_event.retrieval_query.replace(\"id: Null\", \"`trial2vec_emb` : Null\")\n",
    "adverse_event.retrieval_query = adverse_event.retrieval_query.replace(\"id: Null\", \"\").replace(\",,\",\",\").replace(\", ,\",\",\")"
   ]
  },
  {
   "cell_type": "code",
   "execution_count": null,
   "metadata": {},
   "outputs": [],
   "source": [
    "adverse_event.retrieval_query"
   ]
  },
  {
   "cell_type": "code",
   "execution_count": null,
   "metadata": {},
   "outputs": [],
   "source": [
    "test = adverse_event.similarity_search_with_score(\"Anaemia\", k=3)\n",
    "print(test)"
   ]
  },
  {
   "cell_type": "code",
   "execution_count": null,
   "metadata": {},
   "outputs": [],
   "source": [
    "test[0][0].page_content.lstrip(\"\\n\").replace(\"\\n\", \" | \")"
   ]
  },
  {
   "cell_type": "code",
   "execution_count": null,
   "metadata": {},
   "outputs": [],
   "source": [
    "test[0][0].metadata[\"id\"]"
   ]
  },
  {
   "cell_type": "code",
   "execution_count": null,
   "metadata": {},
   "outputs": [],
   "source": [
    "condition = Neo4jVector.from_existing_graph(\n",
    "    embedding=biobert,\n",
    "    node_label= \"Condition\", \n",
    "    embedding_node_property=\"biobert_emb\", \n",
    "    text_node_properties=[\"id\",],\n",
    "    url=url,\n",
    "    index_name=\"condition\",\n",
    "    keyword_index_name=\"condition_kw\",\n",
    "    search_type=\"hybrid\",\n",
    "    username=username, \n",
    "    password=password, \n",
    "    database=database,\n",
    "    )"
   ]
  },
  {
   "cell_type": "code",
   "execution_count": null,
   "metadata": {},
   "outputs": [],
   "source": [
    "condition.similarity_search_with_score(\"Cancer\", k=3)"
   ]
  },
  {
   "cell_type": "markdown",
   "metadata": {},
   "source": [
    "txt-2-SQL"
   ]
  },
  {
   "cell_type": "code",
   "execution_count": null,
   "metadata": {},
   "outputs": [],
   "source": [
    "from langchain_community.utilities import SQLDatabase"
   ]
  },
  {
   "cell_type": "code",
   "execution_count": null,
   "metadata": {},
   "outputs": [],
   "source": [
    "import os\n",
    "from dotenv import load_dotenv\n",
    "\n",
    "load_dotenv(\".env\")\n",
    "AACT_USER = os.getenv(\"AACT_USER\")\n",
    "AACT_PWD = os.getenv(\"AACT_PWD\")"
   ]
  },
  {
   "cell_type": "code",
   "execution_count": null,
   "metadata": {},
   "outputs": [],
   "source": [
    "AACT_USER = os.getenv(\"AACT_USER\")\n",
    "AACT_PWD = os.getenv(\"AACT_PWD\")"
   ]
  },
  {
   "cell_type": "code",
   "execution_count": null,
   "metadata": {},
   "outputs": [],
   "source": [
    "tables = [\n",
    "    \"browse_interventions\",\n",
    "    \"sponsors\",\n",
    "    \"outcome_analysis_groups\",\n",
    "    \"detailed_descriptions\",\n",
    "    \"facilities\",\n",
    "    \"studies\",\n",
    "    \"outcomes\",\n",
    "    \"browse_conditions\",\n",
    "    \"outcome_analyses\",\n",
    "    \"keywords\",\n",
    "    \"eligibilities\",\n",
    "    \"id_information\",\n",
    "    \"design_group_interventions\",\n",
    "    \"reported_events\",\n",
    "    \"brief_summaries\",\n",
    "    \"designs\",\n",
    "    \"drop_withdrawals\",\n",
    "    \"outcome_measurements\",\n",
    "    \"countries\",\n",
    "]"
   ]
  },
  {
   "cell_type": "code",
   "execution_count": null,
   "metadata": {},
   "outputs": [],
   "source": [
    "from langchain_community.llms import Ollama\n",
    "llm = Ollama(model=\"sqlcoder\")"
   ]
  },
  {
   "cell_type": "code",
   "execution_count": null,
   "metadata": {},
   "outputs": [],
   "source": [
    "llm.invoke(\"Hello, world!\")"
   ]
  },
  {
   "cell_type": "code",
   "execution_count": null,
   "metadata": {},
   "outputs": [],
   "source": [
    "database = \"aact\"\n",
    "host = \"aact-db.ctti-clinicaltrials.org\"\n",
    "user = AACT_USER\n",
    "password = AACT_PWD\n",
    "port = 5432\n",
    "db_uri = f\"postgresql+psycopg2://{user}:{password}@{host}:{port}/{database}\"\n",
    "sql_db = SQLDatabase.from_uri(db_uri, include_tables=tables)"
   ]
  },
  {
   "cell_type": "code",
   "execution_count": null,
   "metadata": {},
   "outputs": [],
   "source": [
    "from langchain_community.agent_toolkits import create_sql_agent\n",
    "agent_executor = create_sql_agent(llm, db=sql_db, verbose=True, ,agent_executor_kwargs={\"return_intermediate_steps\": True})"
   ]
  },
  {
   "cell_type": "code",
   "execution_count": null,
   "metadata": {},
   "outputs": [],
   "source": [
    "sql_db.get_table_info"
   ]
  },
  {
   "cell_type": "code",
   "execution_count": null,
   "metadata": {},
   "outputs": [],
   "source": [
    "sql_db.get_usable_table_names()"
   ]
  },
  {
   "cell_type": "code",
   "execution_count": null,
   "metadata": {},
   "outputs": [],
   "source": [
    "print(sql_db.get_table_info(sql_db.get_usable_table_names()))"
   ]
  },
  {
   "cell_type": "code",
   "execution_count": null,
   "metadata": {},
   "outputs": [],
   "source": [
    "sql_db.get_table_info_no_throw()"
   ]
  },
  {
   "cell_type": "code",
   "execution_count": null,
   "metadata": {},
   "outputs": [],
   "source": [
    "query_str = (\n",
    "    \"Which study ids are associated with \"\n",
    "    \"the condition 'Asthma' and conducted in the United States, China, and India, \"\n",
    "    \"while involving the intervention 'Xhance', and reporting more than five affected subjects \"\n",
    "    \"in either 'deaths' or 'serious' adverse events?\"\n",
    ")"
   ]
  },
  {
   "cell_type": "code",
   "execution_count": null,
   "metadata": {},
   "outputs": [],
   "source": [
    "response = agent_executor.invoke(query_str)"
   ]
  },
  {
   "cell_type": "code",
   "execution_count": null,
   "metadata": {},
   "outputs": [],
   "source": [
    "print(response)"
   ]
  },
  {
   "cell_type": "code",
   "execution_count": null,
   "metadata": {},
   "outputs": [],
   "source": [
    "print(sql_db.table_info)"
   ]
  },
  {
   "cell_type": "markdown",
   "metadata": {},
   "source": [
    "Json Loader"
   ]
  },
  {
   "cell_type": "code",
   "execution_count": null,
   "metadata": {},
   "outputs": [],
   "source": [
    "from src.utils.utils import get_clinical_trial_study\n",
    "from langchain_community.document_loaders import JSONLoader"
   ]
  },
  {
   "cell_type": "code",
   "execution_count": null,
   "metadata": {},
   "outputs": [],
   "source": [
    "study = get_clinical_trial_study(\"NCT01164592\")\n",
    "study = {\"NCT01164592\":study}"
   ]
  },
  {
   "cell_type": "code",
   "execution_count": null,
   "metadata": {},
   "outputs": [],
   "source": [
    "from langchain_text_splitters import RecursiveJsonSplitter\n",
    "splitter = RecursiveJsonSplitter(max_chunk_size=300)\n"
   ]
  },
  {
   "cell_type": "code",
   "execution_count": null,
   "metadata": {},
   "outputs": [],
   "source": [
    "docs = splitter.create_documents(texts=[study])\n"
   ]
  },
  {
   "cell_type": "code",
   "execution_count": null,
   "metadata": {},
   "outputs": [],
   "source": []
  }
 ],
 "metadata": {
  "kernelspec": {
   "display_name": ".venv",
   "language": "python",
   "name": "python3"
  },
  "language_info": {
   "codemirror_mode": {
    "name": "ipython",
    "version": 3
   },
   "file_extension": ".py",
   "mimetype": "text/x-python",
   "name": "python",
   "nbconvert_exporter": "python",
   "pygments_lexer": "ipython3",
   "version": "3.11.5"
  }
 },
 "nbformat": 4,
 "nbformat_minor": 2
}
