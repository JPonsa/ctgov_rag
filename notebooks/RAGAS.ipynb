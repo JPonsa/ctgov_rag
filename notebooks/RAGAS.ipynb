{
 "cells": [
  {
   "cell_type": "code",
   "execution_count": 1,
   "metadata": {},
   "outputs": [],
   "source": [
    "import os\n",
    "from src.utils.utils import connect_to_mongoDB\n",
    "from dotenv import load_dotenv\n",
    "import pandas as pd\n",
    "import pymongo\n",
    "from pymongo.write_concern import WriteConcern"
   ]
  },
  {
   "cell_type": "code",
   "execution_count": 2,
   "metadata": {},
   "outputs": [
    {
     "name": "stderr",
     "output_type": "stream",
     "text": [
      "c:\\Users\\joanp\\Projects\\ctgov_rag\\.venv\\Lib\\site-packages\\pymongo\\uri_parser.py:321: UserWarning: The value of retrywrites must be 'true' or 'false'\n",
      "  return get_validated_options(opts, warn)\n"
     ]
    },
    {
     "name": "stdout",
     "output_type": "stream",
     "text": [
      "Pinged your deployment. You successfully connected to MongoDB!\n"
     ]
    }
   ],
   "source": [
    "load_dotenv(\".env\")\n",
    "MONGODB_USER = os.getenv(\"MONGODB_USER\")\n",
    "MONGODB_PWD = os.getenv(\"MONGODB_PWD\")\n",
    "\n",
    "os.environ[\"LANGCHAIN_PROJECT\"] = \"RAGAS\"\n",
    "\n",
    "client = connect_to_mongoDB(MONGODB_USER, MONGODB_PWD)\n",
    "ctgov = client[\"ctGov\"]\n",
    "preprocessed = ctgov[\"preprocessed\"]"
   ]
  },
  {
   "cell_type": "code",
   "execution_count": 3,
   "metadata": {},
   "outputs": [],
   "source": [
    "studies = []\n",
    "for study in preprocessed.find({})[:10]:\n",
    "    nctId = study.pop(\"_id\")\n",
    "    studies.append({nctId:study})"
   ]
  },
  {
   "cell_type": "code",
   "execution_count": 4,
   "metadata": {},
   "outputs": [
    {
     "name": "stderr",
     "output_type": "stream",
     "text": [
      "c:\\Users\\joanp\\Projects\\ctgov_rag\\.venv\\Lib\\site-packages\\tqdm\\auto.py:21: TqdmWarning: IProgress not found. Please update jupyter and ipywidgets. See https://ipywidgets.readthedocs.io/en/stable/user_install.html\n",
      "  from .autonotebook import tqdm as notebook_tqdm\n"
     ]
    }
   ],
   "source": [
    "from src.utils.utils import get_clinical_trial_study\n",
    "\n",
    "from langchain_text_splitters import RecursiveJsonSplitter\n",
    "from langchain_community.llms import Ollama\n",
    "from langchain_community.embeddings import HuggingFaceEmbeddings\n",
    "\n",
    "from ragas.testset.generator import TestsetGenerator\n",
    "from ragas.testset.evolutions import simple, reasoning, multi_context\n",
    "\n",
    "# Helps asyncio run within Jupyter\n",
    "import nest_asyncio\n",
    "nest_asyncio.apply()\n",
    "\n",
    "\n",
    "splitter = RecursiveJsonSplitter(max_chunk_size=2500)\n",
    "docs = splitter.create_documents(texts=studies)\n",
    "\n",
    "for d in docs:\n",
    "    d.metadata[\"filename\"] = d.page_content[2:13]\n",
    "\n",
    "generator_llm = Ollama(model=\"mistral\")\n",
    "critic_llm = Ollama(model=\"mistral\")\n",
    "embeddings = HuggingFaceEmbeddings(model_name=\"all-MiniLM-L6-v2\")\n",
    "\n",
    "generator = TestsetGenerator.from_langchain(\n",
    "    generator_llm,\n",
    "    critic_llm,\n",
    "    embeddings\n",
    ")"
   ]
  },
  {
   "cell_type": "code",
   "execution_count": 5,
   "metadata": {},
   "outputs": [
    {
     "name": "stderr",
     "output_type": "stream",
     "text": [
      "embedding nodes:  89%|████████▊ | 39/44 [24:38<09:44, 116.94s/it]Failed to batch ingest runs: LangSmithError(\"Failed to post https://api.smith.langchain.com/runs/batch in LangSmith API. HTTPSConnectionPool(host='api.smith.langchain.com', port=443): Read timed out. (read timeout=10.0)\\n\")\n",
      "Generating:  40%|████      | 4/10 [1:27:30<1:38:32, 985.39s/it]  Failed to batch ingest runs: LangSmithError(\"Failed to post https://api.smith.langchain.com/runs/batch in LangSmith API. HTTPSConnectionPool(host='api.smith.langchain.com', port=443): Read timed out. (read timeout=10.0)\\n\")\n"
     ]
    }
   ],
   "source": [
    "testset = generator.generate_with_langchain_docs(docs, test_size=10, distributions={simple: 0.5, reasoning: 0.25, multi_context: 0.25})"
   ]
  },
  {
   "cell_type": "code",
   "execution_count": null,
   "metadata": {},
   "outputs": [],
   "source": [
    "testset.to_pandas().to_csv(\"./data/RAGA_testset.v2.csv\")"
   ]
  }
 ],
 "metadata": {
  "kernelspec": {
   "display_name": ".venv",
   "language": "python",
   "name": "python3"
  },
  "language_info": {
   "codemirror_mode": {
    "name": "ipython",
    "version": 3
   },
   "file_extension": ".py",
   "mimetype": "text/x-python",
   "name": "python",
   "nbconvert_exporter": "python",
   "pygments_lexer": "ipython3",
   "version": "3.11.5"
  }
 },
 "nbformat": 4,
 "nbformat_minor": 2
}
