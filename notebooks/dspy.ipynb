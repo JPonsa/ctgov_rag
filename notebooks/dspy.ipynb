{
 "cells": [
  {
   "cell_type": "code",
   "execution_count": 1,
   "metadata": {},
   "outputs": [
    {
     "name": "stderr",
     "output_type": "stream",
     "text": [
      "c:\\Users\\joanp\\Projects\\ctgov_rag\\.venv\\Lib\\site-packages\\tqdm\\auto.py:21: TqdmWarning: IProgress not found. Please update jupyter and ipywidgets. See https://ipywidgets.readthedocs.io/en/stable/user_install.html\n",
      "  from .autonotebook import tqdm as notebook_tqdm\n"
     ]
    },
    {
     "name": "stdout",
     "output_type": "stream",
     "text": [
      "❗️ The launch_app `port` parameter is deprecated and will be removed in a future release. Use the `PHOENIX_PORT` environment variable instead.\n",
      "❗️ The launch_app `host` parameter is deprecated and will be removed in a future release. Use the `PHOENIX_HOST` environment variable instead.\n",
      "🌍 To view the Phoenix app in your browser, visit http://localhost:6006/\n",
      "📺 To view the Phoenix app in a notebook, run `px.active_session().view()`\n",
      "📖 For more information on how to use Phoenix, check out https://docs.arize.com/phoenix\n"
     ]
    }
   ],
   "source": [
    "import phoenix\n",
    "from openinference.instrumentation.dspy import DSPyInstrumentor\n",
    "from opentelemetry import trace as trace_api\n",
    "from opentelemetry.exporter.otlp.proto.http.trace_exporter import OTLPSpanExporter\n",
    "from opentelemetry.sdk import trace as trace_sdk\n",
    "from opentelemetry.sdk.trace.export import SimpleSpanProcessor\n",
    "\n",
    "phoenix.launch_app(host=\"localhost\", port=6006)\n",
    "tracer_provider = trace_sdk.TracerProvider()\n",
    "tracer_provider.add_span_processor(SimpleSpanProcessor(span_exporter=OTLPSpanExporter(endpoint=\"http://localhost:6006/v1/traces\")))\n",
    "trace_api.set_tracer_provider(tracer_provider=tracer_provider)\n",
    "DSPyInstrumentor().instrument()"
   ]
  },
  {
   "cell_type": "code",
   "execution_count": 2,
   "metadata": {},
   "outputs": [],
   "source": [
    "def fromToCtTo_query(from_node:str, from_property:str, to_node:str, to_property:str)->str:\n",
    "    query = \"\"\"\n",
    "    WITH node, score\n",
    "    OPTIONAL MATCH path = (node)-[:{from_node}ToStudyAssociation]->(ct:ClinicalTrial)-[:StudyTo{to_node}Association]->(target:{to_node})\n",
    "    WITH node.{from_property} AS from_node_txt, COLLECT(DISTINCT target.{to_property}) AS to_node_list, max(score) AS score // deduplicate parents\n",
    "    RETURN \"{from_node}: \"+from_node_txt+\". {to_node}: \"+apoc.text.join(to_node_list, ', ') AS text, score, {{}} AS metadata\n",
    "    \"\"\"\n",
    "    cmd = query.format(from_node=from_node, from_property=from_property, to_node=to_node, to_property=to_property)\n",
    "    return cmd"
   ]
  },
  {
   "cell_type": "code",
   "execution_count": 3,
   "metadata": {},
   "outputs": [],
   "source": [
    "def fromToCt_query(from_node:str, from_property:str, ct_properties:list[str])->str:\n",
    "    \n",
    "    ct_properties_str = \", \".join([f\"{p} = \\\"+ct.{p}+\\\" \" for p in ct_properties])+\"\\\"\"\n",
    "    \n",
    "    query = \"\"\"\n",
    "    WITH node, score\n",
    "    OPTIONAL MATCH (node)-[:{from_node}ToStudyAssociation]->(ct:ClinicalTrial)\n",
    "    WITH node, ct, max(score) AS score // deduplicate parents\n",
    "    RETURN \"{from_node}: \"+node.{from_property}+\". ClinicalTrial: {ct_properties_str} AS text, score, {{}} AS metadata\n",
    "    \"\"\"\n",
    "    cmd = query.format(from_node=from_node, from_property=from_property, ct_properties_str=ct_properties_str)\n",
    "    return cmd"
   ]
  },
  {
   "cell_type": "code",
   "execution_count": 4,
   "metadata": {},
   "outputs": [],
   "source": [
    "from  sentence_transformers import SentenceTransformer\n",
    "biobert = SentenceTransformer(\"dmis-lab/biobert-base-cased-v1.1\")"
   ]
  },
  {
   "cell_type": "code",
   "execution_count": null,
   "metadata": {},
   "outputs": [],
   "source": [
    "# from dotenv import  load_dotenv\n",
    "# load_dotenv(\"../.env\")"
   ]
  },
  {
   "cell_type": "code",
   "execution_count": 5,
   "metadata": {},
   "outputs": [],
   "source": [
    "import os\n",
    "import dspy\n",
    "from dspy.retrieve.neo4j_rm import Neo4jRM\n",
    "\n",
    "os.environ[\"NEO4J_URI\"] = \"bolt://localhost:7689\"\n",
    "os.environ[\"NEO4J_USERNAME\"] = \"tester\"\n",
    "os.environ[\"NEO4J_PASSWORD\"] = \"password\"\n",
    "os.environ[\"NEO4J_DATABASE\"] = \"ctgov\"\n",
    "\n",
    "#lm = dspy.OpenAI(model='gpt-3.5-turbo')\n",
    "lm = dspy.OllamaLocal(model=\"mistral\",stop=[\"[INST]\", \"[/INST]\"], max_tokens=500, timeout_s=2000)\n",
    "dspy.settings.configure(lm=lm)\n",
    "\n",
    "\n",
    "\n",
    "neo4j_retriever = Neo4jRM(\n",
    "    index_name=\"intervention_biobert_emb\",\n",
    "    text_node_property=\"name\",\n",
    "    k=10,\n",
    "    embedding_provider=\"huggingface\",\n",
    "    embedding_model=\"dmis-lab/biobert-base-cased-v1.1\",\n",
    "    retrieval_query = fromToCtTo_query(\"Intervention\", \"name\", \"AdverseEvent\", \"term\"),\n",
    ")\n",
    "\n",
    "neo4j_retriever.embedder = biobert.encode\n",
    "\n",
    "# dspy.settings.configure(rm=neo4j_retriever)"
   ]
  },
  {
   "cell_type": "code",
   "execution_count": 9,
   "metadata": {},
   "outputs": [],
   "source": [
    "cond2ct_retriever = Neo4jRM(\n",
    "    index_name=\"condition_biobert_emb\",\n",
    "    text_node_property=\"name\",\n",
    "    k=10,\n",
    "    embedding_provider=\"huggingface\",\n",
    "    embedding_model=\"dmis-lab/biobert-base-cased-v1.1\",\n",
    "    retrieval_query = fromToCt_query(\"Intervention\", \"name\", [\"id\", \"study_type\",\"brief_title\"]),\n",
    ")\n",
    "\n",
    "cond2ct_retriever.embedder = biobert.encode"
   ]
  },
  {
   "cell_type": "code",
   "execution_count": 11,
   "metadata": {},
   "outputs": [
    {
     "name": "stderr",
     "output_type": "stream",
     "text": [
      "Batches: 100%|██████████| 1/1 [00:00<00:00,  9.05it/s]"
     ]
    },
    {
     "name": "stderr",
     "output_type": "stream",
     "text": [
      "\n"
     ]
    },
    {
     "data": {
      "text/plain": [
       "[{'long_text': None}, {'long_text': None}, {'long_text': None}]"
      ]
     },
     "execution_count": 11,
     "metadata": {},
     "output_type": "execute_result"
    }
   ],
   "source": [
    "cond2ct_retriever([\"Burkitt's Lymphoma\"], k=3)"
   ]
  },
  {
   "cell_type": "code",
   "execution_count": 6,
   "metadata": {},
   "outputs": [],
   "source": [
    "class InterventionToAdverseEvent(dspy.Module):\n",
    "    name = \"InterventionToAdverseEvent\"\n",
    "    input_variable = \"intervention\"\n",
    "    desc = \"Get the Adverse Events associated to a medical Intervention tested in a clinical trial\"\n",
    "    \n",
    "    def __init__(self):\n",
    "        self.retriever = Neo4jRM(index_name=\"intervention_biobert_emb\", \n",
    "                                 text_node_property=\"name\",\n",
    "                                embedding_provider=\"huggingface\",\n",
    "                                embedding_model=\"dmis-lab/biobert-base-cased-v1.1\",\n",
    "                                 k=10, \n",
    "                                 retrieval_query=fromToCtTo_query(\"Intervention\", \"name\", \"AdverseEvent\", \"term\"))\n",
    "        self.retriever.embedder = biobert.encode\n",
    "        \n",
    "    def __call__(self, intervention:str, k:int=5)->str:\n",
    "        print(f\"InterventionToAdverseEvent({intervention})\")\n",
    "        response = self.retriever(intervention, k)\n",
    "        response = \"\\n\".join([x[\"long_text\"] for x in response])\n",
    "        print(response)\n",
    "        return response"
   ]
  },
  {
   "cell_type": "code",
   "execution_count": 7,
   "metadata": {},
   "outputs": [],
   "source": [
    "class InterventionToCt(dspy.Module):\n",
    "    name = \"InterventionToCt\"\n",
    "    input_variable = \"intervention\"\n",
    "    desc = \"Get the Clinical Trials associated to a medical Intervention\"\n",
    "    \n",
    "    def __init__(self):\n",
    "        self.retriever = Neo4jRM(index_name=\"intervention_biobert_emb\", \n",
    "                                 text_node_property=\"name\",\n",
    "                                embedding_provider=\"huggingface\",\n",
    "                                embedding_model=\"dmis-lab/biobert-base-cased-v1.1\",\n",
    "                                 k=10, \n",
    "                                 retrieval_query=fromToCt_query(\"Intervention\", \"name\", [\"id\", \"study_type\",\"brief_title\"])\n",
    "                                 )\n",
    "        self.retriever.embedder = biobert.encode\n",
    "        \n",
    "    def __call__(self, intervention:str, k:int=5)->list:\n",
    "        print(f\"InterventionToCt({intervention})\")\n",
    "        response = self.retriever(intervention, k)\n",
    "        response = \"\\n\".join([x[\"long_text\"] for x in response])\n",
    "        print(response)\n",
    "        return response"
   ]
  },
  {
   "cell_type": "code",
   "execution_count": 8,
   "metadata": {},
   "outputs": [
    {
     "name": "stdout",
     "output_type": "stream",
     "text": [
      "InterventionToAdverseEvent(Tralokinumab)\n"
     ]
    },
    {
     "name": "stderr",
     "output_type": "stream",
     "text": [
      "Batches: 100%|██████████| 1/1 [00:01<00:00,  1.69s/it]\n"
     ]
    },
    {
     "name": "stdout",
     "output_type": "stream",
     "text": [
      "Intervention: Tralokinumab. AdverseEvent: Hypertension, Dyspnoea, Cough, Headache, Back pain, Arthralgia, Viral upper respiratory tract infection, Sinusitis, Oral candidiasis, Injection site pruritus, Injection site pain, Injection site erythema, Fatigue, Asthma, Vaginal prolapse, Acute kidney injury, Uterine leiomyoma, Breast cancer female, Tendonitis, Rotator cuff syndrome, Weight decreased, Pulmonary function test abnormal, Rib fracture, Hand fracture, Urinary tract infection, Influenza, Bronchitis, Colitis, Epistaxis, Rhinorrhoea, Oropharyngeal pain, Procedural pain, Weight increased, Non-cardiac chest pain, Injection site swelling, Rash, Nausea, Vomiting, Upper respiratory tract infection, Angioedema, Pulmonary embolism, Pharyngeal oedema, Atelectasis, Prostatitis, Metrorrhagia, Hallucination, Depression, Vertebrobasilar insufficiency, Vascular encephalopathy, Ischaemic stroke, Haemorrhagic stroke, Dizziness, Cerebral haemorrhage, Carpal tunnel syndrome, Uterine cancer, Cervix carcinoma, Basal cell carcinoma, Trigger finger, Synovitis, Spinal pain, Rheumatoid arthritis, Osteochondrosis, Ankylosing spondylitis, Hypovolaemia, Hypokalaemia, Dyslipidaemia, Blood pressure increased, Post-traumatic pain, Post procedural complication, Meniscus injury, Laceration, Femur fracture, Pyelonephritis acute, Pyelonephritis, Pneumonia viral, Pneumonia, Herpes zoster, Gastroenteritis, Erysipelas, Diarrhoea infectious, Appendicitis, Eosinophilic granulomatosis with polyangiitis, Cholelithiasis, Cholecystitis acute, Umbilical hernia, Swollen tongue, Gastrooesophageal reflux disease, Erosive duodenitis, Diarrhoea, Retinal detachment, Cataract, Ovarian cyst, Transient ischaemic attack, Radiculopathy, Cerebrovascular disorder, Osteoarthritis, Limb injury, Joint dislocation, Humerus fracture, Fall, Facial bones fracture, Peritonitis, Chronic sinusitis, Supraventricular tachycardia, Sinus node dysfunction, Pericarditis, Myocardial infarction, Coronary artery disease, Cardiac failure congestive, Cardiac failure acute, Cardiac failure, Atrial fibrillation, Arrhythmia, Angina unstable, Angina pectoris, Acute myocardial infarction, Lymphadenopathy, Anaemia\n",
      "Intervention: Experimental: tralokinumab. AdverseEvent: Headache, Viral upper respiratory tract infection, Upper respiratory tract infection, Bronchitis, Injection site reaction, Vitiligo, Nasal polyps, Bronchitis chronic, Asthma, Uterine haemorrhage, Ovarian cyst, Adnexa uteri pain, Urinary incontinence, Suicidal ideation, Vascular headache, Rectal cancer, Patellofemoral pain syndrome, Type 2 diabetes mellitus, Obesity, Aspartate aminotransferase increased, Alanine aminotransferase increased, Tendon rupture, Lumbar vertebral fracture, Humerus fracture, Urosepsis, Urinary tract infection, Tracheobronchitis, Pulmonary tuberculosis, Pneumonia, Otitis media acute, Osteomyelitis, Laryngitis viral, Hepatitis a, Appendicitis, Eosinophilic granulomatosis with polyangiitis, Cholecystitis acute, Oedema peripheral, Umbilical hernia, Oesophagitis, Oesophageal ulcer, Haematochezia, Dyspepsia, Constipation, Colitis ulcerative, Myocardial infarction, Cardiac failure, Atrial fibrillation, Angina unstable, Angina pectoris\n",
      "Intervention: Serelaxin. AdverseEvent: Vasculitis, Psoriasis, Erythema, Dermatitis contact, Epistaxis, Genital pain, Renal impairment, Haematuria, Restlessness, Insomnia, Delirium, Headache, Hyponatraemia, Hypokalaemia, Hypoglycaemia, Dehydration, Platelet count decreased, Blood pressure systolic decreased, Blood pressure decreased, Urinary tract infection, Influenza, Infection, Bacterial infection, Hyperbilirubinaemia, Infusion site pain, Nausea, Constipation, Ventricular extrasystoles, Iron deficiency anaemia, Anaemia, Oesophageal carcinoma, Metastases to peritoneum, Metastases to lymph nodes, Metastases to liver, Gastric cancer, Multi-organ failure, Intestinal ischaemia, Ventricular tachycardia, Coronary artery stenosis, Cardiac failure congestive, Cardiac failure, Atrial fibrillation\n",
      "Intervention: Navarixin. AdverseEvent: Rash, Dermatitis contact, Sinus congestion, Oropharyngeal pain, Nasal congestion, Menstruation irregular, Menstruation delayed, Insomnia, Migraine, Headache, Arthralgia, Procedural pain, Diarrhoea, Neutropenia, Lymphadenopathy, Gastroenteritis, Dysphonia, Cough, Upper respiratory tract infection, Nasopharyngitis, Lower respiratory tract infection, Influenza, Furuncle, Bacterial infection, Nausea, Abdominal pain upper, Conjunctivitis\n",
      "Intervention: Ularitide. AdverseEvent: \n",
      "InterventionToAdverseEvent(Tralokinumab)\n"
     ]
    },
    {
     "name": "stderr",
     "output_type": "stream",
     "text": [
      "Batches: 100%|██████████| 1/1 [00:00<00:00, 15.47it/s]\n"
     ]
    },
    {
     "name": "stdout",
     "output_type": "stream",
     "text": [
      "Intervention: Tralokinumab. AdverseEvent: Hypertension, Dyspnoea, Cough, Headache, Back pain, Arthralgia, Viral upper respiratory tract infection, Sinusitis, Oral candidiasis, Injection site pruritus, Injection site pain, Injection site erythema, Fatigue, Asthma, Vaginal prolapse, Acute kidney injury, Uterine leiomyoma, Breast cancer female, Tendonitis, Rotator cuff syndrome, Weight decreased, Pulmonary function test abnormal, Rib fracture, Hand fracture, Urinary tract infection, Influenza, Bronchitis, Colitis, Epistaxis, Rhinorrhoea, Oropharyngeal pain, Procedural pain, Weight increased, Non-cardiac chest pain, Injection site swelling, Rash, Nausea, Vomiting, Upper respiratory tract infection, Angioedema, Pulmonary embolism, Pharyngeal oedema, Atelectasis, Prostatitis, Metrorrhagia, Hallucination, Depression, Vertebrobasilar insufficiency, Vascular encephalopathy, Ischaemic stroke, Haemorrhagic stroke, Dizziness, Cerebral haemorrhage, Carpal tunnel syndrome, Uterine cancer, Cervix carcinoma, Basal cell carcinoma, Trigger finger, Synovitis, Spinal pain, Rheumatoid arthritis, Osteochondrosis, Ankylosing spondylitis, Hypovolaemia, Hypokalaemia, Dyslipidaemia, Blood pressure increased, Post-traumatic pain, Post procedural complication, Meniscus injury, Laceration, Femur fracture, Pyelonephritis acute, Pyelonephritis, Pneumonia viral, Pneumonia, Herpes zoster, Gastroenteritis, Erysipelas, Diarrhoea infectious, Appendicitis, Eosinophilic granulomatosis with polyangiitis, Cholelithiasis, Cholecystitis acute, Umbilical hernia, Swollen tongue, Gastrooesophageal reflux disease, Erosive duodenitis, Diarrhoea, Retinal detachment, Cataract, Ovarian cyst, Transient ischaemic attack, Radiculopathy, Cerebrovascular disorder, Osteoarthritis, Limb injury, Joint dislocation, Humerus fracture, Fall, Facial bones fracture, Peritonitis, Chronic sinusitis, Supraventricular tachycardia, Sinus node dysfunction, Pericarditis, Myocardial infarction, Coronary artery disease, Cardiac failure congestive, Cardiac failure acute, Cardiac failure, Atrial fibrillation, Arrhythmia, Angina unstable, Angina pectoris, Acute myocardial infarction, Lymphadenopathy, Anaemia\n",
      "Intervention: Experimental: tralokinumab. AdverseEvent: Headache, Viral upper respiratory tract infection, Upper respiratory tract infection, Bronchitis, Injection site reaction, Vitiligo, Nasal polyps, Bronchitis chronic, Asthma, Uterine haemorrhage, Ovarian cyst, Adnexa uteri pain, Urinary incontinence, Suicidal ideation, Vascular headache, Rectal cancer, Patellofemoral pain syndrome, Type 2 diabetes mellitus, Obesity, Aspartate aminotransferase increased, Alanine aminotransferase increased, Tendon rupture, Lumbar vertebral fracture, Humerus fracture, Urosepsis, Urinary tract infection, Tracheobronchitis, Pulmonary tuberculosis, Pneumonia, Otitis media acute, Osteomyelitis, Laryngitis viral, Hepatitis a, Appendicitis, Eosinophilic granulomatosis with polyangiitis, Cholecystitis acute, Oedema peripheral, Umbilical hernia, Oesophagitis, Oesophageal ulcer, Haematochezia, Dyspepsia, Constipation, Colitis ulcerative, Myocardial infarction, Cardiac failure, Atrial fibrillation, Angina unstable, Angina pectoris\n",
      "Intervention: Serelaxin. AdverseEvent: Vasculitis, Psoriasis, Erythema, Dermatitis contact, Epistaxis, Genital pain, Renal impairment, Haematuria, Restlessness, Insomnia, Delirium, Headache, Hyponatraemia, Hypokalaemia, Hypoglycaemia, Dehydration, Platelet count decreased, Blood pressure systolic decreased, Blood pressure decreased, Urinary tract infection, Influenza, Infection, Bacterial infection, Hyperbilirubinaemia, Infusion site pain, Nausea, Constipation, Ventricular extrasystoles, Iron deficiency anaemia, Anaemia, Oesophageal carcinoma, Metastases to peritoneum, Metastases to lymph nodes, Metastases to liver, Gastric cancer, Multi-organ failure, Intestinal ischaemia, Ventricular tachycardia, Coronary artery stenosis, Cardiac failure congestive, Cardiac failure, Atrial fibrillation\n",
      "Intervention: Navarixin. AdverseEvent: Rash, Dermatitis contact, Sinus congestion, Oropharyngeal pain, Nasal congestion, Menstruation irregular, Menstruation delayed, Insomnia, Migraine, Headache, Arthralgia, Procedural pain, Diarrhoea, Neutropenia, Lymphadenopathy, Gastroenteritis, Dysphonia, Cough, Upper respiratory tract infection, Nasopharyngitis, Lower respiratory tract infection, Influenza, Furuncle, Bacterial infection, Nausea, Abdominal pain upper, Conjunctivitis\n",
      "Intervention: Ularitide. AdverseEvent: \n",
      "Based on my analysis, it appears that the second thought is a continuation of the first but focuses specifically on adverse events associated with certain interventions. However, the adverse events listed do not seem to have any clear connection to each other or to the medical conditions mentioned in the first thought. It's possible that this text was generated by an automated system or algorithm designed to produce medical-related content, but with limited context or coherence. Therefore, I would recommend reviewing the original source of this information to gain a better understanding of the context and meaning behind these statements. Additionally, it may be helpful to consult medical literature or experts to determine if there are any known associations between the interventions listed and the adverse events mentioned. Finally, it's important to keep in mind that some of the adverse events listed are quite general and could be caused by a wide range of factors, not just the specific interventions mentioned.\n"
     ]
    },
    {
     "ename": "ValueError",
     "evalue": "not enough values to unpack (expected 2, got 1)",
     "output_type": "error",
     "traceback": [
      "\u001b[1;31m---------------------------------------------------------------------------\u001b[0m",
      "\u001b[1;31mValueError\u001b[0m                                Traceback (most recent call last)",
      "Cell \u001b[1;32mIn[8], line 14\u001b[0m\n\u001b[0;32m     12\u001b[0m \u001b[38;5;66;03m# Call the ReAct module on a particular input\u001b[39;00m\n\u001b[0;32m     13\u001b[0m question \u001b[38;5;241m=\u001b[39m \u001b[38;5;124m'\u001b[39m\u001b[38;5;124mWhat are the adverse events associated with drug Tralokinumab\u001b[39m\u001b[38;5;124m'\u001b[39m\n\u001b[1;32m---> 14\u001b[0m result \u001b[38;5;241m=\u001b[39m \u001b[43mreact_module\u001b[49m\u001b[43m(\u001b[49m\u001b[43mquestion\u001b[49m\u001b[38;5;241;43m=\u001b[39;49m\u001b[43mquestion\u001b[49m\u001b[43m)\u001b[49m\n\u001b[0;32m     16\u001b[0m \u001b[38;5;28mprint\u001b[39m(\u001b[38;5;124mf\u001b[39m\u001b[38;5;124m\"\u001b[39m\u001b[38;5;124mQuestion: \u001b[39m\u001b[38;5;132;01m{\u001b[39;00mquestion\u001b[38;5;132;01m}\u001b[39;00m\u001b[38;5;124m\"\u001b[39m)\n\u001b[0;32m     17\u001b[0m \u001b[38;5;28mprint\u001b[39m(\u001b[38;5;124mf\u001b[39m\u001b[38;5;124m\"\u001b[39m\u001b[38;5;124mFinal Predicted Answer (after ReAct process): \u001b[39m\u001b[38;5;132;01m{\u001b[39;00mresult\u001b[38;5;241m.\u001b[39manswer\u001b[38;5;132;01m}\u001b[39;00m\u001b[38;5;124m\"\u001b[39m)\n",
      "File \u001b[1;32mc:\\Users\\joanp\\Projects\\ctgov_rag\\.venv\\Lib\\site-packages\\openinference\\instrumentation\\dspy\\__init__.py:373\u001b[0m, in \u001b[0;36m_ModuleForwardWrapper.__call__\u001b[1;34m(self, wrapped, instance, args, kwargs)\u001b[0m\n\u001b[0;32m    353\u001b[0m \u001b[38;5;28;01mwith\u001b[39;00m \u001b[38;5;28mself\u001b[39m\u001b[38;5;241m.\u001b[39m_tracer\u001b[38;5;241m.\u001b[39mstart_as_current_span(\n\u001b[0;32m    354\u001b[0m     span_name,\n\u001b[0;32m    355\u001b[0m     attributes\u001b[38;5;241m=\u001b[39m\u001b[38;5;28mdict\u001b[39m(\n\u001b[1;32m   (...)\u001b[0m\n\u001b[0;32m    370\u001b[0m     ),\n\u001b[0;32m    371\u001b[0m ) \u001b[38;5;28;01mas\u001b[39;00m span:\n\u001b[0;32m    372\u001b[0m     \u001b[38;5;28;01mtry\u001b[39;00m:\n\u001b[1;32m--> 373\u001b[0m         prediction \u001b[38;5;241m=\u001b[39m \u001b[43mwrapped\u001b[49m\u001b[43m(\u001b[49m\u001b[38;5;241;43m*\u001b[39;49m\u001b[43margs\u001b[49m\u001b[43m,\u001b[49m\u001b[43m \u001b[49m\u001b[38;5;241;43m*\u001b[39;49m\u001b[38;5;241;43m*\u001b[39;49m\u001b[43mkwargs\u001b[49m\u001b[43m)\u001b[49m\n\u001b[0;32m    374\u001b[0m     \u001b[38;5;28;01mexcept\u001b[39;00m \u001b[38;5;167;01mException\u001b[39;00m \u001b[38;5;28;01mas\u001b[39;00m exception:\n\u001b[0;32m    375\u001b[0m         span\u001b[38;5;241m.\u001b[39mset_status(trace_api\u001b[38;5;241m.\u001b[39mStatus(trace_api\u001b[38;5;241m.\u001b[39mStatusCode\u001b[38;5;241m.\u001b[39mERROR, \u001b[38;5;28mstr\u001b[39m(exception)))\n",
      "File \u001b[1;32mc:\\Users\\joanp\\Projects\\ctgov_rag\\.venv\\Lib\\site-packages\\dspy\\primitives\\program.py:26\u001b[0m, in \u001b[0;36mModule.__call__\u001b[1;34m(self, *args, **kwargs)\u001b[0m\n\u001b[0;32m     25\u001b[0m \u001b[38;5;28;01mdef\u001b[39;00m \u001b[38;5;21m__call__\u001b[39m(\u001b[38;5;28mself\u001b[39m, \u001b[38;5;241m*\u001b[39margs, \u001b[38;5;241m*\u001b[39m\u001b[38;5;241m*\u001b[39mkwargs):\n\u001b[1;32m---> 26\u001b[0m     \u001b[38;5;28;01mreturn\u001b[39;00m \u001b[38;5;28;43mself\u001b[39;49m\u001b[38;5;241;43m.\u001b[39;49m\u001b[43mforward\u001b[49m\u001b[43m(\u001b[49m\u001b[38;5;241;43m*\u001b[39;49m\u001b[43margs\u001b[49m\u001b[43m,\u001b[49m\u001b[43m \u001b[49m\u001b[38;5;241;43m*\u001b[39;49m\u001b[38;5;241;43m*\u001b[39;49m\u001b[43mkwargs\u001b[49m\u001b[43m)\u001b[49m\n",
      "File \u001b[1;32mc:\\Users\\joanp\\Projects\\ctgov_rag\\.venv\\Lib\\site-packages\\dspy\\predict\\react.py:115\u001b[0m, in \u001b[0;36mReAct.forward\u001b[1;34m(self, **kwargs)\u001b[0m\n\u001b[0;32m    111\u001b[0m \u001b[38;5;28;01mfor\u001b[39;00m hop \u001b[38;5;129;01min\u001b[39;00m \u001b[38;5;28mrange\u001b[39m(\u001b[38;5;28mself\u001b[39m\u001b[38;5;241m.\u001b[39mmax_iters):\n\u001b[0;32m    112\u001b[0m     \u001b[38;5;66;03m# with dspy.settings.context(show_guidelines=(i <= 2)):\u001b[39;00m\n\u001b[0;32m    113\u001b[0m     output \u001b[38;5;241m=\u001b[39m \u001b[38;5;28mself\u001b[39m\u001b[38;5;241m.\u001b[39mreact[hop](\u001b[38;5;241m*\u001b[39m\u001b[38;5;241m*\u001b[39margs)\n\u001b[1;32m--> 115\u001b[0m     \u001b[38;5;28;01mif\u001b[39;00m action_val \u001b[38;5;241m:=\u001b[39m \u001b[38;5;28;43mself\u001b[39;49m\u001b[38;5;241;43m.\u001b[39;49m\u001b[43mact\u001b[49m\u001b[43m(\u001b[49m\u001b[43moutput\u001b[49m\u001b[43m,\u001b[49m\u001b[43m \u001b[49m\u001b[43mhop\u001b[49m\u001b[43m)\u001b[49m:\n\u001b[0;32m    116\u001b[0m         \u001b[38;5;28;01mbreak\u001b[39;00m\n\u001b[0;32m    117\u001b[0m     args\u001b[38;5;241m.\u001b[39mupdate(output)\n",
      "File \u001b[1;32mc:\\Users\\joanp\\Projects\\ctgov_rag\\.venv\\Lib\\site-packages\\dspy\\predict\\react.py:106\u001b[0m, in \u001b[0;36mReAct.act\u001b[1;34m(self, output, hop)\u001b[0m\n\u001b[0;32m    102\u001b[0m output[\u001b[38;5;124mf\u001b[39m\u001b[38;5;124m\"\u001b[39m\u001b[38;5;124mObservation_\u001b[39m\u001b[38;5;132;01m{\u001b[39;00mhop\u001b[38;5;241m+\u001b[39m\u001b[38;5;241m1\u001b[39m\u001b[38;5;132;01m}\u001b[39;00m\u001b[38;5;124m\"\u001b[39m] \u001b[38;5;241m=\u001b[39m (\n\u001b[0;32m    103\u001b[0m     \u001b[38;5;124m\"\u001b[39m\u001b[38;5;124mFailed to parse action. Bad formatting or incorrect action name.\u001b[39m\u001b[38;5;124m\"\u001b[39m\n\u001b[0;32m    104\u001b[0m )\n\u001b[0;32m    105\u001b[0m \u001b[38;5;28mprint\u001b[39m(action)\n\u001b[1;32m--> 106\u001b[0m \u001b[38;5;28;01mraise\u001b[39;00m e\n",
      "File \u001b[1;32mc:\\Users\\joanp\\Projects\\ctgov_rag\\.venv\\Lib\\site-packages\\dspy\\predict\\react.py:88\u001b[0m, in \u001b[0;36mReAct.act\u001b[1;34m(self, output, hop)\u001b[0m\n\u001b[0;32m     86\u001b[0m \u001b[38;5;28;01mtry\u001b[39;00m:\n\u001b[0;32m     87\u001b[0m     action \u001b[38;5;241m=\u001b[39m output[\u001b[38;5;124mf\u001b[39m\u001b[38;5;124m\"\u001b[39m\u001b[38;5;124mAction_\u001b[39m\u001b[38;5;132;01m{\u001b[39;00mhop\u001b[38;5;241m+\u001b[39m\u001b[38;5;241m1\u001b[39m\u001b[38;5;132;01m}\u001b[39;00m\u001b[38;5;124m\"\u001b[39m]\n\u001b[1;32m---> 88\u001b[0m     action_name, action_val \u001b[38;5;241m=\u001b[39m action\u001b[38;5;241m.\u001b[39mstrip()\u001b[38;5;241m.\u001b[39msplit(\u001b[38;5;124m\"\u001b[39m\u001b[38;5;130;01m\\n\u001b[39;00m\u001b[38;5;124m\"\u001b[39m)[\u001b[38;5;241m0\u001b[39m]\u001b[38;5;241m.\u001b[39msplit(\u001b[38;5;124m\"\u001b[39m\u001b[38;5;124m[\u001b[39m\u001b[38;5;124m\"\u001b[39m, \u001b[38;5;241m1\u001b[39m)\n\u001b[0;32m     89\u001b[0m     action_val \u001b[38;5;241m=\u001b[39m action_val\u001b[38;5;241m.\u001b[39mrsplit(\u001b[38;5;124m\"\u001b[39m\u001b[38;5;124m]\u001b[39m\u001b[38;5;124m\"\u001b[39m, \u001b[38;5;241m1\u001b[39m)[\u001b[38;5;241m0\u001b[39m]\n\u001b[0;32m     91\u001b[0m     \u001b[38;5;28;01mif\u001b[39;00m action_name \u001b[38;5;241m==\u001b[39m \u001b[38;5;124m\"\u001b[39m\u001b[38;5;124mFinish\u001b[39m\u001b[38;5;124m\"\u001b[39m:\n",
      "\u001b[1;31mValueError\u001b[0m: not enough values to unpack (expected 2, got 1)"
     ]
    }
   ],
   "source": [
    "class BasicQA(dspy.Signature):\n",
    "    \"\"\"Answer questions with short factoid answers.\"\"\"\n",
    "    question = dspy.InputField()\n",
    "    answer = dspy.OutputField()\n",
    "\n",
    "\n",
    "# Pass signature to ReAct module\n",
    "tools = [InterventionToAdverseEvent(), InterventionToCt()]\n",
    "react_module = dspy.ReAct(BasicQA, tools=tools, max_iters=3)\n",
    "\n",
    "\n",
    "# Call the ReAct module on a particular input\n",
    "question = 'What are the adverse events associated with drug Tralokinumab'\n",
    "result = react_module(question=question)\n",
    "\n",
    "print(f\"Question: {question}\")\n",
    "print(f\"Final Predicted Answer (after ReAct process): {result.answer}\")"
   ]
  },
  {
   "cell_type": "code",
   "execution_count": null,
   "metadata": {},
   "outputs": [],
   "source": [
    "lm.inspect_history(n=10)"
   ]
  },
  {
   "cell_type": "code",
   "execution_count": null,
   "metadata": {},
   "outputs": [],
   "source": []
  },
  {
   "cell_type": "markdown",
   "metadata": {},
   "source": [
    "ReAct"
   ]
  },
  {
   "cell_type": "code",
   "execution_count": null,
   "metadata": {},
   "outputs": [],
   "source": [
    "# source https://discord.com/channels/1161519468141355160/1213167378955767859/1213168250414702642\n",
    "\n",
    "import dspy\n",
    "import datetime\n",
    "import requests\n",
    "\n",
    "# lm = dspy.OpenAI(model='gpt-3.5-turbo')\n",
    "lm = dspy.OllamaLocal(model=\"mistral\",stop=[\"[INST]\", \"[/INST]\"], max_tokens=500)\n",
    "dspy.settings.configure(lm=lm)\n",
    "\n",
    "class GiveTime(dspy.Module):\n",
    "    name  = \"GiveTime\"\n",
    "    input_variable = \"empty\"\n",
    "    desc = \"takes an empty string and returns the current local time\"\n",
    "\n",
    "    def __init__(self):\n",
    "        pass\n",
    "\n",
    "    def __call__(self, *args, **kwargs):\n",
    "        return datetime.datetime.now().strftime(\"%H:%M:%S\")\n",
    "    \n",
    "\n",
    "class GetCoinPrice(dspy.Module):\n",
    "    name = \"GetCoinPrice\"\n",
    "    input_variable = \"symbol\"\n",
    "    desc = \"takes a coin ticker and returns the current price of the coin\"\n",
    "\n",
    "    def __init__(self):\n",
    "        pass\n",
    "\n",
    "    def __call__(self, *args, **kwargs):\n",
    "        ticker = args[0]\n",
    "        coin_prices = requests.get(\"https://api.coincap.io/v2/assets\").json()[\"data\"]\n",
    "        for c in coin_prices:\n",
    "            if c[\"symbol\"] == ticker:\n",
    "                price = c[\"priceUsd\"]\n",
    "                # Format the price to 2 decimal places and add a dollar sign\n",
    "                pretty_price = f\"${float(price):.2f}\"\n",
    "                return pretty_price\n",
    "        return \"Coin not found\"\n",
    "\n",
    "# Define a simple signature for basic question answering\n",
    "\n",
    "class BasicQA(dspy.Signature):\n",
    "    \"\"\"Answer questions with short factoid answers.\"\"\"\n",
    "    question = dspy.InputField()\n",
    "    answer = dspy.OutputField(desc=\"often between 1 and 5 words\")\n",
    "\n",
    "\n",
    "# Pass signature to ReAct module\n",
    "tools = [GiveTime(), GetCoinPrice()]\n",
    "react_module = dspy.ReAct(BasicQA, tools=tools)\n",
    "\n",
    "\n",
    "# Call the ReAct module on a particular input\n",
    "question = 'What is the time right now????'\n",
    "result = react_module(question=question)\n",
    "\n",
    "print(f\"Question: {question}\")\n",
    "print(f\"Final Predicted Answer (after ReAct process): {result.answer}\")"
   ]
  },
  {
   "cell_type": "code",
   "execution_count": null,
   "metadata": {},
   "outputs": [],
   "source": [
    "# Call the ReAct module on a particular input\n",
    "question = 'What is dogecoin price right now?'\n",
    "result = react_module(question=question)\n",
    "\n",
    "print(f\"Question: {question}\")\n",
    "print(f\"Final Predicted Answer (after ReAct process): {result.answer}\")"
   ]
  },
  {
   "cell_type": "markdown",
   "metadata": {},
   "source": [
    "txt2SQL"
   ]
  },
  {
   "cell_type": "code",
   "execution_count": null,
   "metadata": {},
   "outputs": [],
   "source": [
    "import os\n",
    "\n",
    "os.environ[\"DPS_CACHEBOOL\"] = \"False\"\n",
    "import json\n",
    "\n",
    "import dspy\n",
    "from dotenv import load_dotenv"
   ]
  },
  {
   "cell_type": "code",
   "execution_count": null,
   "metadata": {},
   "outputs": [],
   "source": [
    "from langchain_community.utilities import SQLDatabase"
   ]
  },
  {
   "cell_type": "code",
   "execution_count": null,
   "metadata": {},
   "outputs": [],
   "source": [
    "load_dotenv(\".env\")\n",
    "AACT_USER = os.getenv(\"AACT_USER\")\n",
    "AACT_PWD = os.getenv(\"AACT_PWD\")"
   ]
  },
  {
   "cell_type": "code",
   "execution_count": null,
   "metadata": {},
   "outputs": [],
   "source": [
    "tables = [\n",
    "    \"browse_interventions\",\n",
    "    \"sponsors\",\n",
    "    \"outcome_analysis_groups\",\n",
    "    \"detailed_descriptions\",\n",
    "    \"facilities\",\n",
    "    \"studies\",\n",
    "    \"outcomes\",\n",
    "    \"browse_conditions\",\n",
    "    \"outcome_analyses\",\n",
    "    \"keywords\",\n",
    "    \"eligibilities\",\n",
    "    \"id_information\",\n",
    "    \"design_group_interventions\",\n",
    "    \"reported_events\",\n",
    "    \"brief_summaries\",\n",
    "    \"designs\",\n",
    "    \"drop_withdrawals\",\n",
    "    \"outcome_measurements\",\n",
    "    \"countries\",\n",
    "]"
   ]
  },
  {
   "cell_type": "code",
   "execution_count": null,
   "metadata": {},
   "outputs": [],
   "source": [
    "database = \"aact\"\n",
    "host = \"aact-db.ctti-clinicaltrials.org\"\n",
    "user = AACT_USER\n",
    "password = AACT_PWD\n",
    "port = 5432\n",
    "db_uri = f\"postgresql+psycopg2://{user}:{password}@{host}:{port}/{database}\"\n",
    "sql_db = SQLDatabase.from_uri(db_uri, include_tables=tables)"
   ]
  },
  {
   "cell_type": "code",
   "execution_count": null,
   "metadata": {},
   "outputs": [],
   "source": [
    "with open(\"./src/txt_2_sql/aact_schema.txt\", \"r\") as f:\n",
    "    aact_schema =  f.readlines()\n",
    "\n",
    "aact_schema = \"\".join(aact_schema).replace(\"\\n\\n\", \"\\n\")"
   ]
  },
  {
   "cell_type": "code",
   "execution_count": null,
   "metadata": {},
   "outputs": [],
   "source": [
    "with open('./src/txt_2_sql/common_sql_mistakes.txt', \"r\") as f:\n",
    "    common_mistakes = f.readlines()"
   ]
  },
  {
   "cell_type": "code",
   "execution_count": null,
   "metadata": {},
   "outputs": [],
   "source": [
    "common_mistakes = \"\".join(common_mistakes)"
   ]
  },
  {
   "cell_type": "code",
   "execution_count": null,
   "metadata": {},
   "outputs": [],
   "source": [
    "import yaml\n",
    "\n",
    "with open('./src/txt_2_sql/aact_schema.yaml', 'r') as f:\n",
    "    aact_schema = yaml.safe_load(f)\n"
   ]
  },
  {
   "cell_type": "code",
   "execution_count": null,
   "metadata": {},
   "outputs": [],
   "source": [
    "class Text2Sql(dspy.Signature):\n",
    "    \"\"\"Given an input question and a SQL db schema, create a syntactically correct PostgreSQL query to run. \n",
    "    Never query for all the columns from a specific table, only ask for a few relevant columns given the question.\n",
    "    Pay attention to use only the column names that you can see in the schema description. \n",
    "    Be careful to not query for columns that do not exist. Pay attention to which column is in which table.\n",
    "    Also, qualify column names with the table name when needed\n",
    "    \"\"\"\n",
    "\n",
    "    context:str = dspy.InputField(prefix=\"Schema:\", desc=\"SQL db schema\")\n",
    "    question:str = dspy.InputField(prefix=\"Question:\", desc=\"user question\")\n",
    "    sql_query:str = dspy.OutputField(prefix=\"SQLQuery:\", desc=\"SQL query that answers user question\")"
   ]
  },
  {
   "cell_type": "code",
   "execution_count": null,
   "metadata": {},
   "outputs": [],
   "source": [
    "class CheckSqlQuery(dspy.Signature):\n",
    "    \"Take a SQL query and a list of common mistakes and suggest a revised SQL query\"\n",
    "    context:str = dspy.InputField(prefix=\"Common mistakes:\", desc=\"Common SQL syntax mistakes\")\n",
    "    sql_query:str = dspy.InputField(prefix=\"SQLQuery:\")\n",
    "    revised_sql:str = dspy.OutputField(prefix=\"Revised SQLQuery:\",)"
   ]
  },
  {
   "cell_type": "code",
   "execution_count": null,
   "metadata": {},
   "outputs": [],
   "source": [
    "class CheckSqlSchema(dspy.Signature):\n",
    "    \"Take a SQL query and a SQL db schema and suggest a revised SQL query\"\n",
    "    context:str = dspy.InputField(prefix=\"SQL db schema:\")\n",
    "    sql_query:str = dspy.InputField(prefix=\"SQLQuery:\")\n",
    "    revised_sql:str = dspy.OutputField(prefix=\"Revised SQLQuery:\")"
   ]
  },
  {
   "cell_type": "code",
   "execution_count": null,
   "metadata": {},
   "outputs": [],
   "source": [
    "class CheckSqlError(dspy.Signature):\n",
    "    \"Take a SQL query and the error produced when running it and suggests a revised SQL query\"\n",
    "    db_schema = dspy.InputField(desc=\"SQL DB schema\", prefix=\"Schema: \")\n",
    "    question = dspy.InputField(desc=\"User question\", prefix=\"Question: \")\n",
    "    sql_query = dspy.InputField(desc=\"Original SQL query\", prefix=\"SQLQuery: \")\n",
    "    error = dspy.InputField(\n",
    "        desc=\"Exception through when running SQL query\", prefix=\"Exception: \"\n",
    "    )\n",
    "    revised_sql = dspy.OutputField(desc=\"Revised SQL query\", prefix=\"Revised:\")"
   ]
  },
  {
   "cell_type": "code",
   "execution_count": null,
   "metadata": {},
   "outputs": [],
   "source": [
    "class QuestionSqlAnswer(dspy.Signature):\n",
    "    question:str = dspy.InputField(prefix=\"Question: \")\n",
    "    sql_output:str = dspy.InputField(prefix=\"SQL output: \")\n",
    "    answer:str = dspy.OutputField(prefix=\"Answer:\")"
   ]
  },
  {
   "cell_type": "code",
   "execution_count": null,
   "metadata": {},
   "outputs": [],
   "source": [
    "from typing import Literal"
   ]
  },
  {
   "cell_type": "code",
   "execution_count": null,
   "metadata": {},
   "outputs": [],
   "source": [
    "class PickListTables(dspy.Signature):\n",
    "    \"Based on a user question and SQL db schema. Write a list of tables that would be relevant\"\n",
    "    context:dict = dspy.InputField(prefix=\"Schema: \")\n",
    "    question:str = dspy.InputField(prefix=\"Question: \")\n",
    "    answer:list[Literal[*(x for x in aact_schema.keys())]] = dspy.OutputField()"
   ]
  },
  {
   "cell_type": "code",
   "execution_count": null,
   "metadata": {},
   "outputs": [],
   "source": [
    "from typing import List\n",
    "from pydantic import BaseModel\n",
    "\n",
    "class StringList(BaseModel):\n",
    "    strings: List[str]\n",
    "\n",
    "# Example usage:\n",
    "input_data = {\"strings\": [\"apple\", \"banana\", \"cherry\"]}\n",
    "string_list = StringList(**input_data)\n",
    "print(string_list)"
   ]
  },
  {
   "cell_type": "code",
   "execution_count": null,
   "metadata": {},
   "outputs": [],
   "source": [
    "class SqlTablesList(BaseModel):\n",
    "    sql_tables: List[str]"
   ]
  },
  {
   "cell_type": "code",
   "execution_count": null,
   "metadata": {},
   "outputs": [],
   "source": [
    "acct_tables = SqlTablesList(sql_tables=list(aact_schema.keys()))"
   ]
  },
  {
   "cell_type": "code",
   "execution_count": null,
   "metadata": {},
   "outputs": [],
   "source": [
    "def write_schema_txt(schema:dict)->str:\n",
    "    out_str= \"\"\n",
    "    for table in schema.keys():\n",
    "        out_str+= f\"table name: {table}\\n\"\n",
    "        out_str+= f\"table description: {schema[table]['description']}\\n\"\n",
    "        out_str+= f\"table schema: {schema[table]['schema']}\\n\"\n",
    "        out_str+= f\"{schema[table]['example']}\\n\"\n",
    "    return out_str"
   ]
  },
  {
   "cell_type": "code",
   "execution_count": null,
   "metadata": {},
   "outputs": [],
   "source": [
    "aact_schema_str = write_schema_txt(aact_schema)\n",
    "aact_schema_str = aact_schema_str.replace(\"\\n\\n\",\"\\n\")"
   ]
  },
  {
   "cell_type": "code",
   "execution_count": null,
   "metadata": {},
   "outputs": [],
   "source": [
    "class Txt2SqlAgent(dspy.Module):\n",
    "    def __init__(self, sql_schema:str, common_mistakes=str) -> None:\n",
    "        super().__init__()\n",
    "        self.text_2_sql = dspy.Predict(Text2Sql)\n",
    "        self.review_query = dspy.Predict(CheckSqlQuery)\n",
    "        self.review_schema = dspy.Predict(CheckSqlSchema)\n",
    "        self.sql_schema = sql_schema\n",
    "        self.common_mistakes = common_mistakes\n",
    "    \n",
    "    def forward(self, question:str) ->str:\n",
    "        response = {}\n",
    "        response[\"txt2sql\"] = self.text_2_sql(context=self.sql_schema, question=question)\n",
    "        response[\"check_sql_query\"] = self.review_query(context=self.common_mistakes, sql_query=response[\"txt2sql\"][\"sql_query\"] )\n",
    "        response[\"check_sql_schema\"] =self.review_schema(context=self.sql_schema, sql_query=response[\"check_sql_query\"][\"revised_sql\"] )\n",
    "        return response\n",
    "        "
   ]
  },
  {
   "cell_type": "code",
   "execution_count": null,
   "metadata": {},
   "outputs": [],
   "source": [
    "class ChainOfTables(dspy.Module):\n",
    "    def __init__(self, sql_db: SQLDatabase) -> None:\n",
    "        super().__init__()\n",
    "        self.sql_db = sql_db\n",
    "        self.text_2_sql = dspy.Predict(Text2Sql)\n",
    "        self.review_query = dspy.Predict(CheckSqlQuery)\n",
    "        self.question_sql_answer = dspy.Predict(CheckSqlSchema)\n",
    "        self.schema = sql_db.get_table_info(sql_db.get_usable_table_names())\n",
    "\n",
    "    def forward(self, question: str, n: int = 3):\n",
    "        attempts = 0\n",
    "        sql_output = None\n",
    "        db_schema = self.schema\n",
    "        response = self.text_2_sql(question=question, db_schema=db_schema)\n",
    "        sql_query = response.sql_query\n",
    "        # return response\n",
    "        while attempts < n and sql_output is None:\n",
    "            try:\n",
    "                sql_output = self.sql_db.run(sql_query)\n",
    "            except Exception as e:\n",
    "                response = self.review_query(\n",
    "                    question=question,\n",
    "                    db_schema=db_schema,\n",
    "                    sql_query=sql_query,\n",
    "                    error=str(e),\n",
    "                )\n",
    "                sql_query = response.revised_sql\n",
    "                print(sql_query)\n",
    "            attempts += 1\n",
    "        if sql_output is None:\n",
    "            return {\n",
    "                \"question\": question,\n",
    "                \"sql_query\": sql_query,\n",
    "                \"answer\": \"Sorry I could not reply your question\",\n",
    "            }\n",
    "        return self.question_sql_answer(question=question, sql_output=sql_output)"
   ]
  },
  {
   "cell_type": "code",
   "execution_count": null,
   "metadata": {},
   "outputs": [],
   "source": [
    "#lm = dspy.OllamaLocal(model=\"mistral\", stop=[\"\\n\", \"\\n\\n\"])\n",
    "# lm = dspy.OllamaLocal(model=\"mistral\",stop=[\"[INST]\", \"[/INST]\"])\n",
    "# lm = dspy.OllamaLocal(model=\"mistral\")\n",
    "lm = dspy.OllamaLocal(model=\"mistral\",stop=[\"[INST]\", \"[/INST]\"], max_tokens=500)\n",
    "dspy.settings.configure(lm=lm, temperature=0.0 )"
   ]
  },
  {
   "cell_type": "code",
   "execution_count": null,
   "metadata": {},
   "outputs": [],
   "source": [
    "aact_schema_str.replace(\"\\n\\n\",\"\\n\")"
   ]
  },
  {
   "cell_type": "code",
   "execution_count": null,
   "metadata": {},
   "outputs": [],
   "source": [
    "#aact_sql_rag = ChainOfTables(sql_db)\n",
    "acct_sql = Txt2SqlAgent(aact_schema_str, common_mistakes)\n",
    "\n",
    "question = (\n",
    "    \"Which clinical trial ids are associated with the condition 'Asthma' and conducted in\"\n",
    "    \"the United States, China and India, while involving the\"\n",
    "    \"intervention 'Xhance', and reporting more than five affected subjects\"\n",
    "    \"in either deaths or serious adverse events?\"\n",
    ")\n",
    "\n",
    "question = question.replace(\"\\n\", \" \")\n",
    "response = acct_sql(question=question)"
   ]
  },
  {
   "cell_type": "code",
   "execution_count": null,
   "metadata": {},
   "outputs": [],
   "source": [
    "acct_summary = [{\"name\": table, \"description\" : aact_schema[table]['description']} for table in aact_schema.keys()]"
   ]
  },
  {
   "cell_type": "code",
   "execution_count": null,
   "metadata": {},
   "outputs": [],
   "source": [
    "import numpy as np"
   ]
  },
  {
   "cell_type": "code",
   "execution_count": null,
   "metadata": {},
   "outputs": [],
   "source": [
    "acct_summary = np.array2string(np.array(acct_summary))"
   ]
  },
  {
   "cell_type": "code",
   "execution_count": null,
   "metadata": {},
   "outputs": [],
   "source": [
    "table_picker = dspy.Predict(PickListTables)\n",
    "response = table_picker(context=acct_summary, question=\"Get the clinical study title\")"
   ]
  },
  {
   "cell_type": "code",
   "execution_count": null,
   "metadata": {},
   "outputs": [],
   "source": [
    "response"
   ]
  },
  {
   "cell_type": "code",
   "execution_count": null,
   "metadata": {},
   "outputs": [],
   "source": [
    "print(response[\"txt2sql\"][\"rationale\"])"
   ]
  },
  {
   "cell_type": "code",
   "execution_count": null,
   "metadata": {},
   "outputs": [],
   "source": [
    "print(response[\"check_sql_query\"][\"rationale\"])"
   ]
  },
  {
   "cell_type": "code",
   "execution_count": null,
   "metadata": {},
   "outputs": [],
   "source": [
    "print(response[\"txt2sql\"][\"sql_query\"])"
   ]
  },
  {
   "cell_type": "code",
   "execution_count": null,
   "metadata": {},
   "outputs": [],
   "source": [
    "print(response[\"check_sql_query\"][\"revised_sql\"])"
   ]
  },
  {
   "cell_type": "code",
   "execution_count": null,
   "metadata": {},
   "outputs": [],
   "source": [
    "print(response[\"check_sql_schema\"][\"revised_sql\"])"
   ]
  },
  {
   "cell_type": "code",
   "execution_count": null,
   "metadata": {},
   "outputs": [],
   "source": [
    "lm = dspy.OllamaLocal(model=\"mistral\",stop=[\"[INST]\", \"[/INST]\"], max_tokens=2000)\n",
    "dspy.settings.configure(lm=lm, temperature=0.7)\n",
    "\n",
    "qa = dspy.Predict(\"question -> long_answer\")\n",
    "response = qa(question=\"Write a long text about Health Data Science\")"
   ]
  },
  {
   "cell_type": "code",
   "execution_count": null,
   "metadata": {},
   "outputs": [],
   "source": [
    "print(response[\"long_answer\"])"
   ]
  },
  {
   "cell_type": "code",
   "execution_count": null,
   "metadata": {},
   "outputs": [],
   "source": []
  }
 ],
 "metadata": {
  "kernelspec": {
   "display_name": ".venv",
   "language": "python",
   "name": "python3"
  },
  "language_info": {
   "codemirror_mode": {
    "name": "ipython",
    "version": 3
   },
   "file_extension": ".py",
   "mimetype": "text/x-python",
   "name": "python",
   "nbconvert_exporter": "python",
   "pygments_lexer": "ipython3",
   "version": "3.11.5"
  }
 },
 "nbformat": 4,
 "nbformat_minor": 2
}
