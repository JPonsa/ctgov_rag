{
 "cells": [
  {
   "cell_type": "code",
   "execution_count": 1,
   "metadata": {},
   "outputs": [],
   "source": [
    "from neo4j import GraphDatabase"
   ]
  },
  {
   "cell_type": "code",
   "execution_count": 3,
   "metadata": {},
   "outputs": [],
   "source": [
    "URI = \"bolt://localhost:7689\"\n",
    "AUTH = (\"tester\", \"password\")\n",
    "\n",
    "with GraphDatabase.driver(URI, auth=AUTH) as driver:\n",
    "    driver.verify_connectivity()"
   ]
  },
  {
   "cell_type": "code",
   "execution_count": 33,
   "metadata": {},
   "outputs": [
    {
     "data": {
      "text/plain": [
       "neo4j._sync.driver.BoltDriver"
      ]
     },
     "execution_count": 33,
     "metadata": {},
     "output_type": "execute_result"
    }
   ],
   "source": [
    "type(driver)"
   ]
  },
  {
   "cell_type": "code",
   "execution_count": 18,
   "metadata": {},
   "outputs": [],
   "source": [
    "emb_idx_query = \"\"\"\n",
    "CREATE VECTOR INDEX {index_name} IF NOT EXITS\n",
    "FOR (n:{node_label})\n",
    "ON (n.{emb_node_property})\n",
    "OPTIONS {{indexConfig: {{\n",
    "    `vector.dimenstions`: {vector_dim},\n",
    "    `vector.similarity_function` : 'cosine'\n",
    "}}\n",
    "\"\"\""
   ]
  },
  {
   "cell_type": "code",
   "execution_count": 21,
   "metadata": {},
   "outputs": [
    {
     "name": "stdout",
     "output_type": "stream",
     "text": [
      "\n",
      "CREATE VECTOR INDEX condition IF NOT EXITS\n",
      "FOR (n:Condition)\n",
      "ON (n.biobert_emb)\n",
      "OPTIONS {indexConfig: {\n",
      "    `vector.dimenstions`: 768,\n",
      "    `vector.similarity_function` : 'cosine'\n",
      "}\n",
      "\n"
     ]
    }
   ],
   "source": [
    "print(\n",
    "    query.format(index_name=\"condition\", \n",
    "             node_label=\"Condition\", \n",
    "             emb_node_property=\"biobert_emb\", \n",
    "             vector_dim=768))"
   ]
  },
  {
   "cell_type": "code",
   "execution_count": 29,
   "metadata": {},
   "outputs": [],
   "source": [
    "kw_idx_queyr = \"\"\"\n",
    "CREATE FULLTEXT INDEX {index_name} IF NOT EXIST\n",
    "FOR (n:{node_lable}) \n",
    "ON EACH [{node_properties_list}]\n",
    "\"\"\"\n"
   ]
  },
  {
   "cell_type": "code",
   "execution_count": 31,
   "metadata": {},
   "outputs": [
    {
     "name": "stdout",
     "output_type": "stream",
     "text": [
      "\n",
      "CREATE FULLTEXT INDEX condition \n",
      "FOR (n:Condition) \n",
      "ON EACH [n.A, n.B]\n",
      "\n"
     ]
    }
   ],
   "source": [
    "print(\n",
    "    kw_idx_queyr.format(index_name=\"condition\", \n",
    "                        node_lable=\"Condition\",\n",
    "                        node_properties_list=\", \".join(\"n.\"+x for x in [\"A\", \"B\"]))\n",
    ")"
   ]
  },
  {
   "cell_type": "code",
   "execution_count": null,
   "metadata": {},
   "outputs": [],
   "source": []
  }
 ],
 "metadata": {
  "kernelspec": {
   "display_name": ".venv",
   "language": "python",
   "name": "python3"
  },
  "language_info": {
   "codemirror_mode": {
    "name": "ipython",
    "version": 3
   },
   "file_extension": ".py",
   "mimetype": "text/x-python",
   "name": "python",
   "nbconvert_exporter": "python",
   "pygments_lexer": "ipython3",
   "version": "3.11.5"
  }
 },
 "nbformat": 4,
 "nbformat_minor": 2
}
