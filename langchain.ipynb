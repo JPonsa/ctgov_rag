{
 "cells": [
  {
   "cell_type": "markdown",
   "metadata": {},
   "source": [
    "Vector Search"
   ]
  },
  {
   "cell_type": "code",
   "execution_count": null,
   "metadata": {},
   "outputs": [],
   "source": [
    "from langchain_community.vectorstores import Neo4jVector\n",
    "from langchain_community.embeddings import HuggingFaceEmbeddings"
   ]
  },
  {
   "cell_type": "code",
   "execution_count": null,
   "metadata": {},
   "outputs": [],
   "source": [
    "biobert = HuggingFaceEmbeddings(model_name=\"dmis-lab/biobert-base-cased-v1.1\")"
   ]
  },
  {
   "cell_type": "code",
   "execution_count": null,
   "metadata": {},
   "outputs": [],
   "source": [
    "# username = \"tester\"\n",
    "# password  = \"tester\"\n",
    "username = \"tester\"\n",
    "password = \"password\"\n",
    "url = \"bolt://localhost:7687\"\n",
    "database=\"ctgov\""
   ]
  },
  {
   "cell_type": "code",
   "execution_count": null,
   "metadata": {},
   "outputs": [],
   "source": [
    "from neo4j import GraphDatabase\n",
    "driver = GraphDatabase.driver(url, auth=(username, password), encrypted=False)\n",
    "driver.verify_connectivity()"
   ]
  },
  {
   "cell_type": "code",
   "execution_count": null,
   "metadata": {},
   "outputs": [],
   "source": [
    "adverse_event = Neo4jVector.from_existing_graph(\n",
    "    embedding=biobert,\n",
    "    node_label= \"AdverseEvent\", \n",
    "    embedding_node_property=\"biobert_emb\", \n",
    "    text_node_properties=[\"term\",\"organ_system\"],\n",
    "    url=url,\n",
    "    index_name=\"adverse_event\",\n",
    "    keyword_index_name= \"adverse_event_kw\",\n",
    "    search_type=\"hybrid\",\n",
    "    username=username, \n",
    "    password=password, \n",
    "    database=database,\n",
    "    )"
   ]
  },
  {
   "cell_type": "code",
   "execution_count": null,
   "metadata": {},
   "outputs": [],
   "source": [
    "adverse_event.retrieval_query"
   ]
  },
  {
   "cell_type": "code",
   "execution_count": null,
   "metadata": {},
   "outputs": [],
   "source": [
    "# Replace retrieval_query so it includes ID\n",
    "#adverse_event.retrieval_query = adverse_event.retrieval_query.replace(\"id: Null\", \"`trial2vec_emb` : Null\")\n",
    "adverse_event.retrieval_query = adverse_event.retrieval_query.replace(\"id: Null\", \"\").replace(\",,\",\",\").replace(\", ,\",\",\")"
   ]
  },
  {
   "cell_type": "code",
   "execution_count": null,
   "metadata": {},
   "outputs": [],
   "source": [
    "adverse_event.retrieval_query"
   ]
  },
  {
   "cell_type": "code",
   "execution_count": null,
   "metadata": {},
   "outputs": [],
   "source": [
    "test = adverse_event.similarity_search_with_score(\"Anaemia\", k=3)\n",
    "print(test)"
   ]
  },
  {
   "cell_type": "code",
   "execution_count": null,
   "metadata": {},
   "outputs": [],
   "source": [
    "test[0][0].page_content.lstrip(\"\\n\").replace(\"\\n\", \" | \")"
   ]
  },
  {
   "cell_type": "code",
   "execution_count": null,
   "metadata": {},
   "outputs": [],
   "source": [
    "test[0][0].metadata[\"id\"]"
   ]
  },
  {
   "cell_type": "code",
   "execution_count": null,
   "metadata": {},
   "outputs": [],
   "source": [
    "condition = Neo4jVector.from_existing_graph(\n",
    "    embedding=biobert,\n",
    "    node_label= \"Condition\", \n",
    "    embedding_node_property=\"biobert_emb\", \n",
    "    text_node_properties=[\"id\",],\n",
    "    url=url,\n",
    "    index_name=\"condition\",\n",
    "    keyword_index_name=\"condition_kw\",\n",
    "    search_type=\"hybrid\",\n",
    "    username=username, \n",
    "    password=password, \n",
    "    database=database,\n",
    "    )"
   ]
  },
  {
   "cell_type": "code",
   "execution_count": null,
   "metadata": {},
   "outputs": [],
   "source": [
    "condition.similarity_search_with_score(\"Cancer\", k=3)"
   ]
  },
  {
   "cell_type": "code",
   "execution_count": null,
   "metadata": {},
   "outputs": [],
   "source": [
    "intervention = Neo4jVector.from_existing_graph(\n",
    "    embedding=biobert,\n",
    "    node_label= \"Intervention\", \n",
    "    embedding_node_property=\"biobert_emb\", \n",
    "    text_node_properties=[\"id\", \"type\"],\n",
    "    url=url,\n",
    "    index_name=\"intervention\",\n",
    "    keyword_index_name=\"intervention_kw\",\n",
    "    username=username, \n",
    "    password=password, \n",
    "    database=database,\n",
    "    search_type=\"hybrid\")"
   ]
  },
  {
   "cell_type": "code",
   "execution_count": null,
   "metadata": {},
   "outputs": [],
   "source": [
    "intervention.similarity_search_with_score(\"electrocardiogram\", k=3)"
   ]
  },
  {
   "cell_type": "markdown",
   "metadata": {},
   "source": [
    "txt-2-SQL"
   ]
  },
  {
   "cell_type": "code",
   "execution_count": null,
   "metadata": {},
   "outputs": [],
   "source": [
    "from langchain_community.utilities import SQLDatabase"
   ]
  },
  {
   "cell_type": "code",
   "execution_count": null,
   "metadata": {},
   "outputs": [],
   "source": [
    "import os\n",
    "from dotenv import load_dotenv\n",
    "\n",
    "load_dotenv(\".env\")\n",
    "AACT_USER = os.getenv(\"AACT_USER\")\n",
    "AACT_PWD = os.getenv(\"AACT_PWD\")"
   ]
  },
  {
   "cell_type": "code",
   "execution_count": null,
   "metadata": {},
   "outputs": [],
   "source": [
    "AACT_USER = os.getenv(\"AACT_USER\")\n",
    "AACT_PWD = os.getenv(\"AACT_PWD\")"
   ]
  },
  {
   "cell_type": "code",
   "execution_count": null,
   "metadata": {},
   "outputs": [],
   "source": [
    "tables = [\n",
    "    \"browse_interventions\",\n",
    "    \"sponsors\",\n",
    "    \"outcome_analysis_groups\",\n",
    "    \"detailed_descriptions\",\n",
    "    \"facilities\",\n",
    "    \"studies\",\n",
    "    \"outcomes\",\n",
    "    \"browse_conditions\",\n",
    "    \"outcome_analyses\",\n",
    "    \"keywords\",\n",
    "    \"eligibilities\",\n",
    "    \"id_information\",\n",
    "    \"design_group_interventions\",\n",
    "    \"reported_events\",\n",
    "    \"brief_summaries\",\n",
    "    \"designs\",\n",
    "    \"drop_withdrawals\",\n",
    "    \"outcome_measurements\",\n",
    "    \"countries\",\n",
    "]"
   ]
  },
  {
   "cell_type": "code",
   "execution_count": null,
   "metadata": {},
   "outputs": [],
   "source": [
    "from langchain_community.llms import Ollama\n",
    "llm = Ollama(model=\"sqlcoder\")"
   ]
  },
  {
   "cell_type": "code",
   "execution_count": null,
   "metadata": {},
   "outputs": [],
   "source": [
    "llm.invoke(\"Hello, world!\")"
   ]
  },
  {
   "cell_type": "code",
   "execution_count": null,
   "metadata": {},
   "outputs": [],
   "source": [
    "database = \"aact\"\n",
    "host = \"aact-db.ctti-clinicaltrials.org\"\n",
    "user = AACT_USER\n",
    "password = AACT_PWD\n",
    "port = 5432\n",
    "db_uri = f\"postgresql+psycopg2://{user}:{password}@{host}:{port}/{database}\"\n",
    "sql_db = SQLDatabase.from_uri(db_uri, include_tables=tables)"
   ]
  },
  {
   "cell_type": "code",
   "execution_count": null,
   "metadata": {},
   "outputs": [],
   "source": [
    "from langchain_community.agent_toolkits import create_sql_agent\n",
    "agent_executor = create_sql_agent(llm, db=sql_db, verbose=True, ,agent_executor_kwargs={\"return_intermediate_steps\": True})"
   ]
  },
  {
   "cell_type": "code",
   "execution_count": null,
   "metadata": {},
   "outputs": [],
   "source": [
    "sql_db.get_table_info"
   ]
  },
  {
   "cell_type": "code",
   "execution_count": null,
   "metadata": {},
   "outputs": [],
   "source": [
    "sql_db.get_usable_table_names()"
   ]
  },
  {
   "cell_type": "code",
   "execution_count": null,
   "metadata": {},
   "outputs": [],
   "source": [
    "print(sql_db.get_table_info(sql_db.get_usable_table_names()))"
   ]
  },
  {
   "cell_type": "code",
   "execution_count": null,
   "metadata": {},
   "outputs": [],
   "source": [
    "sql_db.get_table_info_no_throw()"
   ]
  },
  {
   "cell_type": "code",
   "execution_count": null,
   "metadata": {},
   "outputs": [],
   "source": [
    "query_str = (\n",
    "    \"Which study ids are associated with \"\n",
    "    \"the condition 'Asthma' and conducted in the United States, China, and India, \"\n",
    "    \"while involving the intervention 'Xhance', and reporting more than five affected subjects \"\n",
    "    \"in either 'deaths' or 'serious' adverse events?\"\n",
    ")"
   ]
  },
  {
   "cell_type": "code",
   "execution_count": null,
   "metadata": {},
   "outputs": [],
   "source": [
    "response = agent_executor.invoke(query_str)"
   ]
  },
  {
   "cell_type": "code",
   "execution_count": null,
   "metadata": {},
   "outputs": [],
   "source": [
    "print(response)"
   ]
  },
  {
   "cell_type": "code",
   "execution_count": null,
   "metadata": {},
   "outputs": [],
   "source": [
    "print(sql_db.table_info)"
   ]
  },
  {
   "cell_type": "markdown",
   "metadata": {},
   "source": [
    "Json Loader"
   ]
  },
  {
   "cell_type": "code",
   "execution_count": 1,
   "metadata": {},
   "outputs": [],
   "source": [
    "from src.utils.utils import get_clinical_trial_study\n",
    "from langchain_community.document_loaders import JSONLoader"
   ]
  },
  {
   "cell_type": "code",
   "execution_count": 2,
   "metadata": {},
   "outputs": [],
   "source": [
    "study = get_clinical_trial_study(\"NCT01164592\")\n",
    "study = {\"NCT01164592\":study}"
   ]
  },
  {
   "cell_type": "code",
   "execution_count": 3,
   "metadata": {},
   "outputs": [],
   "source": [
    "from langchain_text_splitters import RecursiveJsonSplitter\n",
    "splitter = RecursiveJsonSplitter(max_chunk_size=300)\n"
   ]
  },
  {
   "cell_type": "code",
   "execution_count": 4,
   "metadata": {},
   "outputs": [],
   "source": [
    "docs = splitter.create_documents(texts=[study])\n"
   ]
  },
  {
   "cell_type": "code",
   "execution_count": 5,
   "metadata": {},
   "outputs": [
    {
     "data": {
      "text/plain": [
       "[Document(page_content='{\"NCT01164592\": {\"protocolSection\": {\"identificationModule\": {\"nctId\": \"NCT01164592\", \"orgStudyIdInfo\": {\"id\": \"01a\"}, \"organization\": {\"fullName\": \"ResMed\", \"class\": \"INDUSTRY\"}, \"briefTitle\": \"Substudy on the Mechanistic Plausibility of the Clinical Benefits of Adaptive Servo-ventilation\"}}}}'),\n",
       " Document(page_content='{\"NCT01164592\": {\"protocolSection\": {\"identificationModule\": {\"officialTitle\": \"SERVE-HF: Substudy on the Mechanistic Plausibility of the Clinical Benefits of Adaptive Servo-ventilation\", \"acronym\": \"MS\"}}}}'),\n",
       " Document(page_content='{\"NCT01164592\": {\"protocolSection\": {\"statusModule\": {\"statusVerifiedDate\": \"2015-08\", \"overallStatus\": \"COMPLETED\", \"expandedAccessInfo\": {\"hasExpandedAccess\": false}, \"startDateStruct\": {\"date\": \"2012-08\"}, \"primaryCompletionDateStruct\": {\"date\": \"2015-04\", \"type\": \"ACTUAL\"}}}}}'),\n",
       " Document(page_content='{\"NCT01164592\": {\"protocolSection\": {\"statusModule\": {\"completionDateStruct\": {\"date\": \"2015-06\", \"type\": \"ACTUAL\"}, \"studyFirstSubmitDate\": \"2010-07-15\", \"studyFirstSubmitQcDate\": \"2010-07-15\", \"studyFirstPostDateStruct\": {\"date\": \"2010-07-16\", \"type\": \"ESTIMATED\"}}}}}'),\n",
       " Document(page_content='{\"NCT01164592\": {\"protocolSection\": {\"statusModule\": {\"lastUpdateSubmitDate\": \"2015-08-04\", \"lastUpdatePostDateStruct\": {\"date\": \"2015-08-07\", \"type\": \"ESTIMATED\"}}, \"sponsorCollaboratorsModule\": {\"responsibleParty\": {\"type\": \"SPONSOR\"}, \"leadSponsor\": {\"name\": \"ResMed\", \"class\": \"INDUSTRY\"}}}}}'),\n",
       " Document(page_content='{\"NCT01164592\": {\"protocolSection\": {\"oversightModule\": {\"oversightHasDmc\": true}, \"descriptionModule\": {\"briefSummary\": \"The purpose of this study is to assess changes in left ventricular performance using echocardiography as well as ventricular remodelling, changes in sleep and changes in mood, anxiety and cognitive functions occurring as a result of treatment of predominant central sleep apnoea by adaptive servoventilation (ASV) in chronic heart failure in addition to optimal medical therapy in chronic heart failure. This will be a substudy of the SERVE-HF study.\"}}}}'),\n",
       " Document(page_content='{\"NCT01164592\": {\"protocolSection\": {\"descriptionModule\": {\"detailedDescription\": \"This substudy is performed within the SERVE-HF Study, a randomised, multi-centre,international trial with parallel group design, with patients randomised to either control (optimal medical management) or active treatment (optimal medical treatment plus use of adaptive servoventilation) in a 1:1 ratio. The randomization will be the same as in the parent study. For this purpose, the randomization of the parent study will be stratified as to whether a patient is included in the substudy or not. 300 patients will be recruited for the substudy overall.\\\\n\\\\nFor the purpose of this substudy, patients will be followed up for a period of 12 months.\\\\n\\\\nThe following extra tests will be performed at the baseline visit, the 3 months follow up and the 12 months follow up:\\\\n\\\\n* Echocardiogram (for both groups)\\\\n* cMRI (for both groups)\\\\n* PSG (at the baseline visit only for patients in the treatment group and at 3 months follow up and the 12 months follow up for all patients)\\\\n* 4 questionnaires (for both groups)\\\\n* Additional blood testing (for both groups)\"}}}}'),\n",
       " Document(page_content='{\"NCT01164592\": {\"protocolSection\": {\"conditionsModule\": {\"conditions\": [\"Heart Failure\", \"Sleep Disorder\", \"Cheyne Stokes Respiration\"], \"keywords\": [\"Heart failure (HF)\", \"Sleep disordered breathing (SDB)\", \"Cheyne Stokes Respiration (CSR)\", \"Adaptive Servoventilation (ASV)\"]}}}}'),\n",
       " Document(page_content='{\"NCT01164592\": {\"protocolSection\": {\"designModule\": {\"studyType\": \"INTERVENTIONAL\", \"phases\": [\"PHASE4\"], \"designInfo\": {\"allocation\": \"RANDOMIZED\", \"interventionModel\": \"PARALLEL\", \"primaryPurpose\": \"TREATMENT\", \"maskingInfo\": {\"masking\": \"NONE\"}}}}}}'),\n",
       " Document(page_content='{\"NCT01164592\": {\"protocolSection\": {\"designModule\": {\"enrollmentInfo\": {\"count\": 312, \"type\": \"ACTUAL\"}}}}}'),\n",
       " Document(page_content='{\"NCT01164592\": {\"protocolSection\": {\"armsInterventionsModule\": {\"armGroups\": [{\"label\": \"Therapy with adaptive servo ventilation\", \"type\": \"ACTIVE_COMPARATOR\", \"description\": \"optimal medical therapy + adaptive servoventilation\", \"interventionNames\": [\"Device: adaptive servoventilation (ASV)\"]}, {\"label\": \"Optimal medical therapy according to guidelines\", \"type\": \"NO_INTERVENTION\", \"description\": \"optimal medical therapy\"}]}}}}'),\n",
       " Document(page_content='{\"NCT01164592\": {\"protocolSection\": {\"armsInterventionsModule\": {\"interventions\": [{\"type\": \"DEVICE\", \"name\": \"adaptive servoventilation (ASV)\", \"description\": \"Patients randomised to therapygroup should use the adaptive servoventilation (ASV) device each night at least 3 hours\", \"armGroupLabels\": [\"Therapy with adaptive servo ventilation\"], \"otherNames\": [\"Adaptive Servo-Ventilation with AutoSet CS\"]}]}}}}'),\n",
       " Document(page_content='{\"NCT01164592\": {\"protocolSection\": {\"outcomesModule\": {\"primaryOutcomes\": [{\"measure\": \"Change in Left Ventricular Ejection Fraction (LVEF) from baseline to 12 months of therapy as measured by echocardiography (Echo).\", \"timeFrame\": \"Baseline (Randomization), 6- and 12 month-Follow-up-visit\"}]}}}}'),\n",
       " Document(page_content='{\"NCT01164592\": {\"protocolSection\": {\"outcomesModule\": {\"secondaryOutcomes\": [{\"measure\": \"Changes in left and right ventricular function\", \"timeFrame\": \"Baseline (Randomization), 6-and 12-month-Follow-up visit\"}, {\"measure\": \"Changes in LV systolic and diastolic indexed volumes\", \"timeFrame\": \"Baseline (Randomization), 6- and 12-month-Follow-up-visit\"}, {\"measure\": \"Changes in right ventricular (RV) systolic and diastolic indexed volumes\", \"timeFrame\": \"Baseline (Randomization), 6- and 12-month-Follow-up-visit\"}, {\"measure\": \"Changes in LV and RV mass\", \"timeFrame\": \"Baseline (Randomization), 6- and 12-month-Follow-up-visit\"}, {\"measure\": \"Changes in LV sphericity index and LV end-systolic global wall stress\", \"timeFrame\": \"Baseline (Randomization), 6- and 12-month-Follow-up-visit\"}, {\"measure\": \"Changes in sleep duration and sleep stages as well as arousals\", \"timeFrame\": \"Baseline (Randomization), 6- and 12-month-Follow-up-visit\"}, {\"measure\": \"Changes in sleep-disordered breathing\", \"timeFrame\": \"Baseline (Randomization), 6- and 12-month-Follow-up-visit\"}, {\"measure\": \"Changes in quality of life assessed by Kansas City Cardiomyopathy Questionnaire (KCCQ)\", \"timeFrame\": \"Baseline (Randomization), 6- and 12-month-Follow-up-visit\"}, {\"measure\": \"Changes in mental status assessed by Mini-Mental State Examination (MMSE)\", \"timeFrame\": \"Baseline (Randomization), 6- and 12-month-Follow-up-visit\"}, {\"measure\": \"Changes in Patient Health Questionnaire-9 (PHQ-9) score and Patient Anxiety Questionnaire GAD-7\", \"timeFrame\": \"Baseline (Randomization), 6- and 12-month-Follow-up-visit\"}]}}}}'),\n",
       " Document(page_content='{\"NCT01164592\": {\"protocolSection\": {\"eligibilityModule\": {\"eligibilityCriteria\": \"The inclusion and exclusion criteria are mainly those applicable for the parent study; SERVE-HF. The inclusion and exclusion criteria are listed here.\\\\n\\\\nINCLUSION CRITERIA FOR SERVE-HF STUDY:\\\\n\\\\n* Over 22 years of age\\\\n* Severe Chronic Heart Failure (CHF) with NYHA class III-IV or NYHA class II with at least one hospitalisation for HF within the last 24 months\\\\n* Left ventricular ejection fraction (LVEF) less than or equal to 45% by means of echocardiography, radionucleotide angiography, left ventriculography or cardiac MRI documented less than 12 weeks before randomisation\\\\n* Diagnosis of sleep disordered breathing (SDB) with an apnoea-hypopnoea-index (AHI) of \\\\\\\\>15/hr with at least 50% central events and a central AHI of at least 10/hr\\\\n* Clinically stable with no change in medication and no unplanned hospitalisation for heart failure in preceding month\\\\n* Optimised medical treatment according to the applicable guidelines\\\\n* Able to provide informed consent\\\\n\\\\nADDITIONAL INCLUSION CRITERIA FOR THE SUBSTUDY\\\\n\\\\n\\\\u2022 Predominant central sleep apnoea (apnoea hypopnoea index \\\\\\\\> 15/hour with \\\\u2265 50% central events and a central AHI \\\\u226510/hour, derived from full polysomnography (based on total sleep time), documented less than 4 weeks before randomization. Flow measurements have to be performed with nasal cannula\\\\n\\\\nEXCLUSION CRITERIA FOR THE SERVE-HF STUDY:\\\\n\\\\n* Significant chronic obstructive pulmonary disease (COPD) with Forced Expiratory Volume within one second (FEV1)\\\\\\\\<50% predicted\\\\n* Oxygen saturation at rest during the day 90% at the time of inclusion\\\\n* Current use of Positive Airway Pressure (PAP) therapy\\\\n* Life expectancy \\\\\\\\< 1 year for diseases unrelated to chronic heart failure\\\\n* Cardiac surgery, Percutaneous coronary intervention (PCI), Myocardial Infarction (MI) or unstable angina within 6 months prior to randomisation\\\\n* Implantation of ICD (implanted cardiodefibrillator) or CRT (cardiac resynchronisation therapy) scheduled or within 6 months prior to randomisation\\\\n* Transient ischemic attack (TIA) or Stroke within 3 months prior to randomisation\\\\n* Primary hemodynamically significant uncorrected valvular heart disease, obstructive or regurgitant, or any valvular disease expected to lead to surgery during the trial\\\\n* Acute myocarditis/pericarditis within 6 months prior to randomisation\\\\n* Untreated or therapy refractory Restless legs Syndrome (RLS)\\\\n* Pregnancy\\\\n\\\\nADDITIONAL EXCLUSION CRITERIA FOR THE SUBSTUDY\\\\n\\\\n* Amyloidosis, hypertrophic obstructive cardiomyopathy or arteriovenous fistulas\\\\n* Dosage changes of diuretics more than doubled within the last 4 weeks prior to randomisation\"}}}}'),\n",
       " Document(page_content='{\"NCT01164592\": {\"protocolSection\": {\"eligibilityModule\": {\"healthyVolunteers\": false, \"sex\": \"ALL\", \"minimumAge\": \"22 Years\", \"stdAges\": [\"ADULT\", \"OLDER_ADULT\"]}}}}'),\n",
       " Document(page_content='{\"NCT01164592\": {\"protocolSection\": {\"contactsLocationsModule\": {\"overallOfficials\": [{\"name\": \"Martin Cowie, Prof\", \"affiliation\": \"Royal Brompton Hospital, London\", \"role\": \"PRINCIPAL_INVESTIGATOR\"}, {\"name\": \"Holger Woehrle, MD\", \"affiliation\": \"ResMed\", \"role\": \"STUDY_DIRECTOR\"}]}}}}'),\n",
       " Document(page_content='{\"NCT01164592\": {\"protocolSection\": {\"contactsLocationsModule\": {\"locations\": [{\"facility\": \"Westmead Hospital\", \"city\": \"Westmead\", \"state\": \"New South Wales\", \"zip\": \"2145\", \"country\": \"Australia\", \"geoPoint\": {\"lat\": -33.80383, \"lon\": 150.98768}}, {\"facility\": \"Rivercity Private Hospital\", \"city\": \"Auchenflower\", \"state\": \"Queensland\", \"zip\": \"4066\", \"country\": \"Australia\", \"geoPoint\": {\"lat\": -27.47443, \"lon\": 152.99213}}, {\"facility\": \"Royal Adelaide Hospital\", \"city\": \"Adelaide\", \"state\": \"South Australia\", \"zip\": \"5000\", \"country\": \"Australia\", \"geoPoint\": {\"lat\": -34.92866, \"lon\": 138.59863}}, {\"facility\": \"Melbourne Sleep Disorders Centre\", \"city\": \"East Melbourne\", \"state\": \"Victoria\", \"zip\": \"3002\", \"country\": \"Australia\", \"geoPoint\": {\"lat\": -37.81667, \"lon\": 144.9879}}, {\"facility\": \"St. Vincents and Mercy Private Hospital\", \"city\": \"Melbourne\", \"state\": \"Victoria\", \"zip\": \"3065\", \"country\": \"Australia\", \"geoPoint\": {\"lat\": -37.814, \"lon\": 144.96332}}, {\"facility\": \"Hollywood Private Hospital (CVS)\", \"city\": \"Nedlands\", \"state\": \"Western Australia\", \"zip\": \"6009\", \"country\": \"Australia\", \"geoPoint\": {\"lat\": -31.98184, \"lon\": 115.8073}}, {\"facility\": \"St. Anne\\'s University Hospital\", \"city\": \"Brno\", \"zip\": \"65691\", \"country\": \"Czech Republic\", \"geoPoint\": {\"lat\": 49.19522, \"lon\": 16.60796}}, {\"facility\": \"Helsinki University Hospital\", \"city\": \"Helsinki\", \"zip\": \"00290\", \"country\": \"Finland\", \"geoPoint\": {\"lat\": 60.16952, \"lon\": 24.93545}}, {\"facility\": \"Unesta Research Centre\", \"city\": \"Tampere\", \"zip\": \"33520\", \"country\": \"Finland\", \"geoPoint\": {\"lat\": 61.49911, \"lon\": 23.78712}}, {\"facility\": \"Tampere University Hospital, Pirkanmaa sairaanhoitopiiri\", \"city\": \"Tampere\", \"zip\": \"33521\", \"country\": \"Finland\", \"geoPoint\": {\"lat\": 61.49911, \"lon\": 23.78712}}, {\"facility\": \"Clinique Mutualiste des Eaux Claires\", \"city\": \"Grenoble\", \"zip\": \"38000\", \"country\": \"France\", \"geoPoint\": {\"lat\": 45.16667, \"lon\": 5.71667}}, {\"facility\": \"CHU Grenoble, Hopital Michallon\", \"city\": \"Grenoble\", \"zip\": \"38043\", \"country\": \"France\", \"geoPoint\": {\"lat\": 45.16667, \"lon\": 5.71667}}, {\"facility\": \"CHU de Poitiers\", \"city\": \"Poitiers\", \"zip\": \"86000\", \"country\": \"France\", \"geoPoint\": {\"lat\": 46.58333, \"lon\": 0.33333}}, {\"facility\": \"Universit\\\\u00e4tsklinikum Aachen\", \"city\": \"Aachen\", \"zip\": \"52074\", \"country\": \"Germany\", \"geoPoint\": {\"lat\": 50.77664, \"lon\": 6.08342}}, {\"facility\": \"DRK Krankenhaus\", \"city\": \"Alzey\", \"zip\": \"55232\", \"country\": \"Germany\", \"geoPoint\": {\"lat\": 49.74657, \"lon\": 8.11513}}, {\"facility\": \"Herzzentrum Bad Krozingen\", \"city\": \"Bad Krozingen\", \"zip\": \"79189\", \"country\": \"Germany\", \"geoPoint\": {\"lat\": 47.91933, \"lon\": 7.69045}}, {\"facility\": \"Herz- und Diabeteszentrum NRW\", \"city\": \"Bad Oeynhausen\", \"zip\": \"32545\", \"country\": \"Germany\", \"geoPoint\": {\"lat\": 52.20699, \"lon\": 8.80365}}, {\"facility\": \"Charit\\\\u00e9 Campus Mitte CCM\", \"city\": \"Berlin\", \"zip\": \"10117\", \"country\": \"Germany\", \"geoPoint\": {\"lat\": 52.52437, \"lon\": 13.41053}}, {\"facility\": \"Charit\\\\u00e9 Campus Mitte\", \"city\": \"Berlin\", \"zip\": \"10117\", \"country\": \"Germany\", \"geoPoint\": {\"lat\": 52.52437, \"lon\": 13.41053}}, {\"facility\": \"POLIKUM Friedenau\", \"city\": \"Berlin\", \"zip\": \"12157\", \"country\": \"Germany\", \"geoPoint\": {\"lat\": 52.52437, \"lon\": 13.41053}}, {\"facility\": \"Unfallkrankenhaus Berlin\", \"city\": \"Berlin\", \"zip\": \"12683\", \"country\": \"Germany\", \"geoPoint\": {\"lat\": 52.52437, \"lon\": 13.41053}}, {\"facility\": \"J\\\\u00fcdisches Krankenhaus Berlin\", \"city\": \"Berlin\", \"zip\": \"13347\", \"country\": \"Germany\", \"geoPoint\": {\"lat\": 52.52437, \"lon\": 13.41053}}, {\"facility\": \"Praxis f\\\\u00fcr Lunge Herz und Schlaf\", \"city\": \"Bielefeld\", \"zip\": \"33617\", \"country\": \"Germany\", \"geoPoint\": {\"lat\": 52.03333, \"lon\": 8.53333}}, {\"facility\": \"Kardiologische Praxis Marschner\", \"city\": \"Bonn\", \"zip\": \"53225\", \"country\": \"Germany\", \"geoPoint\": {\"lat\": 50.73438, \"lon\": 7.09549}}, {\"facility\": \"Helios Klinikum Borna\", \"city\": \"Borna\", \"zip\": \"04552\", \"country\": \"Germany\", \"geoPoint\": {\"lat\": 51.12416, \"lon\": 12.49639}}, {\"facility\": \"Kardiologie Br\\\\u00fchl\", \"city\": \"Br\\\\u00fchl\", \"zip\": \"50321\", \"country\": \"Germany\", \"geoPoint\": {\"lat\": 50.82928, \"lon\": 6.90499}}, {\"facility\": \"Gemeinschaftspraxis Kardiologie Dr. Becker\", \"city\": \"Castrop-Rauxel\", \"zip\": \"44575\", \"country\": \"Germany\", \"geoPoint\": {\"lat\": 51.55657, \"lon\": 7.31155}}, {\"facility\": \"Kardiologische Praxis Dr. Isbruch\", \"city\": \"Castrop-Rauxel\", \"zip\": \"44577\", \"country\": \"Germany\", \"geoPoint\": {\"lat\": 51.55657, \"lon\": 7.31155}}, {\"facility\": \"Praxis Dr. Hecker\", \"city\": \"Dortmund\", \"zip\": \"44135\", \"country\": \"Germany\", \"geoPoint\": {\"lat\": 51.51494, \"lon\": 7.466}}, {\"facility\": \"Kardiologische Praxis Dr. Wetzel\", \"city\": \"Dortmund\", \"zip\": \"44141\", \"country\": \"Germany\", \"geoPoint\": {\"lat\": 51.51494, \"lon\": 7.466}}, {\"facility\": \"Praxis Dr. Lodde\", \"city\": \"Dortmund\", \"zip\": \"44147\", \"country\": \"Germany\", \"geoPoint\": {\"lat\": 51.51494, \"lon\": 7.466}}, {\"facility\": \"Facharztzentrum Dresden-Neustadt GbR\", \"city\": \"Dresden\", \"zip\": \"01099\", \"country\": \"Germany\", \"geoPoint\": {\"lat\": 51.05089, \"lon\": 13.73832}}, {\"facility\": \"Gemeinschaftpraxis Dres. Schmidt/Gronke\", \"city\": \"Dresden\", \"zip\": \"01219\", \"country\": \"Germany\", \"geoPoint\": {\"lat\": 51.05089, \"lon\": 13.73832}}, {\"facility\": \"Praxis Dr. Hohensee\", \"city\": \"Dresden\", \"zip\": \"01277\", \"country\": \"Germany\", \"geoPoint\": {\"lat\": 51.05089, \"lon\": 13.73832}}, {\"facility\": \"Herzzentrum Universit\\\\u00e4t Dresden\", \"city\": \"Dresden\", \"zip\": \"01307\", \"country\": \"Germany\", \"geoPoint\": {\"lat\": 51.05089, \"lon\": 13.73832}}, {\"facility\": \"Khs Florence-Nightingale\", \"city\": \"Duesseldorf\", \"zip\": \"40489\", \"country\": \"Germany\", \"geoPoint\": {\"lat\": 51.22172, \"lon\": 6.77616}}, {\"facility\": \"Kardiologie Oberkassel\", \"city\": \"D\\\\u00fcsseldorf\", \"zip\": \"40545\", \"country\": \"Germany\", \"geoPoint\": {\"lat\": 51.22172, \"lon\": 6.77616}}, {\"facility\": \"Gemeinschaftspraxis PD Dr. Lankisch\", \"city\": \"D\\\\u00fcsseldorf\", \"zip\": \"40597\", \"country\": \"Germany\", \"geoPoint\": {\"lat\": 51.22172, \"lon\": 6.77616}}, {\"facility\": \"Universit\\\\u00e4tsklinikum Essen\", \"city\": \"Essen\", \"zip\": \"45122\", \"country\": \"Germany\", \"geoPoint\": {\"lat\": 51.45657, \"lon\": 7.01228}}, {\"facility\": \"Kardiologie Praxis Dr. Bonnekamp\", \"city\": \"Essen\", \"zip\": \"45136\", \"country\": \"Germany\", \"geoPoint\": {\"lat\": 51.45657, \"lon\": 7.01228}}, {\"facility\": \"Praxis Dr. Tekiyeh\", \"city\": \"Essen\", \"zip\": \"45136\", \"country\": \"Germany\", \"geoPoint\": {\"lat\": 51.45657, \"lon\": 7.01228}}, {\"facility\": \"Ruhrlandklinik Essen\", \"city\": \"Essen\", \"zip\": \"45239\", \"country\": \"Germany\", \"geoPoint\": {\"lat\": 51.45657, \"lon\": 7.01228}}, {\"facility\": \"Kath. Kliniken Essen/ Philippusstift\", \"city\": \"Essen\", \"zip\": \"45359\", \"country\": \"Germany\", \"geoPoint\": {\"lat\": 51.45657, \"lon\": 7.01228}}, {\"facility\": \"Gemeinschaftspraxis Dres. Guckenbiehl\", \"city\": \"Flonheim\", \"zip\": \"55237\", \"country\": \"Germany\", \"geoPoint\": {\"lat\": 49.785, \"lon\": 8.04}}, {\"facility\": \"CardioVaskul\\\\u00e4res Centrum Frankfurt\", \"city\": \"Frankfurt\", \"zip\": \"60389\", \"country\": \"Germany\", \"geoPoint\": {\"lat\": 50.11552, \"lon\": 8.68417}}, {\"facility\": \"Praxis Dr. Diedrichs\", \"city\": \"Frechen\", \"zip\": \"50226\", \"country\": \"Germany\", \"geoPoint\": {\"lat\": 50.91485, \"lon\": 6.8118}}, {\"facility\": \"Universit\\\\u00e4tsklinikum Freiburg\", \"city\": \"Freiburg im Breisgau\", \"zip\": \"79106\", \"country\": \"Germany\", \"geoPoint\": {\"lat\": 47.9959, \"lon\": 7.85222}}, {\"facility\": \"Kardiologische Praxis G\\\\u00fctersloh\", \"city\": \"G\\\\u00fctersloh\", \"zip\": \"33330\", \"country\": \"Germany\", \"geoPoint\": {\"lat\": 51.90693, \"lon\": 8.37853}}, {\"facility\": \"Gemeinschaftspraxis Dres Leischik/Littwitz\", \"city\": \"Hagen\", \"zip\": \"58095\", \"country\": \"Germany\", \"geoPoint\": {\"lat\": 51.36081, \"lon\": 7.47168}}, {\"facility\": \"Universit\\\\u00e4tsklinikum Hamburg-Eppendorf\", \"city\": \"Hamburg\", \"zip\": \"20246\", \"country\": \"Germany\", \"geoPoint\": {\"lat\": 53.57532, \"lon\": 10.01534}}, {\"facility\": \"Asklepios Klinik Barmbek\", \"city\": \"Hamburg\", \"zip\": \"22291\", \"country\": \"Germany\", \"geoPoint\": {\"lat\": 53.57532, \"lon\": 10.01534}}, {\"facility\": \"Universit\\\\u00e4tsklinikum Heidelberg\", \"city\": \"Heidelberg\", \"zip\": \"69120\", \"country\": \"Germany\", \"geoPoint\": {\"lat\": 49.40768, \"lon\": 8.69079}}, {\"facility\": \"Thoraxklinik Heidelberg gGmbH\", \"city\": \"Heidelberg\", \"zip\": \"69126\", \"country\": \"Germany\", \"geoPoint\": {\"lat\": 49.40768, \"lon\": 8.69079}}, {\"facility\": \"Lungenklinik Hemer\", \"city\": \"Hemer\", \"zip\": \"58675\", \"country\": \"Germany\", \"geoPoint\": {\"lat\": 51.38707, \"lon\": 7.77019}}, {\"facility\": \"B&B GmbH\", \"city\": \"Herne\", \"zip\": \"44623\", \"country\": \"Germany\", \"geoPoint\": {\"lat\": 51.5388, \"lon\": 7.22572}}, {\"facility\": \"Cardio-Praxis Herne Dr. Furche\", \"city\": \"Herne\", \"zip\": \"44623\", \"country\": \"Germany\", \"geoPoint\": {\"lat\": 51.5388, \"lon\": 7.22572}}, {\"facility\": \"Gemeinschaftspraxis Dr. Bruch\", \"city\": \"Herne\", \"zip\": \"44629\", \"country\": \"Germany\", \"geoPoint\": {\"lat\": 51.5388, \"lon\": 7.22572}}, {\"facility\": \"Kardiologische Praxis Dr. Schlichting\", \"city\": \"Herne\", \"zip\": \"44649\", \"country\": \"Germany\", \"geoPoint\": {\"lat\": 51.5388, \"lon\": 7.22572}}, {\"facility\": \"Augusta-Kranken-Anstalt gGmbH Thoraxzentrum Ruhrgebiet\", \"city\": \"Herne\", \"zip\": \"44651\", \"country\": \"Germany\", \"geoPoint\": {\"lat\": 51.5388, \"lon\": 7.22572}}, {\"facility\": \"St. Elisabeth-Hospital Herten gGmbH\", \"city\": \"Herten\", \"zip\": \"45699\", \"country\": \"Germany\", \"geoPoint\": {\"lat\": 51.59638, \"lon\": 7.14387}}, {\"facility\": \"Lungenfachklinik Immenhausen\", \"city\": \"Immenhausen\", \"zip\": \"34376\", \"country\": \"Germany\", \"geoPoint\": {\"lat\": 51.42763, \"lon\": 9.48017}}, {\"facility\": \"Cardiopraxis Ingelheim\", \"city\": \"Ingelheim\", \"zip\": \"55218\", \"country\": \"Germany\"}, {\"facility\": \"Gemeinschaftspraxis Dres. Dobler/Turin\", \"city\": \"Karlstadt\", \"zip\": \"97753\", \"country\": \"Germany\", \"geoPoint\": {\"lat\": 49.96034, \"lon\": 9.77239}}, {\"facility\": \"Malteser Krankenhaus St. Hildegardis\", \"city\": \"K\\\\u00f6ln\", \"zip\": \"50931\", \"country\": \"Germany\", \"geoPoint\": {\"lat\": 50.93333, \"lon\": 6.95}}, {\"facility\": \"Klinikum der Universit\\\\u00e4t zu K\\\\u00f6ln- Herzzentrum\", \"city\": \"K\\\\u00f6ln\", \"zip\": \"50937\", \"country\": \"Germany\", \"geoPoint\": {\"lat\": 50.93333, \"lon\": 6.95}}, {\"facility\": \"Klinikum der Universit\\\\u00e4t zu K\\\\u00f6ln-Schlaflabor\", \"city\": \"K\\\\u00f6ln\", \"zip\": \"50937\", \"country\": \"Germany\", \"geoPoint\": {\"lat\": 50.93333, \"lon\": 6.95}}, {\"facility\": \"Praxis Dr. Anselm B\\\\u00e4umer\", \"city\": \"K\\\\u00f6ln\", \"zip\": \"51065\", \"country\": \"Germany\", \"geoPoint\": {\"lat\": 50.93333, \"lon\": 6.95}}, {\"facility\": \"Gemeinschaftspraxis Dres. Gysan/Heinzler/May\", \"city\": \"K\\\\u00f6ln\", \"zip\": \"51105\", \"country\": \"Germany\", \"geoPoint\": {\"lat\": 50.93333, \"lon\": 6.95}}, {\"facility\": \"Universit\\\\u00e4t Leipzig -Herzzentrum\", \"city\": \"Leipzig\", \"zip\": \"04289\", \"country\": \"Germany\", \"geoPoint\": {\"lat\": 51.33962, \"lon\": 12.37129}}, {\"facility\": \"Universit\\\\u00e4tsklinikum Schleswig-Holstein Campus L\\\\u00fcbeck-Kardiologie\", \"city\": \"L\\\\u00fcbeck\", \"zip\": \"23538\", \"country\": \"Germany\", \"geoPoint\": {\"lat\": 53.86893, \"lon\": 10.68729}}, {\"facility\": \"Universit\\\\u00e4tsklinikum Schleswig-Holstein Campus L\\\\u00fcbeck-Schlaflabor\", \"city\": \"L\\\\u00fcbeck\", \"zip\": \"23538\", \"country\": \"Germany\", \"geoPoint\": {\"lat\": 53.86893, \"lon\": 10.68729}}, {\"facility\": \"Praxis f\\\\u00fcr Kardiologie Dr. med. Menz\", \"city\": \"Menden\", \"zip\": \"58706\", \"country\": \"Germany\", \"geoPoint\": {\"lat\": 51.44337, \"lon\": 7.77825}}, {\"facility\": \"Krankenhaus Bethanien\", \"city\": \"Moers\", \"zip\": \"47441\", \"country\": \"Germany\", \"geoPoint\": {\"lat\": 51.45342, \"lon\": 6.6326}}, {\"facility\": \"Kardiologische Praxis Dr. Sch\\\\u00f6n\", \"city\": \"M\\\\u00fchldorf\", \"zip\": \"84453\", \"country\": \"Germany\", \"geoPoint\": {\"lat\": 48.2467, \"lon\": 12.52155}}, {\"facility\": \"Evangelisches Krankenhaus M\\\\u00fclheim\", \"city\": \"M\\\\u00fclheim an der Ruhr\", \"zip\": \"45468\", \"country\": \"Germany\", \"geoPoint\": {\"lat\": 51.43218, \"lon\": 6.87967}}, {\"facility\": \"Lungen\\\\u00e4rzte am Rotkreuzplatz\", \"city\": \"M\\\\u00fcnchen\", \"zip\": \"80634\", \"country\": \"Germany\", \"geoPoint\": {\"lat\": 48.13743, \"lon\": 11.57549}}, {\"facility\": \"Klinikum Augustinum M\\\\u00fcnchen\", \"city\": \"M\\\\u00fcnchen\", \"zip\": \"81375\", \"country\": \"Germany\", \"geoPoint\": {\"lat\": 48.13743, \"lon\": 11.57549}}, {\"facility\": \"Universit\\\\u00e4tsklinikum M\\\\u00fcnster\", \"city\": \"M\\\\u00fcnster\", \"zip\": \"48149\", \"country\": \"Germany\", \"geoPoint\": {\"lat\": 51.96236, \"lon\": 7.62571}}, {\"facility\": \"St\\\\u00e4dtisches Khs Lukas\", \"city\": \"Neuss\", \"zip\": \"41472\", \"country\": \"Germany\", \"geoPoint\": {\"lat\": 51.19807, \"lon\": 6.68504}}, {\"facility\": \"Kardiologische Praxis Nienburg\", \"city\": \"Nienburg\", \"zip\": \"31582\", \"country\": \"Germany\", \"geoPoint\": {\"lat\": 52.6461, \"lon\": 9.22086}}, {\"facility\": \"Praxis Dr. Fr\\\\u00f6hlich\", \"city\": \"Ratingen\", \"zip\": \"40885\", \"country\": \"Germany\", \"geoPoint\": {\"lat\": 51.29724, \"lon\": 6.84929}}, {\"facility\": \"Universit\\\\u00e4tsklinikum Regensburg\", \"city\": \"Regensburg\", \"zip\": \"93053\", \"country\": \"Germany\", \"geoPoint\": {\"lat\": 49.01513, \"lon\": 12.10161}}, {\"facility\": \"Khs St. Adolf Stift\", \"city\": \"Reinbek\", \"zip\": \"21465\", \"country\": \"Germany\", \"geoPoint\": {\"lat\": 53.51703, \"lon\": 10.2488}}, {\"facility\": \"Praxis Dr. Hein\", \"city\": \"Reinbek\", \"zip\": \"21465\", \"country\": \"Germany\", \"geoPoint\": {\"lat\": 53.51703, \"lon\": 10.2488}}, {\"facility\": \"Katharinen Hospital Unna\", \"city\": \"Unna\", \"zip\": \"59423\", \"country\": \"Germany\", \"geoPoint\": {\"lat\": 51.53795, \"lon\": 7.68969}}, {\"facility\": \"Praxis Dr. Gerritsen\", \"city\": \"Waldkraiburg\", \"zip\": \"84478\", \"country\": \"Germany\", \"geoPoint\": {\"lat\": 48.20854, \"lon\": 12.39893}}, {\"facility\": \"Kardiologisch angiologische Gemeinschaftspraxis\", \"city\": \"Wiesbaden\", \"zip\": \"65183\", \"country\": \"Germany\", \"geoPoint\": {\"lat\": 50.08258, \"lon\": 8.24932}}, {\"facility\": \"Kardiologische Gemeinschaftspraxis Dr. K. Vorbeck\", \"city\": \"Wiesbaden\", \"zip\": \"65183\", \"country\": \"Germany\", \"geoPoint\": {\"lat\": 50.08258, \"lon\": 8.24932}}, {\"facility\": \"Missions\\\\u00e4rztliche Klinik W\\\\u00fcrzburg\", \"city\": \"Wuerzburg\", \"zip\": \"97074\", \"country\": \"Germany\", \"geoPoint\": {\"lat\": 49.79391, \"lon\": 9.95121}}, {\"facility\": \"Comprehensive Heart Failure Center, Universit\\\\u00e4tsklinikum W\\\\u00fcrzburg\", \"city\": \"W\\\\u00fcrzburg\", \"zip\": \"97080\", \"country\": \"Germany\", \"geoPoint\": {\"lat\": 49.79391, \"lon\": 9.95121}}, {\"facility\": \"University Medical Center Groningen\", \"city\": \"Groningen\", \"zip\": \"9700 RB\", \"country\": \"Netherlands\", \"geoPoint\": {\"lat\": 53.21917, \"lon\": 6.56667}}, {\"facility\": \"Cardiocentro Ticino\", \"city\": \"Lugano\", \"zip\": \"6900\", \"country\": \"Switzerland\", \"geoPoint\": {\"lat\": 46.01008, \"lon\": 8.96004}}, {\"facility\": \"Ospedale Regionale di Lugano\", \"city\": \"Lugano\", \"zip\": \"6903\", \"country\": \"Switzerland\", \"geoPoint\": {\"lat\": 46.01008, \"lon\": 8.96004}}, {\"facility\": \"Brompton Hospital\", \"city\": \"London\", \"zip\": \"UK-SW36NP\", \"country\": \"United Kingdom\", \"geoPoint\": {\"lat\": 51.50853, \"lon\": -0.12574}}]}}}}'),\n",
       " Document(page_content='{\"NCT01164592\": {\"derivedSection\": {\"miscInfoModule\": {\"versionHolder\": \"2024-03-29\"}, \"conditionBrowseModule\": {\"meshes\": [{\"id\": \"D000002639\", \"term\": \"Cheyne-Stokes Respiration\"}, {\"id\": \"D000012893\", \"term\": \"Sleep Wake Disorders\"}, {\"id\": \"D000006333\", \"term\": \"Heart Failure\"}]}}}}'),\n",
       " Document(page_content='{\"NCT01164592\": {\"derivedSection\": {\"conditionBrowseModule\": {\"ancestors\": [{\"id\": \"D000006331\", \"term\": \"Heart Diseases\"}, {\"id\": \"D000002318\", \"term\": \"Cardiovascular Diseases\"}, {\"id\": \"D000009422\", \"term\": \"Nervous System Diseases\"}, {\"id\": \"D000009461\", \"term\": \"Neurologic Manifestations\"}, {\"id\": \"D000001523\", \"term\": \"Mental Disorders\"}, {\"id\": \"D000012120\", \"term\": \"Respiration Disorders\"}, {\"id\": \"D000012140\", \"term\": \"Respiratory Tract Diseases\"}, {\"id\": \"D000012818\", \"term\": \"Signs and Symptoms, Respiratory\"}]}}}}'),\n",
       " Document(page_content='{\"NCT01164592\": {\"derivedSection\": {\"conditionBrowseModule\": {\"browseLeaves\": [{\"id\": \"M9421\", \"name\": \"Heart Failure\", \"asFound\": \"Heart Failure\", \"relevance\": \"HIGH\"}, {\"id\": \"M22242\", \"name\": \"Parasomnias\", \"relevance\": \"LOW\"}, {\"id\": \"M27137\", \"name\": \"Respiratory Aspiration\", \"relevance\": \"LOW\"}, {\"id\": \"M5884\", \"name\": \"Cheyne-Stokes Respiration\", \"asFound\": \"Cheyne-Stokes Respiration\", \"relevance\": \"HIGH\"}, {\"id\": \"M15696\", \"name\": \"Sleep Wake Disorders\", \"asFound\": \"Sleep Disorders\", \"relevance\": \"HIGH\"}, {\"id\": \"M9419\", \"name\": \"Heart Diseases\", \"relevance\": \"LOW\"}, {\"id\": \"M12404\", \"name\": \"Neurologic Manifestations\", \"relevance\": \"LOW\"}, {\"id\": \"M4815\", \"name\": \"Mental Disorders\", \"relevance\": \"LOW\"}, {\"id\": \"M14473\", \"name\": \"Psychotic Disorders\", \"relevance\": \"LOW\"}, {\"id\": \"M14957\", \"name\": \"Respiration Disorders\", \"relevance\": \"LOW\"}, {\"id\": \"M14977\", \"name\": \"Respiratory Tract Diseases\", \"relevance\": \"LOW\"}, {\"id\": \"M15623\", \"name\": \"Signs and Symptoms, Respiratory\", \"relevance\": \"LOW\"}]}}}}'),\n",
       " Document(page_content='{\"NCT01164592\": {\"derivedSection\": {\"conditionBrowseModule\": {\"browseBranches\": [{\"abbrev\": \"BC14\", \"name\": \"Heart and Blood Diseases\"}, {\"abbrev\": \"All\", \"name\": \"All Conditions\"}, {\"abbrev\": \"BC10\", \"name\": \"Nervous System Diseases\"}, {\"abbrev\": \"BXM\", \"name\": \"Behaviors and Mental Disorders\"}, {\"abbrev\": \"BC08\", \"name\": \"Respiratory Tract (Lung and Bronchial) Diseases\"}, {\"abbrev\": \"BC23\", \"name\": \"Symptoms and General Pathology\"}]}}}}'),\n",
       " Document(page_content='{\"NCT01164592\": {\"hasResults\": false}}')]"
      ]
     },
     "execution_count": 5,
     "metadata": {},
     "output_type": "execute_result"
    }
   ],
   "source": [
    "docs"
   ]
  },
  {
   "cell_type": "code",
   "execution_count": null,
   "metadata": {},
   "outputs": [],
   "source": []
  }
 ],
 "metadata": {
  "kernelspec": {
   "display_name": ".venv",
   "language": "python",
   "name": "python3"
  },
  "language_info": {
   "codemirror_mode": {
    "name": "ipython",
    "version": 3
   },
   "file_extension": ".py",
   "mimetype": "text/x-python",
   "name": "python",
   "nbconvert_exporter": "python",
   "pygments_lexer": "ipython3",
   "version": "3.11.5"
  }
 },
 "nbformat": 4,
 "nbformat_minor": 2
}
