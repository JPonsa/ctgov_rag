{
 "cells": [
  {
   "cell_type": "code",
   "execution_count": null,
   "metadata": {},
   "outputs": [],
   "source": [
    "username = \"tester\"\n",
    "password  = \"password\"\n",
    "url = \"bolt://localhost:7687\"\n",
    "database=\"ctgov\"\n",
    "node_label= \"AdverseEvent\", \n",
    "embedding_node_property=\"biobert_emb\"\n",
    "index_name = \"adverse_event\"\n",
    "text_node_properties = [\"term\",\"organ_system\"]\n",
    "user_query = \"Anaemia\""
   ]
  },
  {
   "cell_type": "code",
   "execution_count": null,
   "metadata": {},
   "outputs": [],
   "source": [
    "from llama_index.llms.ollama import Ollama\n",
    "from llama_index.core import Settings\n",
    "from llama_index.embeddings.huggingface import HuggingFaceEmbedding as LI_HF\n",
    "\n",
    "from llama_index.vector_stores.neo4jvector import Neo4jVectorStore\n",
    "from llama_index.core import VectorStoreIndex\n",
    "\n",
    "llm = Ollama(model=\"mistral\", request_timeout=30.0)\n",
    "li_biobert = LI_HF(model_name=\"dmis-lab/biobert-base-cased-v1.1\")\n",
    "\n",
    "Settings.llm = llm\n",
    "Settings.embed_model = li_biobert\n",
    "\n",
    "neo4j_vector = Neo4jVectorStore(\n",
    "    username,\n",
    "    password,\n",
    "    url,\n",
    "    768,\n",
    "    node_label= node_label, \n",
    "    embedding_node_property= embedding_node_property, \n",
    "    text_node_property= text_node_properties,\n",
    "    index_name=index_name,\n",
    "    keyword_index_name= \"adverse_event_kw\",\n",
    "    hybrid_search=True\n",
    ")\n",
    "\n",
    "loaded_index = VectorStoreIndex.from_vector_store(neo4j_vector).as_query_engine()\n",
    "test= loaded_index.query(user_query)\n",
    "print(test)"
   ]
  },
  {
   "cell_type": "code",
   "execution_count": null,
   "metadata": {},
   "outputs": [],
   "source": [
    "from langchain_community.vectorstores import Neo4jVector\n",
    "from langchain_community.embeddings import HuggingFaceEmbeddings as LC_HF\n",
    "\n",
    "lc_biobert = LC_HF(model_name=\"dmis-lab/biobert-base-cased-v1.1\")\n",
    "\n",
    "adverse_event = Neo4jVector.from_existing_graph(\n",
    "    username=username, \n",
    "    password=password, \n",
    "    database=database,\n",
    "    url=url,\n",
    "    node_label= node_label, \n",
    "    embedding_node_property= embedding_node_property, \n",
    "    text_node_properties= text_node_properties,\n",
    "    index_name=index_name,\n",
    "    search_type=\"hybrid\",\n",
    "    keyword_index_name= \"adverse_event_kw\",\n",
    "    embedding= lc_biobert,\n",
    "    )\n",
    "\n",
    "test = adverse_event.similarity_search_with_score(user_query, k=3)\n",
    "print(test)"
   ]
  },
  {
   "cell_type": "markdown",
   "metadata": {},
   "source": [
    "text2sql"
   ]
  },
  {
   "cell_type": "code",
   "execution_count": 1,
   "metadata": {},
   "outputs": [
    {
     "name": "stderr",
     "output_type": "stream",
     "text": [
      "c:\\Users\\joanp\\Projects\\ctogov_rag\\.venv\\Lib\\site-packages\\tqdm\\auto.py:21: TqdmWarning: IProgress not found. Please update jupyter and ipywidgets. See https://ipywidgets.readthedocs.io/en/stable/user_install.html\n",
      "  from .autonotebook import tqdm as notebook_tqdm\n"
     ]
    }
   ],
   "source": [
    "import os\n",
    "from dotenv import load_dotenv\n",
    "from llama_index.core.query_engine import NLSQLTableQueryEngine\n",
    "from llama_index.core import SQLDatabase\n",
    "from llama_index.llms.ollama import Ollama\n",
    "from llama_index.core import Settings\n",
    "from sqlalchemy import create_engine\n",
    "import pandas as pd\n",
    "from tqdm import tqdm\n",
    "from requests.exceptions import ReadTimeout, Timeout"
   ]
  },
  {
   "cell_type": "code",
   "execution_count": 2,
   "metadata": {},
   "outputs": [],
   "source": [
    "# Possible solution to llama-index timeout\n",
    "import nest_asyncio\n",
    "nest_asyncio.apply()"
   ]
  },
  {
   "cell_type": "code",
   "execution_count": 3,
   "metadata": {},
   "outputs": [],
   "source": [
    "import yaml\n",
    "\n",
    "# Load the YAML file\n",
    "with open( \"./src/txt_2_sql/sql_queries_template.yaml\", \"r\") as file:\n",
    "    sql_queries_template = yaml.safe_load(file)"
   ]
  },
  {
   "cell_type": "code",
   "execution_count": 4,
   "metadata": {},
   "outputs": [],
   "source": [
    "lm = Ollama(model=\"sqlcoder\", temperature=0.0,  request_timeout=100)\n",
    "Settings.llm = lm\n",
    "Settings.embed_model=\"local\""
   ]
  },
  {
   "cell_type": "code",
   "execution_count": 5,
   "metadata": {},
   "outputs": [],
   "source": [
    "load_dotenv(\".env\")\n",
    "AACT_USER = os.getenv(\"AACT_USER\")\n",
    "AACT_PWD = os.getenv(\"AACT_PWD\")"
   ]
  },
  {
   "cell_type": "code",
   "execution_count": 6,
   "metadata": {},
   "outputs": [],
   "source": [
    "tables = [\n",
    "    \"browse_interventions\",\n",
    "    \"sponsors\",\n",
    "    \"detailed_descriptions\",\n",
    "    \"facilities\",\n",
    "    \"studies\",\n",
    "    \"outcomes\",\n",
    "    \"browse_conditions\",\n",
    "    \"keywords\",\n",
    "    \"eligibilities\",\n",
    "    \"reported_events\",\n",
    "    \"brief_summaries\",\n",
    "    \"designs\",\n",
    "    \"countries\",\n",
    "]\n",
    "\n",
    "database = \"aact\"\n",
    "host = \"aact-db.ctti-clinicaltrials.org\"\n",
    "user = AACT_USER\n",
    "password = AACT_PWD\n",
    "port = 5432\n",
    "db_uri = f\"postgresql+psycopg2://{user}:{password}@{host}:{port}/{database}\"\n"
   ]
  },
  {
   "cell_type": "code",
   "execution_count": 7,
   "metadata": {},
   "outputs": [],
   "source": [
    "db_engine = create_engine(db_uri)\n",
    "sql_db = SQLDatabase(db_engine, include_tables=tables)\n",
    "query_engine = NLSQLTableQueryEngine(sql_database=sql_db)"
   ]
  },
  {
   "cell_type": "code",
   "execution_count": 8,
   "metadata": {},
   "outputs": [],
   "source": [
    "condition = 'Asthma'\n",
    "intervention = 'Xhance'\n",
    "nctId = 'NCT01164592' "
   ]
  },
  {
   "cell_type": "code",
   "execution_count": 9,
   "metadata": {},
   "outputs": [
    {
     "data": {
      "text/plain": [
       "'What is the title in study NCT01164592?'"
      ]
     },
     "execution_count": 9,
     "metadata": {},
     "output_type": "execute_result"
    }
   ],
   "source": [
    "sql_queries_template[\"query_1\"][\"question\"].format(nctId=nctId)"
   ]
  },
  {
   "cell_type": "code",
   "execution_count": 10,
   "metadata": {},
   "outputs": [
    {
     "name": "stdout",
     "output_type": "stream",
     "text": [
      " SERVE-HF: Substudy on the Mechanistic Plausibility of the Clinical Benefits of Adaptive Servo-ventilation\n",
      "######\n",
      "SELECT official_title FROM studies WHERE nct_id = 'NCT01164592'\n",
      "######\n",
      "[('SERVE-HF: Substudy on the Mechanistic Plausibility of the Clinical Benefits of Adaptive Servo-ventilation',)]\n"
     ]
    }
   ],
   "source": [
    "response = query_engine.query(sql_queries_template[\"query_1\"][\"question\"].format(nctId=nctId))\n",
    "print(response)\n",
    "print(\"######\")\n",
    "print(response.metadata[\"sql_query\"])\n",
    "print(\"######\")\n",
    "print(response.metadata[\"result\"])"
   ]
  },
  {
   "cell_type": "code",
   "execution_count": 11,
   "metadata": {},
   "outputs": [
    {
     "name": "stderr",
     "output_type": "stream",
     "text": [
      "Evaluating llama index:   0%|          | 0/22 [00:00<?, ?it/s]"
     ]
    },
    {
     "name": "stdout",
     "output_type": "stream",
     "text": [
      "query_1 : What is the title in study NCT01164592?\n"
     ]
    },
    {
     "name": "stderr",
     "output_type": "stream",
     "text": [
      "Evaluating llama index:   5%|▍         | 1/22 [00:13<04:53, 13.98s/it]"
     ]
    },
    {
     "name": "stdout",
     "output_type": "stream",
     "text": [
      "query_2 : Summarise study NCT01164592\n"
     ]
    },
    {
     "name": "stderr",
     "output_type": "stream",
     "text": [
      "Evaluating llama index:   9%|▉         | 2/22 [01:54<21:38, 64.92s/it]"
     ]
    },
    {
     "name": "stdout",
     "output_type": "stream",
     "text": [
      "timed out\n",
      "query_3 : Is study NCT01164592 and interventional or observational study? [INTERVENTIONAL, OBSERVATIONAL].\n"
     ]
    },
    {
     "name": "stderr",
     "output_type": "stream",
     "text": [
      "Evaluating llama index:  14%|█▎        | 3/22 [02:07<13:01, 41.15s/it]"
     ]
    },
    {
     "name": "stdout",
     "output_type": "stream",
     "text": [
      "query_4 : What condition(s) is studied in study NCT01164592? Give mesh term.\n"
     ]
    },
    {
     "name": "stderr",
     "output_type": "stream",
     "text": [
      "Evaluating llama index:  18%|█▊        | 4/22 [03:48<19:24, 64.67s/it]"
     ]
    },
    {
     "name": "stdout",
     "output_type": "stream",
     "text": [
      "timed out\n",
      "query_5 : Is Asthma studied in study NCT01164592?\n"
     ]
    },
    {
     "name": "stderr",
     "output_type": "stream",
     "text": [
      "Evaluating llama index:  23%|██▎       | 5/22 [03:54<12:20, 43.58s/it]"
     ]
    },
    {
     "name": "stdout",
     "output_type": "stream",
     "text": [
      "query_6 : What drugs / treatments is studied in study NCT01164592? Give mesh term.\n"
     ]
    },
    {
     "name": "stderr",
     "output_type": "stream",
     "text": [
      "Evaluating llama index:  27%|██▋       | 6/22 [04:09<09:00, 33.81s/it]"
     ]
    },
    {
     "name": "stdout",
     "output_type": "stream",
     "text": [
      "query_7 : In what phase is study NCT01164592? S\n"
     ]
    },
    {
     "name": "stderr",
     "output_type": "stream",
     "text": [
      "Evaluating llama index:  32%|███▏      | 7/22 [04:17<06:22, 25.48s/it]"
     ]
    },
    {
     "name": "stdout",
     "output_type": "stream",
     "text": [
      "query_9 : How many patients to be enrolled in study NCT01164592?\n"
     ]
    },
    {
     "name": "stderr",
     "output_type": "stream",
     "text": [
      "Evaluating llama index:  36%|███▋      | 8/22 [04:26<04:42, 20.17s/it]"
     ]
    },
    {
     "name": "stdout",
     "output_type": "stream",
     "text": [
      "query_10 : What is the eligibility criteria for study NCT01164592?\n"
     ]
    },
    {
     "name": "stderr",
     "output_type": "stream",
     "text": [
      "Evaluating llama index:  41%|████      | 9/22 [04:42<04:06, 18.97s/it]"
     ]
    },
    {
     "name": "stdout",
     "output_type": "stream",
     "text": [
      "query_11 : What is the min. and max. age range in study NCT01164592?\n"
     ]
    },
    {
     "name": "stderr",
     "output_type": "stream",
     "text": [
      "Evaluating llama index:  45%|████▌     | 10/22 [04:54<03:22, 16.85s/it]"
     ]
    },
    {
     "name": "stdout",
     "output_type": "stream",
     "text": [
      "query_13 : Describe the intervention model in study NCT01164592\n"
     ]
    },
    {
     "name": "stderr",
     "output_type": "stream",
     "text": [
      "Evaluating llama index:  50%|█████     | 11/22 [05:05<02:45, 15.02s/it]"
     ]
    },
    {
     "name": "stdout",
     "output_type": "stream",
     "text": [
      "query_15 : Describe the primary purpose of study NCT01164592\n"
     ]
    },
    {
     "name": "stderr",
     "output_type": "stream",
     "text": [
      "Evaluating llama index:  55%|█████▍    | 12/22 [05:21<02:34, 15.43s/it]"
     ]
    },
    {
     "name": "stdout",
     "output_type": "stream",
     "text": [
      "question_16 : What intervention types are used in study NCT01164592?\n"
     ]
    },
    {
     "name": "stderr",
     "output_type": "stream",
     "text": [
      "Evaluating llama index:  59%|█████▉    | 13/22 [07:02<06:11, 41.28s/it]"
     ]
    },
    {
     "name": "stdout",
     "output_type": "stream",
     "text": [
      "timed out\n",
      "question_17 : Is blinding (a.k.a. masking) implemented in study NCT01164592? If so, select relevant from [PARTICIPANT, CARE_PROVIDER, INVESTIGATOR, OUTCOMES_ASSESSOR, NA]\n"
     ]
    },
    {
     "name": "stderr",
     "output_type": "stream",
     "text": [
      "Evaluating llama index:  64%|██████▎   | 14/22 [08:43<07:53, 59.22s/it]"
     ]
    },
    {
     "name": "stdout",
     "output_type": "stream",
     "text": [
      "timed out\n",
      "question_18 : What is the allocation strategy employed in study NCT01164592?\n"
     ]
    },
    {
     "name": "stderr",
     "output_type": "stream",
     "text": [
      "Evaluating llama index:  68%|██████▊   | 15/22 [08:52<04:08, 35.53s/it]\n"
     ]
    },
    {
     "ename": "AttributeError",
     "evalue": "'NoneType' object has no attribute 'format'",
     "output_type": "error",
     "traceback": [
      "\u001b[1;31m---------------------------------------------------------------------------\u001b[0m",
      "\u001b[1;31mAttributeError\u001b[0m                            Traceback (most recent call last)",
      "Cell \u001b[1;32mIn[11], line 6\u001b[0m\n\u001b[0;32m      3\u001b[0m sql_eval \u001b[38;5;241m=\u001b[39m pd\u001b[38;5;241m.\u001b[39mDataFrame([], index\u001b[38;5;241m=\u001b[39msql_eval_rows, columns\u001b[38;5;241m=\u001b[39msql_eval_cols)\n\u001b[0;32m      5\u001b[0m \u001b[38;5;28;01mfor\u001b[39;00m q, d \u001b[38;5;129;01min\u001b[39;00m tqdm(sql_queries_template\u001b[38;5;241m.\u001b[39mitems(), desc\u001b[38;5;241m=\u001b[39m \u001b[38;5;124m\"\u001b[39m\u001b[38;5;124mEvaluating llama index\u001b[39m\u001b[38;5;124m\"\u001b[39m):\n\u001b[1;32m----> 6\u001b[0m     question \u001b[38;5;241m=\u001b[39m \u001b[43md\u001b[49m\u001b[43m[\u001b[49m\u001b[38;5;124;43m\"\u001b[39;49m\u001b[38;5;124;43mquestion\u001b[39;49m\u001b[38;5;124;43m\"\u001b[39;49m\u001b[43m]\u001b[49m\u001b[38;5;241;43m.\u001b[39;49m\u001b[43mformat\u001b[49m(nctId\u001b[38;5;241m=\u001b[39mnctId, condition\u001b[38;5;241m=\u001b[39mcondition, intervention\u001b[38;5;241m=\u001b[39mintervention)\n\u001b[0;32m      7\u001b[0m     sql_query \u001b[38;5;241m=\u001b[39m d[\u001b[38;5;124m\"\u001b[39m\u001b[38;5;124mSQL\u001b[39m\u001b[38;5;124m\"\u001b[39m]\u001b[38;5;241m.\u001b[39mformat(nctId\u001b[38;5;241m=\u001b[39mnctId, condition\u001b[38;5;241m=\u001b[39mcondition, intervention\u001b[38;5;241m=\u001b[39mintervention)\n\u001b[0;32m      9\u001b[0m     \u001b[38;5;28mprint\u001b[39m(\u001b[38;5;124mf\u001b[39m\u001b[38;5;124m\"\u001b[39m\u001b[38;5;132;01m{\u001b[39;00mq\u001b[38;5;132;01m}\u001b[39;00m\u001b[38;5;124m : \u001b[39m\u001b[38;5;132;01m{\u001b[39;00mquestion\u001b[38;5;132;01m}\u001b[39;00m\u001b[38;5;124m\"\u001b[39m)\n",
      "\u001b[1;31mAttributeError\u001b[0m: 'NoneType' object has no attribute 'format'"
     ]
    }
   ],
   "source": [
    "sql_eval_cols = [\"question\", \"gold_std_query\", \"gold_std_answer\", \"llamaIndex_query\", \"llamaIndex_answer\"]\n",
    "sql_eval_rows = list(sql_queries_template.keys())\n",
    "sql_eval = pd.DataFrame([], index=sql_eval_rows, columns=sql_eval_cols)\n",
    "\n",
    "for q, d in tqdm(sql_queries_template.items(), desc= \"Evaluating llama index\"):\n",
    "    question = d[\"question\"].format(nctId=nctId, condition=condition, intervention=intervention)\n",
    "    sql_query = d[\"SQL\"].format(nctId=nctId, condition=condition, intervention=intervention)\n",
    "    \n",
    "    print(f\"{q} : {question}\")\n",
    "    \n",
    "    sql_eval.at[q, \"question\"] =  question\n",
    "    sql_eval.at[q, \"gold_std_query\"] = sql_query\n",
    "    \n",
    "    # Get gold standard answer\n",
    "    try :\n",
    "        answer = sql_db.run_sql(sql_query)[0]\n",
    "    except:\n",
    "        answer = \"No answer\"\n",
    "        \n",
    "    sql_eval.at[q, \"gold_std_answer\"] =  answer\n",
    "    \n",
    "    # Get LlamaIndex SQL query and answer\n",
    "    try:\n",
    "        response = query_engine.query(question)\n",
    "        sql_eval.at[q, \"llamaIndex_query\"] = response.metadata[\"sql_query\"]\n",
    "        sql_eval.at[q, \"llamaIndex_answer\"] = response.response\n",
    "    except (ReadTimeout, Timeout, TimeoutError):\n",
    "        print(\"Time out!\")\n",
    "        sql_eval.at[q, \"llamaIndex_query\"] = \"ReadTimeout\"\n",
    "        sql_eval.at[q, \"llamaIndex_answer\"] = \"ReadTimeout\"\n",
    "    except Exception as e:\n",
    "        print(e)\n",
    "        sql_eval.at[q, \"llamaIndex_query\"] = e\n",
    "        sql_eval.at[q, \"llamaIndex_answer\"] = e\n"
   ]
  },
  {
   "cell_type": "code",
   "execution_count": null,
   "metadata": {},
   "outputs": [],
   "source": [
    "if not os.path.isdir(\"./results/txt2sql/\"):\n",
    "    os.makedirs(\"./results/txt2sql/\")\n",
    "sql_eval.to_csv(\"./results/txt2sql/llamaindex.eval.tsv\", sep=\"\\t\")"
   ]
  },
  {
   "cell_type": "code",
   "execution_count": null,
   "metadata": {},
   "outputs": [],
   "source": [
    "from llama_index.core.indices.struct_store.sql_query import (\n",
    "    SQLTableRetrieverQueryEngine,\n",
    ")\n",
    "from llama_index.core.objects import (\n",
    "    SQLTableNodeMapping,\n",
    "    ObjectIndex,\n",
    "    SQLTableSchema,\n",
    ")\n",
    "from llama_index.core import VectorStoreIndex\n",
    "\n",
    "# set Logging to DEBUG for more detailed outputs\n",
    "table_node_mapping = SQLTableNodeMapping(sql_db)\n",
    "table_schema_objs = [(SQLTableSchema(table_name=t)) for t in tables] \n",
    "\n",
    "obj_index = ObjectIndex.from_objects(\n",
    "    table_schema_objs,\n",
    "    table_node_mapping,\n",
    "    VectorStoreIndex,\n",
    ")\n",
    "query_engine = SQLTableRetrieverQueryEngine(\n",
    "    sql_db, obj_index.as_retriever(similarity_top_k=3)\n",
    ")"
   ]
  },
  {
   "cell_type": "code",
   "execution_count": null,
   "metadata": {},
   "outputs": [],
   "source": [
    "response = query_engine.query(sql_queries_template[\"query_1\"][\"question\"].format(nctId=nctId))\n",
    "print(response)\n",
    "print(\"######\")\n",
    "print(response.metadata[\"sql_query\"])\n",
    "print(\"######\")\n",
    "print(response.metadata[\"result\"])"
   ]
  },
  {
   "cell_type": "code",
   "execution_count": null,
   "metadata": {},
   "outputs": [],
   "source": [
    "query_str = (\n",
    "    \"Which clinical trial are associated with the condition 'Asthma' \"\n",
    "    \"and conducted in the United States, China, and India, while involving the \"\n",
    "    \"intervention 'Xhance', and reporting more than five affected subjects \"\n",
    "    \"in either 'deaths' or 'serious' adverse events?\"\n",
    ")"
   ]
  },
  {
   "cell_type": "code",
   "execution_count": null,
   "metadata": {},
   "outputs": [],
   "source": [
    "print(query_str)"
   ]
  },
  {
   "cell_type": "code",
   "execution_count": null,
   "metadata": {},
   "outputs": [],
   "source": [
    "response = query_engine.query(query_str)\n",
    "print(response)\n",
    "print(\"######\")\n",
    "print(response.metadata[\"sql_query\"])\n",
    "print(\"######\")\n",
    "print(response.metadata[\"result\"])"
   ]
  },
  {
   "cell_type": "code",
   "execution_count": null,
   "metadata": {},
   "outputs": [],
   "source": []
  }
 ],
 "metadata": {
  "kernelspec": {
   "display_name": ".venv",
   "language": "python",
   "name": "python3"
  },
  "language_info": {
   "codemirror_mode": {
    "name": "ipython",
    "version": 3
   },
   "file_extension": ".py",
   "mimetype": "text/x-python",
   "name": "python",
   "nbconvert_exporter": "python",
   "pygments_lexer": "ipython3",
   "version": "3.11.5"
  }
 },
 "nbformat": 4,
 "nbformat_minor": 2
}
