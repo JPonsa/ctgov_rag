{
 "cells": [
  {
   "cell_type": "code",
   "execution_count": 1,
   "metadata": {},
   "outputs": [],
   "source": [
    "username = \"tester\"\n",
    "password  = \"password\"\n",
    "url = \"bolt://localhost:7687\"\n",
    "database=\"ctgov\"\n",
    "node_label= \"AdverseEvent\", \n",
    "embedding_node_property=\"biobert_emb\"\n",
    "index_name = \"adverse_event\"\n",
    "text_node_properties = [\"term\",\"organ_system\"]\n",
    "user_query = \"Anaemia\""
   ]
  },
  {
   "cell_type": "code",
   "execution_count": 9,
   "metadata": {},
   "outputs": [
    {
     "name": "stdout",
     "output_type": "stream",
     "text": [
      "Empty Response\n"
     ]
    }
   ],
   "source": [
    "from llama_index.llms.ollama import Ollama\n",
    "from llama_index.core import Settings\n",
    "from llama_index.embeddings.huggingface import HuggingFaceEmbedding as LI_HF\n",
    "\n",
    "from llama_index.vector_stores.neo4jvector import Neo4jVectorStore\n",
    "from llama_index.core import VectorStoreIndex\n",
    "\n",
    "llm = Ollama(model=\"mistral\", request_timeout=30.0)\n",
    "li_biobert = LI_HF(model_name=\"dmis-lab/biobert-base-cased-v1.1\")\n",
    "\n",
    "Settings.llm = llm\n",
    "Settings.embed_model = li_biobert\n",
    "\n",
    "neo4j_vector = Neo4jVectorStore(\n",
    "    username,\n",
    "    password,\n",
    "    url,\n",
    "    768,\n",
    "    node_label= node_label, \n",
    "    embedding_node_property= embedding_node_property, \n",
    "    text_node_property= text_node_properties[0],\n",
    "    index_name=index_name,\n",
    "    keyword_index_name= \"keyword\",\n",
    "    hybrid_search=True\n",
    ")\n",
    "\n",
    "loaded_index = VectorStoreIndex.from_vector_store(neo4j_vector).as_query_engine()\n",
    "test= loaded_index.query(user_query)\n",
    "print(test)"
   ]
  },
  {
   "cell_type": "code",
   "execution_count": null,
   "metadata": {},
   "outputs": [],
   "source": [
    "from langchain_community.vectorstores import Neo4jVector\n",
    "from langchain_community.embeddings import HuggingFaceEmbeddings as LC_HF\n",
    "\n",
    "lc_biobert = LC_HF(model_name=\"dmis-lab/biobert-base-cased-v1.1\")\n",
    "\n",
    "adverse_event = Neo4jVector.from_existing_graph(\n",
    "    username=username, \n",
    "    password=password, \n",
    "    database=database,\n",
    "    url=url,\n",
    "    node_label= node_label, \n",
    "    embedding_node_property= embedding_node_property, \n",
    "    text_node_properties= text_node_properties,\n",
    "    index_name=index_name,\n",
    "    search_type=\"hybrid\",\n",
    "    keyword_index_name= \"adverse_event_kw\",\n",
    "    embedding= lc_biobert,\n",
    "    )\n",
    "\n",
    "test = adverse_event.similarity_search_with_score(user_query, k=3)\n",
    "print(test)"
   ]
  },
  {
   "cell_type": "markdown",
   "metadata": {},
   "source": [
    "text2sql"
   ]
  },
  {
   "cell_type": "markdown",
   "metadata": {},
   "source": []
  }
 ],
 "metadata": {
  "kernelspec": {
   "display_name": ".venv",
   "language": "python",
   "name": "python3"
  },
  "language_info": {
   "codemirror_mode": {
    "name": "ipython",
    "version": 3
   },
   "file_extension": ".py",
   "mimetype": "text/x-python",
   "name": "python",
   "nbconvert_exporter": "python",
   "pygments_lexer": "ipython3",
   "version": "3.11.5"
  }
 },
 "nbformat": 4,
 "nbformat_minor": 2
}
